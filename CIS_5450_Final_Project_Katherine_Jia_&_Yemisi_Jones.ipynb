{
  "cells": [
    {
      "cell_type": "markdown",
      "metadata": {
        "id": "eoLZtERmH3Cx"
      },
      "source": [
        "# **CIS 5450 Final Project - Spotify Song Popularity Prediction**\n",
        "Katherine Jia, Yemisi Jones"
      ]
    },
    {
      "cell_type": "markdown",
      "metadata": {
        "id": "zW8H_M2zIj6I"
      },
      "source": [
        "# Introduction & Background"
      ]
    },
    {
      "cell_type": "markdown",
      "metadata": {
        "id": "Rf9HX0T5I82e"
      },
      "source": [
        "The goal of this final project was to train a model to predict song popularity on Spotify using acoustic features. This problem stood out to us because we were interested in learning about what makes a song popular, which is likely also of interest to songwriters, producers, and stakeholders in music production companies. We selected a dataset `songs_df` that contains a variety of attributes, including energy, loudness, duration, and danceability, for over 200,000 songs on Spotify. Through our exploratory data analysis, we were able to gain insight into the correlation between various feature variables, as well as the correlation between various features and song popularity. Notably, the danceability of a song seems to be highly correlated with popularity, as well as acousticness, as can be seen from our scatterplots."
      ]
    },
    {
      "cell_type": "markdown",
      "metadata": {
        "id": "ibBweogRveVu"
      },
      "source": [
        "# Data Loading & Cleaning"
      ]
    },
    {
      "cell_type": "code",
      "execution_count": null,
      "metadata": {
        "colab": {
          "base_uri": "https://localhost:8080/"
        },
        "id": "7rw83DMqDg4T",
        "outputId": "8d36ca87-e1cd-4f01-b825-449ddc112a67"
      },
      "outputs": [
        {
          "output_type": "stream",
          "name": "stdout",
          "text": [
            "Requirement already satisfied: pandasql in /usr/local/lib/python3.10/dist-packages (0.7.3)\n",
            "Requirement already satisfied: numpy in /usr/local/lib/python3.10/dist-packages (from pandasql) (1.25.2)\n",
            "Requirement already satisfied: pandas in /usr/local/lib/python3.10/dist-packages (from pandasql) (2.0.3)\n",
            "Requirement already satisfied: sqlalchemy in /usr/local/lib/python3.10/dist-packages (from pandasql) (2.0.29)\n",
            "Requirement already satisfied: python-dateutil>=2.8.2 in /usr/local/lib/python3.10/dist-packages (from pandas->pandasql) (2.8.2)\n",
            "Requirement already satisfied: pytz>=2020.1 in /usr/local/lib/python3.10/dist-packages (from pandas->pandasql) (2023.4)\n",
            "Requirement already satisfied: tzdata>=2022.1 in /usr/local/lib/python3.10/dist-packages (from pandas->pandasql) (2024.1)\n",
            "Requirement already satisfied: typing-extensions>=4.6.0 in /usr/local/lib/python3.10/dist-packages (from sqlalchemy->pandasql) (4.11.0)\n",
            "Requirement already satisfied: greenlet!=0.4.17 in /usr/local/lib/python3.10/dist-packages (from sqlalchemy->pandasql) (3.0.3)\n",
            "Requirement already satisfied: six>=1.5 in /usr/local/lib/python3.10/dist-packages (from python-dateutil>=2.8.2->pandas->pandasql) (1.16.0)\n",
            "Requirement already satisfied: bayesian-optimization in /usr/local/lib/python3.10/dist-packages (1.4.3)\n",
            "Requirement already satisfied: numpy>=1.9.0 in /usr/local/lib/python3.10/dist-packages (from bayesian-optimization) (1.25.2)\n",
            "Requirement already satisfied: scipy>=1.0.0 in /usr/local/lib/python3.10/dist-packages (from bayesian-optimization) (1.11.4)\n",
            "Requirement already satisfied: scikit-learn>=0.18.0 in /usr/local/lib/python3.10/dist-packages (from bayesian-optimization) (1.2.2)\n",
            "Requirement already satisfied: colorama>=0.4.6 in /usr/local/lib/python3.10/dist-packages (from bayesian-optimization) (0.4.6)\n",
            "Requirement already satisfied: joblib>=1.1.1 in /usr/local/lib/python3.10/dist-packages (from scikit-learn>=0.18.0->bayesian-optimization) (1.4.0)\n",
            "Requirement already satisfied: threadpoolctl>=2.0.0 in /usr/local/lib/python3.10/dist-packages (from scikit-learn>=0.18.0->bayesian-optimization) (3.4.0)\n"
          ]
        }
      ],
      "source": [
        "# Installs\n",
        "!pip install pandasql\n",
        "!pip install -U bayesian-optimization"
      ]
    },
    {
      "cell_type": "code",
      "execution_count": null,
      "metadata": {
        "id": "U3wJVi8SwZf3"
      },
      "outputs": [],
      "source": [
        "# Imports\n",
        "import pandas as pd\n",
        "import pandasql as ps\n",
        "import math\n",
        "import numpy as np\n",
        "import matplotlib.pyplot as plt\n",
        "import seaborn as sns\n",
        "from google.colab import drive\n",
        "from sklearn.preprocessing import OneHotEncoder, StandardScaler\n",
        "from sklearn.decomposition import PCA\n",
        "from sklearn.pipeline import Pipeline\n",
        "from sklearn.linear_model import LinearRegression\n",
        "from sklearn.metrics import mean_squared_error, r2_score\n",
        "from sklearn import datasets, linear_model\n",
        "from xgboost import XGBRegressor\n",
        "from sklearn.ensemble import GradientBoostingRegressor, RandomForestRegressor\n",
        "from sklearn.model_selection import train_test_split, GridSearchCV, RandomizedSearchCV, cross_val_score, StratifiedKFold\n",
        "from sklearn.feature_selection import RFECV\n",
        "from bayes_opt import BayesianOptimization"
      ]
    },
    {
      "cell_type": "markdown",
      "metadata": {
        "id": "kSHOlxrcwlQe"
      },
      "source": [
        "## Loading Spotify Data"
      ]
    },
    {
      "cell_type": "markdown",
      "metadata": {
        "id": "_szrpSAOxkao"
      },
      "source": [
        "We decided to download the [dataset](https://drive.google.com/file/d/1mts3GI7mozRauRKXVDkoSw5BCFc103p0/view?usp=sharing) from Kaggle and mount to the local Google Drive."
      ]
    },
    {
      "cell_type": "code",
      "execution_count": null,
      "metadata": {
        "colab": {
          "base_uri": "https://localhost:8080/"
        },
        "id": "alQXsjthxc0K",
        "outputId": "fb10d2ba-c03c-4c72-a135-9cdacb03b189"
      },
      "outputs": [
        {
          "output_type": "stream",
          "name": "stdout",
          "text": [
            "Mounted at /content/drive\n"
          ]
        }
      ],
      "source": [
        "drive.mount('/content/drive')"
      ]
    },
    {
      "cell_type": "code",
      "execution_count": null,
      "metadata": {
        "id": "oJLtEnHHyIgQ"
      },
      "outputs": [],
      "source": [
        "# Create the kaggle directory\n",
        "!mkdir ~/.kaggle"
      ]
    },
    {
      "cell_type": "code",
      "execution_count": null,
      "metadata": {
        "id": "DJKm3OMLyP3m"
      },
      "outputs": [],
      "source": [
        "# Read the uploaded kaggle.json file\n",
        "!cp /content/drive/MyDrive/kaggle.json ~/.kaggle/"
      ]
    },
    {
      "cell_type": "code",
      "execution_count": null,
      "metadata": {
        "colab": {
          "base_uri": "https://localhost:8080/"
        },
        "id": "YaJK3Zd3ylMK",
        "outputId": "458c9250-c6a4-45a7-f198-2b0a46d30c29"
      },
      "outputs": [
        {
          "output_type": "stream",
          "name": "stdout",
          "text": [
            "Downloading spotify-audio-features.zip to /content\n",
            "\r  0% 0.00/17.4M [00:00<?, ?B/s]\r 40% 7.00M/17.4M [00:00<00:00, 71.5MB/s]\n",
            "\r100% 17.4M/17.4M [00:00<00:00, 96.5MB/s]\n"
          ]
        }
      ],
      "source": [
        "# Download 'Spotify 1.2M+ Songs' dataset\n",
        "!kaggle datasets download -d tomigelo/spotify-audio-features"
      ]
    },
    {
      "cell_type": "code",
      "execution_count": null,
      "metadata": {
        "colab": {
          "base_uri": "https://localhost:8080/"
        },
        "id": "M-T9goIky3F-",
        "outputId": "efa2f46c-9b06-4441-e861-cf023a7ebf65"
      },
      "outputs": [
        {
          "output_type": "stream",
          "name": "stdout",
          "text": [
            "Archive:  /content/spotify-audio-features.zip\n",
            "  inflating: SpotifyAudioFeaturesApril2019.csv  \n",
            "  inflating: SpotifyAudioFeaturesNov2018.csv  \n"
          ]
        }
      ],
      "source": [
        "# Unzip folder in Colab content folder\n",
        "!unzip /content/spotify-audio-features.zip"
      ]
    },
    {
      "cell_type": "code",
      "execution_count": null,
      "metadata": {
        "id": "Nuyt8sA2zBn7"
      },
      "outputs": [],
      "source": [
        "# Read the csv files into pandas dataframes 'songs_df_18' and 'songs_df_19'\n",
        "songs_df_18 = pd.read_csv('SpotifyAudioFeaturesApril2019.csv')\n",
        "songs_df_19 = pd.read_csv('SpotifyAudioFeaturesNov2018.csv')"
      ]
    },
    {
      "cell_type": "markdown",
      "metadata": {
        "id": "IPg_dErWzoDz"
      },
      "source": [
        "## Preprocessing Spotify Data"
      ]
    },
    {
      "cell_type": "markdown",
      "metadata": {
        "id": "8bxvIHXo9Pyu"
      },
      "source": [
        "### Joining Dataframes"
      ]
    },
    {
      "cell_type": "code",
      "execution_count": null,
      "metadata": {
        "colab": {
          "base_uri": "https://localhost:8080/",
          "height": 365
        },
        "id": "zJS6OMASzUlw",
        "outputId": "8a081435-850f-42e2-a9a9-80a3d51650b5"
      },
      "outputs": [
        {
          "output_type": "execute_result",
          "data": {
            "text/plain": [
              "  artist_name                track_id  \\\n",
              "0          YG  2RM4jf1Xa9zPgMGRDiht8O   \n",
              "1          YG  1tHDG53xJNGsItRA3vfVgs   \n",
              "2       R3HAB  6Wosx2euFPMT14UXiWudMy   \n",
              "3  Chris Cooq  3J2Jpw61sO7l6Hc7qdYV91   \n",
              "4  Chris Cooq  2jbYvQCyPgX3CdmAzeVeuS   \n",
              "\n",
              "                                       track_name  acousticness  danceability  \\\n",
              "0  Big Bank feat. 2 Chainz, Big Sean, Nicki Minaj      0.005820         0.743   \n",
              "1                    BAND DRUM (feat. A$AP Rocky)      0.024400         0.846   \n",
              "2                                   Radio Silence      0.025000         0.603   \n",
              "3                                         Lactose      0.029400         0.800   \n",
              "4                             Same - Original mix      0.000035         0.783   \n",
              "\n",
              "   duration_ms  energy  instrumentalness  key  liveness  loudness  mode  \\\n",
              "0       238373   0.339             0.000    1    0.0812    -7.678     1   \n",
              "1       214800   0.557             0.000    8    0.2860    -7.259     1   \n",
              "2       138913   0.723             0.000    9    0.0824    -5.890     0   \n",
              "3       125381   0.579             0.912    5    0.0994   -12.118     0   \n",
              "4       124016   0.792             0.878    7    0.0332   -10.277     1   \n",
              "\n",
              "   speechiness    tempo  time_signature  valence  popularity  \n",
              "0       0.4090  203.927               4    0.118          15  \n",
              "1       0.4570  159.009               4    0.371           0  \n",
              "2       0.0454  114.966               4    0.382          56  \n",
              "3       0.0701  123.003               4    0.641           0  \n",
              "4       0.0661  120.047               4    0.928           0  "
            ],
            "text/html": [
              "\n",
              "  <div id=\"df-b23d66e9-baf3-48a8-b8d0-713b52b77ba8\" class=\"colab-df-container\">\n",
              "    <div>\n",
              "<style scoped>\n",
              "    .dataframe tbody tr th:only-of-type {\n",
              "        vertical-align: middle;\n",
              "    }\n",
              "\n",
              "    .dataframe tbody tr th {\n",
              "        vertical-align: top;\n",
              "    }\n",
              "\n",
              "    .dataframe thead th {\n",
              "        text-align: right;\n",
              "    }\n",
              "</style>\n",
              "<table border=\"1\" class=\"dataframe\">\n",
              "  <thead>\n",
              "    <tr style=\"text-align: right;\">\n",
              "      <th></th>\n",
              "      <th>artist_name</th>\n",
              "      <th>track_id</th>\n",
              "      <th>track_name</th>\n",
              "      <th>acousticness</th>\n",
              "      <th>danceability</th>\n",
              "      <th>duration_ms</th>\n",
              "      <th>energy</th>\n",
              "      <th>instrumentalness</th>\n",
              "      <th>key</th>\n",
              "      <th>liveness</th>\n",
              "      <th>loudness</th>\n",
              "      <th>mode</th>\n",
              "      <th>speechiness</th>\n",
              "      <th>tempo</th>\n",
              "      <th>time_signature</th>\n",
              "      <th>valence</th>\n",
              "      <th>popularity</th>\n",
              "    </tr>\n",
              "  </thead>\n",
              "  <tbody>\n",
              "    <tr>\n",
              "      <th>0</th>\n",
              "      <td>YG</td>\n",
              "      <td>2RM4jf1Xa9zPgMGRDiht8O</td>\n",
              "      <td>Big Bank feat. 2 Chainz, Big Sean, Nicki Minaj</td>\n",
              "      <td>0.005820</td>\n",
              "      <td>0.743</td>\n",
              "      <td>238373</td>\n",
              "      <td>0.339</td>\n",
              "      <td>0.000</td>\n",
              "      <td>1</td>\n",
              "      <td>0.0812</td>\n",
              "      <td>-7.678</td>\n",
              "      <td>1</td>\n",
              "      <td>0.4090</td>\n",
              "      <td>203.927</td>\n",
              "      <td>4</td>\n",
              "      <td>0.118</td>\n",
              "      <td>15</td>\n",
              "    </tr>\n",
              "    <tr>\n",
              "      <th>1</th>\n",
              "      <td>YG</td>\n",
              "      <td>1tHDG53xJNGsItRA3vfVgs</td>\n",
              "      <td>BAND DRUM (feat. A$AP Rocky)</td>\n",
              "      <td>0.024400</td>\n",
              "      <td>0.846</td>\n",
              "      <td>214800</td>\n",
              "      <td>0.557</td>\n",
              "      <td>0.000</td>\n",
              "      <td>8</td>\n",
              "      <td>0.2860</td>\n",
              "      <td>-7.259</td>\n",
              "      <td>1</td>\n",
              "      <td>0.4570</td>\n",
              "      <td>159.009</td>\n",
              "      <td>4</td>\n",
              "      <td>0.371</td>\n",
              "      <td>0</td>\n",
              "    </tr>\n",
              "    <tr>\n",
              "      <th>2</th>\n",
              "      <td>R3HAB</td>\n",
              "      <td>6Wosx2euFPMT14UXiWudMy</td>\n",
              "      <td>Radio Silence</td>\n",
              "      <td>0.025000</td>\n",
              "      <td>0.603</td>\n",
              "      <td>138913</td>\n",
              "      <td>0.723</td>\n",
              "      <td>0.000</td>\n",
              "      <td>9</td>\n",
              "      <td>0.0824</td>\n",
              "      <td>-5.890</td>\n",
              "      <td>0</td>\n",
              "      <td>0.0454</td>\n",
              "      <td>114.966</td>\n",
              "      <td>4</td>\n",
              "      <td>0.382</td>\n",
              "      <td>56</td>\n",
              "    </tr>\n",
              "    <tr>\n",
              "      <th>3</th>\n",
              "      <td>Chris Cooq</td>\n",
              "      <td>3J2Jpw61sO7l6Hc7qdYV91</td>\n",
              "      <td>Lactose</td>\n",
              "      <td>0.029400</td>\n",
              "      <td>0.800</td>\n",
              "      <td>125381</td>\n",
              "      <td>0.579</td>\n",
              "      <td>0.912</td>\n",
              "      <td>5</td>\n",
              "      <td>0.0994</td>\n",
              "      <td>-12.118</td>\n",
              "      <td>0</td>\n",
              "      <td>0.0701</td>\n",
              "      <td>123.003</td>\n",
              "      <td>4</td>\n",
              "      <td>0.641</td>\n",
              "      <td>0</td>\n",
              "    </tr>\n",
              "    <tr>\n",
              "      <th>4</th>\n",
              "      <td>Chris Cooq</td>\n",
              "      <td>2jbYvQCyPgX3CdmAzeVeuS</td>\n",
              "      <td>Same - Original mix</td>\n",
              "      <td>0.000035</td>\n",
              "      <td>0.783</td>\n",
              "      <td>124016</td>\n",
              "      <td>0.792</td>\n",
              "      <td>0.878</td>\n",
              "      <td>7</td>\n",
              "      <td>0.0332</td>\n",
              "      <td>-10.277</td>\n",
              "      <td>1</td>\n",
              "      <td>0.0661</td>\n",
              "      <td>120.047</td>\n",
              "      <td>4</td>\n",
              "      <td>0.928</td>\n",
              "      <td>0</td>\n",
              "    </tr>\n",
              "  </tbody>\n",
              "</table>\n",
              "</div>\n",
              "    <div class=\"colab-df-buttons\">\n",
              "\n",
              "  <div class=\"colab-df-container\">\n",
              "    <button class=\"colab-df-convert\" onclick=\"convertToInteractive('df-b23d66e9-baf3-48a8-b8d0-713b52b77ba8')\"\n",
              "            title=\"Convert this dataframe to an interactive table.\"\n",
              "            style=\"display:none;\">\n",
              "\n",
              "  <svg xmlns=\"http://www.w3.org/2000/svg\" height=\"24px\" viewBox=\"0 -960 960 960\">\n",
              "    <path d=\"M120-120v-720h720v720H120Zm60-500h600v-160H180v160Zm220 220h160v-160H400v160Zm0 220h160v-160H400v160ZM180-400h160v-160H180v160Zm440 0h160v-160H620v160ZM180-180h160v-160H180v160Zm440 0h160v-160H620v160Z\"/>\n",
              "  </svg>\n",
              "    </button>\n",
              "\n",
              "  <style>\n",
              "    .colab-df-container {\n",
              "      display:flex;\n",
              "      gap: 12px;\n",
              "    }\n",
              "\n",
              "    .colab-df-convert {\n",
              "      background-color: #E8F0FE;\n",
              "      border: none;\n",
              "      border-radius: 50%;\n",
              "      cursor: pointer;\n",
              "      display: none;\n",
              "      fill: #1967D2;\n",
              "      height: 32px;\n",
              "      padding: 0 0 0 0;\n",
              "      width: 32px;\n",
              "    }\n",
              "\n",
              "    .colab-df-convert:hover {\n",
              "      background-color: #E2EBFA;\n",
              "      box-shadow: 0px 1px 2px rgba(60, 64, 67, 0.3), 0px 1px 3px 1px rgba(60, 64, 67, 0.15);\n",
              "      fill: #174EA6;\n",
              "    }\n",
              "\n",
              "    .colab-df-buttons div {\n",
              "      margin-bottom: 4px;\n",
              "    }\n",
              "\n",
              "    [theme=dark] .colab-df-convert {\n",
              "      background-color: #3B4455;\n",
              "      fill: #D2E3FC;\n",
              "    }\n",
              "\n",
              "    [theme=dark] .colab-df-convert:hover {\n",
              "      background-color: #434B5C;\n",
              "      box-shadow: 0px 1px 3px 1px rgba(0, 0, 0, 0.15);\n",
              "      filter: drop-shadow(0px 1px 2px rgba(0, 0, 0, 0.3));\n",
              "      fill: #FFFFFF;\n",
              "    }\n",
              "  </style>\n",
              "\n",
              "    <script>\n",
              "      const buttonEl =\n",
              "        document.querySelector('#df-b23d66e9-baf3-48a8-b8d0-713b52b77ba8 button.colab-df-convert');\n",
              "      buttonEl.style.display =\n",
              "        google.colab.kernel.accessAllowed ? 'block' : 'none';\n",
              "\n",
              "      async function convertToInteractive(key) {\n",
              "        const element = document.querySelector('#df-b23d66e9-baf3-48a8-b8d0-713b52b77ba8');\n",
              "        const dataTable =\n",
              "          await google.colab.kernel.invokeFunction('convertToInteractive',\n",
              "                                                    [key], {});\n",
              "        if (!dataTable) return;\n",
              "\n",
              "        const docLinkHtml = 'Like what you see? Visit the ' +\n",
              "          '<a target=\"_blank\" href=https://colab.research.google.com/notebooks/data_table.ipynb>data table notebook</a>'\n",
              "          + ' to learn more about interactive tables.';\n",
              "        element.innerHTML = '';\n",
              "        dataTable['output_type'] = 'display_data';\n",
              "        await google.colab.output.renderOutput(dataTable, element);\n",
              "        const docLink = document.createElement('div');\n",
              "        docLink.innerHTML = docLinkHtml;\n",
              "        element.appendChild(docLink);\n",
              "      }\n",
              "    </script>\n",
              "  </div>\n",
              "\n",
              "\n",
              "<div id=\"df-f672dc7b-db06-4e73-877f-19dc12a4ac92\">\n",
              "  <button class=\"colab-df-quickchart\" onclick=\"quickchart('df-f672dc7b-db06-4e73-877f-19dc12a4ac92')\"\n",
              "            title=\"Suggest charts\"\n",
              "            style=\"display:none;\">\n",
              "\n",
              "<svg xmlns=\"http://www.w3.org/2000/svg\" height=\"24px\"viewBox=\"0 0 24 24\"\n",
              "     width=\"24px\">\n",
              "    <g>\n",
              "        <path d=\"M19 3H5c-1.1 0-2 .9-2 2v14c0 1.1.9 2 2 2h14c1.1 0 2-.9 2-2V5c0-1.1-.9-2-2-2zM9 17H7v-7h2v7zm4 0h-2V7h2v10zm4 0h-2v-4h2v4z\"/>\n",
              "    </g>\n",
              "</svg>\n",
              "  </button>\n",
              "\n",
              "<style>\n",
              "  .colab-df-quickchart {\n",
              "      --bg-color: #E8F0FE;\n",
              "      --fill-color: #1967D2;\n",
              "      --hover-bg-color: #E2EBFA;\n",
              "      --hover-fill-color: #174EA6;\n",
              "      --disabled-fill-color: #AAA;\n",
              "      --disabled-bg-color: #DDD;\n",
              "  }\n",
              "\n",
              "  [theme=dark] .colab-df-quickchart {\n",
              "      --bg-color: #3B4455;\n",
              "      --fill-color: #D2E3FC;\n",
              "      --hover-bg-color: #434B5C;\n",
              "      --hover-fill-color: #FFFFFF;\n",
              "      --disabled-bg-color: #3B4455;\n",
              "      --disabled-fill-color: #666;\n",
              "  }\n",
              "\n",
              "  .colab-df-quickchart {\n",
              "    background-color: var(--bg-color);\n",
              "    border: none;\n",
              "    border-radius: 50%;\n",
              "    cursor: pointer;\n",
              "    display: none;\n",
              "    fill: var(--fill-color);\n",
              "    height: 32px;\n",
              "    padding: 0;\n",
              "    width: 32px;\n",
              "  }\n",
              "\n",
              "  .colab-df-quickchart:hover {\n",
              "    background-color: var(--hover-bg-color);\n",
              "    box-shadow: 0 1px 2px rgba(60, 64, 67, 0.3), 0 1px 3px 1px rgba(60, 64, 67, 0.15);\n",
              "    fill: var(--button-hover-fill-color);\n",
              "  }\n",
              "\n",
              "  .colab-df-quickchart-complete:disabled,\n",
              "  .colab-df-quickchart-complete:disabled:hover {\n",
              "    background-color: var(--disabled-bg-color);\n",
              "    fill: var(--disabled-fill-color);\n",
              "    box-shadow: none;\n",
              "  }\n",
              "\n",
              "  .colab-df-spinner {\n",
              "    border: 2px solid var(--fill-color);\n",
              "    border-color: transparent;\n",
              "    border-bottom-color: var(--fill-color);\n",
              "    animation:\n",
              "      spin 1s steps(1) infinite;\n",
              "  }\n",
              "\n",
              "  @keyframes spin {\n",
              "    0% {\n",
              "      border-color: transparent;\n",
              "      border-bottom-color: var(--fill-color);\n",
              "      border-left-color: var(--fill-color);\n",
              "    }\n",
              "    20% {\n",
              "      border-color: transparent;\n",
              "      border-left-color: var(--fill-color);\n",
              "      border-top-color: var(--fill-color);\n",
              "    }\n",
              "    30% {\n",
              "      border-color: transparent;\n",
              "      border-left-color: var(--fill-color);\n",
              "      border-top-color: var(--fill-color);\n",
              "      border-right-color: var(--fill-color);\n",
              "    }\n",
              "    40% {\n",
              "      border-color: transparent;\n",
              "      border-right-color: var(--fill-color);\n",
              "      border-top-color: var(--fill-color);\n",
              "    }\n",
              "    60% {\n",
              "      border-color: transparent;\n",
              "      border-right-color: var(--fill-color);\n",
              "    }\n",
              "    80% {\n",
              "      border-color: transparent;\n",
              "      border-right-color: var(--fill-color);\n",
              "      border-bottom-color: var(--fill-color);\n",
              "    }\n",
              "    90% {\n",
              "      border-color: transparent;\n",
              "      border-bottom-color: var(--fill-color);\n",
              "    }\n",
              "  }\n",
              "</style>\n",
              "\n",
              "  <script>\n",
              "    async function quickchart(key) {\n",
              "      const quickchartButtonEl =\n",
              "        document.querySelector('#' + key + ' button');\n",
              "      quickchartButtonEl.disabled = true;  // To prevent multiple clicks.\n",
              "      quickchartButtonEl.classList.add('colab-df-spinner');\n",
              "      try {\n",
              "        const charts = await google.colab.kernel.invokeFunction(\n",
              "            'suggestCharts', [key], {});\n",
              "      } catch (error) {\n",
              "        console.error('Error during call to suggestCharts:', error);\n",
              "      }\n",
              "      quickchartButtonEl.classList.remove('colab-df-spinner');\n",
              "      quickchartButtonEl.classList.add('colab-df-quickchart-complete');\n",
              "    }\n",
              "    (() => {\n",
              "      let quickchartButtonEl =\n",
              "        document.querySelector('#df-f672dc7b-db06-4e73-877f-19dc12a4ac92 button');\n",
              "      quickchartButtonEl.style.display =\n",
              "        google.colab.kernel.accessAllowed ? 'block' : 'none';\n",
              "    })();\n",
              "  </script>\n",
              "</div>\n",
              "    </div>\n",
              "  </div>\n"
            ],
            "application/vnd.google.colaboratory.intrinsic+json": {
              "type": "dataframe",
              "variable_name": "songs_df_18"
            }
          },
          "metadata": {},
          "execution_count": 11
        }
      ],
      "source": [
        "# View the first five rows of 'songs_df_18'\n",
        "pd.set_option('display.max_columns', None)\n",
        "songs_df_18.head(5)"
      ]
    },
    {
      "cell_type": "code",
      "execution_count": null,
      "metadata": {
        "colab": {
          "base_uri": "https://localhost:8080/",
          "height": 365
        },
        "id": "mniw0U9B9Izu",
        "outputId": "60a2bc37-d723-478d-afed-66c93a77743c"
      },
      "outputs": [
        {
          "output_type": "execute_result",
          "data": {
            "text/plain": [
              "  artist_name                track_id  \\\n",
              "0          YG  2RM4jf1Xa9zPgMGRDiht8O   \n",
              "1          YG  1tHDG53xJNGsItRA3vfVgs   \n",
              "2       R3HAB  6Wosx2euFPMT14UXiWudMy   \n",
              "3  Chris Cooq  3J2Jpw61sO7l6Hc7qdYV91   \n",
              "4  Chris Cooq  2jbYvQCyPgX3CdmAzeVeuS   \n",
              "\n",
              "                                       track_name  acousticness  danceability  \\\n",
              "0  Big Bank feat. 2 Chainz, Big Sean, Nicki Minaj      0.005820         0.743   \n",
              "1                    BAND DRUM (feat. A$AP Rocky)      0.024400         0.846   \n",
              "2                                   Radio Silence      0.025000         0.603   \n",
              "3                                         Lactose      0.029400         0.800   \n",
              "4                             Same - Original mix      0.000035         0.783   \n",
              "\n",
              "   duration_ms  energy  instrumentalness  key  liveness  loudness  mode  \\\n",
              "0       238373   0.339             0.000    1    0.0812    -7.678     1   \n",
              "1       214800   0.557             0.000    8    0.2860    -7.259     1   \n",
              "2       138913   0.723             0.000    9    0.0824    -5.890     0   \n",
              "3       125381   0.579             0.912    5    0.0994   -12.118     0   \n",
              "4       124016   0.792             0.878    7    0.0332   -10.277     1   \n",
              "\n",
              "   speechiness    tempo  time_signature  valence  popularity  \n",
              "0       0.4090  203.927               4    0.118          44  \n",
              "1       0.4570  159.009               4    0.371          10  \n",
              "2       0.0454  114.966               4    0.382          63  \n",
              "3       0.0701  123.003               4    0.641           9  \n",
              "4       0.0661  120.047               4    0.928           8  "
            ],
            "text/html": [
              "\n",
              "  <div id=\"df-6afdd27d-6f07-4c08-be73-e2ade76920a2\" class=\"colab-df-container\">\n",
              "    <div>\n",
              "<style scoped>\n",
              "    .dataframe tbody tr th:only-of-type {\n",
              "        vertical-align: middle;\n",
              "    }\n",
              "\n",
              "    .dataframe tbody tr th {\n",
              "        vertical-align: top;\n",
              "    }\n",
              "\n",
              "    .dataframe thead th {\n",
              "        text-align: right;\n",
              "    }\n",
              "</style>\n",
              "<table border=\"1\" class=\"dataframe\">\n",
              "  <thead>\n",
              "    <tr style=\"text-align: right;\">\n",
              "      <th></th>\n",
              "      <th>artist_name</th>\n",
              "      <th>track_id</th>\n",
              "      <th>track_name</th>\n",
              "      <th>acousticness</th>\n",
              "      <th>danceability</th>\n",
              "      <th>duration_ms</th>\n",
              "      <th>energy</th>\n",
              "      <th>instrumentalness</th>\n",
              "      <th>key</th>\n",
              "      <th>liveness</th>\n",
              "      <th>loudness</th>\n",
              "      <th>mode</th>\n",
              "      <th>speechiness</th>\n",
              "      <th>tempo</th>\n",
              "      <th>time_signature</th>\n",
              "      <th>valence</th>\n",
              "      <th>popularity</th>\n",
              "    </tr>\n",
              "  </thead>\n",
              "  <tbody>\n",
              "    <tr>\n",
              "      <th>0</th>\n",
              "      <td>YG</td>\n",
              "      <td>2RM4jf1Xa9zPgMGRDiht8O</td>\n",
              "      <td>Big Bank feat. 2 Chainz, Big Sean, Nicki Minaj</td>\n",
              "      <td>0.005820</td>\n",
              "      <td>0.743</td>\n",
              "      <td>238373</td>\n",
              "      <td>0.339</td>\n",
              "      <td>0.000</td>\n",
              "      <td>1</td>\n",
              "      <td>0.0812</td>\n",
              "      <td>-7.678</td>\n",
              "      <td>1</td>\n",
              "      <td>0.4090</td>\n",
              "      <td>203.927</td>\n",
              "      <td>4</td>\n",
              "      <td>0.118</td>\n",
              "      <td>44</td>\n",
              "    </tr>\n",
              "    <tr>\n",
              "      <th>1</th>\n",
              "      <td>YG</td>\n",
              "      <td>1tHDG53xJNGsItRA3vfVgs</td>\n",
              "      <td>BAND DRUM (feat. A$AP Rocky)</td>\n",
              "      <td>0.024400</td>\n",
              "      <td>0.846</td>\n",
              "      <td>214800</td>\n",
              "      <td>0.557</td>\n",
              "      <td>0.000</td>\n",
              "      <td>8</td>\n",
              "      <td>0.2860</td>\n",
              "      <td>-7.259</td>\n",
              "      <td>1</td>\n",
              "      <td>0.4570</td>\n",
              "      <td>159.009</td>\n",
              "      <td>4</td>\n",
              "      <td>0.371</td>\n",
              "      <td>10</td>\n",
              "    </tr>\n",
              "    <tr>\n",
              "      <th>2</th>\n",
              "      <td>R3HAB</td>\n",
              "      <td>6Wosx2euFPMT14UXiWudMy</td>\n",
              "      <td>Radio Silence</td>\n",
              "      <td>0.025000</td>\n",
              "      <td>0.603</td>\n",
              "      <td>138913</td>\n",
              "      <td>0.723</td>\n",
              "      <td>0.000</td>\n",
              "      <td>9</td>\n",
              "      <td>0.0824</td>\n",
              "      <td>-5.890</td>\n",
              "      <td>0</td>\n",
              "      <td>0.0454</td>\n",
              "      <td>114.966</td>\n",
              "      <td>4</td>\n",
              "      <td>0.382</td>\n",
              "      <td>63</td>\n",
              "    </tr>\n",
              "    <tr>\n",
              "      <th>3</th>\n",
              "      <td>Chris Cooq</td>\n",
              "      <td>3J2Jpw61sO7l6Hc7qdYV91</td>\n",
              "      <td>Lactose</td>\n",
              "      <td>0.029400</td>\n",
              "      <td>0.800</td>\n",
              "      <td>125381</td>\n",
              "      <td>0.579</td>\n",
              "      <td>0.912</td>\n",
              "      <td>5</td>\n",
              "      <td>0.0994</td>\n",
              "      <td>-12.118</td>\n",
              "      <td>0</td>\n",
              "      <td>0.0701</td>\n",
              "      <td>123.003</td>\n",
              "      <td>4</td>\n",
              "      <td>0.641</td>\n",
              "      <td>9</td>\n",
              "    </tr>\n",
              "    <tr>\n",
              "      <th>4</th>\n",
              "      <td>Chris Cooq</td>\n",
              "      <td>2jbYvQCyPgX3CdmAzeVeuS</td>\n",
              "      <td>Same - Original mix</td>\n",
              "      <td>0.000035</td>\n",
              "      <td>0.783</td>\n",
              "      <td>124016</td>\n",
              "      <td>0.792</td>\n",
              "      <td>0.878</td>\n",
              "      <td>7</td>\n",
              "      <td>0.0332</td>\n",
              "      <td>-10.277</td>\n",
              "      <td>1</td>\n",
              "      <td>0.0661</td>\n",
              "      <td>120.047</td>\n",
              "      <td>4</td>\n",
              "      <td>0.928</td>\n",
              "      <td>8</td>\n",
              "    </tr>\n",
              "  </tbody>\n",
              "</table>\n",
              "</div>\n",
              "    <div class=\"colab-df-buttons\">\n",
              "\n",
              "  <div class=\"colab-df-container\">\n",
              "    <button class=\"colab-df-convert\" onclick=\"convertToInteractive('df-6afdd27d-6f07-4c08-be73-e2ade76920a2')\"\n",
              "            title=\"Convert this dataframe to an interactive table.\"\n",
              "            style=\"display:none;\">\n",
              "\n",
              "  <svg xmlns=\"http://www.w3.org/2000/svg\" height=\"24px\" viewBox=\"0 -960 960 960\">\n",
              "    <path d=\"M120-120v-720h720v720H120Zm60-500h600v-160H180v160Zm220 220h160v-160H400v160Zm0 220h160v-160H400v160ZM180-400h160v-160H180v160Zm440 0h160v-160H620v160ZM180-180h160v-160H180v160Zm440 0h160v-160H620v160Z\"/>\n",
              "  </svg>\n",
              "    </button>\n",
              "\n",
              "  <style>\n",
              "    .colab-df-container {\n",
              "      display:flex;\n",
              "      gap: 12px;\n",
              "    }\n",
              "\n",
              "    .colab-df-convert {\n",
              "      background-color: #E8F0FE;\n",
              "      border: none;\n",
              "      border-radius: 50%;\n",
              "      cursor: pointer;\n",
              "      display: none;\n",
              "      fill: #1967D2;\n",
              "      height: 32px;\n",
              "      padding: 0 0 0 0;\n",
              "      width: 32px;\n",
              "    }\n",
              "\n",
              "    .colab-df-convert:hover {\n",
              "      background-color: #E2EBFA;\n",
              "      box-shadow: 0px 1px 2px rgba(60, 64, 67, 0.3), 0px 1px 3px 1px rgba(60, 64, 67, 0.15);\n",
              "      fill: #174EA6;\n",
              "    }\n",
              "\n",
              "    .colab-df-buttons div {\n",
              "      margin-bottom: 4px;\n",
              "    }\n",
              "\n",
              "    [theme=dark] .colab-df-convert {\n",
              "      background-color: #3B4455;\n",
              "      fill: #D2E3FC;\n",
              "    }\n",
              "\n",
              "    [theme=dark] .colab-df-convert:hover {\n",
              "      background-color: #434B5C;\n",
              "      box-shadow: 0px 1px 3px 1px rgba(0, 0, 0, 0.15);\n",
              "      filter: drop-shadow(0px 1px 2px rgba(0, 0, 0, 0.3));\n",
              "      fill: #FFFFFF;\n",
              "    }\n",
              "  </style>\n",
              "\n",
              "    <script>\n",
              "      const buttonEl =\n",
              "        document.querySelector('#df-6afdd27d-6f07-4c08-be73-e2ade76920a2 button.colab-df-convert');\n",
              "      buttonEl.style.display =\n",
              "        google.colab.kernel.accessAllowed ? 'block' : 'none';\n",
              "\n",
              "      async function convertToInteractive(key) {\n",
              "        const element = document.querySelector('#df-6afdd27d-6f07-4c08-be73-e2ade76920a2');\n",
              "        const dataTable =\n",
              "          await google.colab.kernel.invokeFunction('convertToInteractive',\n",
              "                                                    [key], {});\n",
              "        if (!dataTable) return;\n",
              "\n",
              "        const docLinkHtml = 'Like what you see? Visit the ' +\n",
              "          '<a target=\"_blank\" href=https://colab.research.google.com/notebooks/data_table.ipynb>data table notebook</a>'\n",
              "          + ' to learn more about interactive tables.';\n",
              "        element.innerHTML = '';\n",
              "        dataTable['output_type'] = 'display_data';\n",
              "        await google.colab.output.renderOutput(dataTable, element);\n",
              "        const docLink = document.createElement('div');\n",
              "        docLink.innerHTML = docLinkHtml;\n",
              "        element.appendChild(docLink);\n",
              "      }\n",
              "    </script>\n",
              "  </div>\n",
              "\n",
              "\n",
              "<div id=\"df-9ff74bc4-1d96-471e-9b9f-d7b4d1c945b7\">\n",
              "  <button class=\"colab-df-quickchart\" onclick=\"quickchart('df-9ff74bc4-1d96-471e-9b9f-d7b4d1c945b7')\"\n",
              "            title=\"Suggest charts\"\n",
              "            style=\"display:none;\">\n",
              "\n",
              "<svg xmlns=\"http://www.w3.org/2000/svg\" height=\"24px\"viewBox=\"0 0 24 24\"\n",
              "     width=\"24px\">\n",
              "    <g>\n",
              "        <path d=\"M19 3H5c-1.1 0-2 .9-2 2v14c0 1.1.9 2 2 2h14c1.1 0 2-.9 2-2V5c0-1.1-.9-2-2-2zM9 17H7v-7h2v7zm4 0h-2V7h2v10zm4 0h-2v-4h2v4z\"/>\n",
              "    </g>\n",
              "</svg>\n",
              "  </button>\n",
              "\n",
              "<style>\n",
              "  .colab-df-quickchart {\n",
              "      --bg-color: #E8F0FE;\n",
              "      --fill-color: #1967D2;\n",
              "      --hover-bg-color: #E2EBFA;\n",
              "      --hover-fill-color: #174EA6;\n",
              "      --disabled-fill-color: #AAA;\n",
              "      --disabled-bg-color: #DDD;\n",
              "  }\n",
              "\n",
              "  [theme=dark] .colab-df-quickchart {\n",
              "      --bg-color: #3B4455;\n",
              "      --fill-color: #D2E3FC;\n",
              "      --hover-bg-color: #434B5C;\n",
              "      --hover-fill-color: #FFFFFF;\n",
              "      --disabled-bg-color: #3B4455;\n",
              "      --disabled-fill-color: #666;\n",
              "  }\n",
              "\n",
              "  .colab-df-quickchart {\n",
              "    background-color: var(--bg-color);\n",
              "    border: none;\n",
              "    border-radius: 50%;\n",
              "    cursor: pointer;\n",
              "    display: none;\n",
              "    fill: var(--fill-color);\n",
              "    height: 32px;\n",
              "    padding: 0;\n",
              "    width: 32px;\n",
              "  }\n",
              "\n",
              "  .colab-df-quickchart:hover {\n",
              "    background-color: var(--hover-bg-color);\n",
              "    box-shadow: 0 1px 2px rgba(60, 64, 67, 0.3), 0 1px 3px 1px rgba(60, 64, 67, 0.15);\n",
              "    fill: var(--button-hover-fill-color);\n",
              "  }\n",
              "\n",
              "  .colab-df-quickchart-complete:disabled,\n",
              "  .colab-df-quickchart-complete:disabled:hover {\n",
              "    background-color: var(--disabled-bg-color);\n",
              "    fill: var(--disabled-fill-color);\n",
              "    box-shadow: none;\n",
              "  }\n",
              "\n",
              "  .colab-df-spinner {\n",
              "    border: 2px solid var(--fill-color);\n",
              "    border-color: transparent;\n",
              "    border-bottom-color: var(--fill-color);\n",
              "    animation:\n",
              "      spin 1s steps(1) infinite;\n",
              "  }\n",
              "\n",
              "  @keyframes spin {\n",
              "    0% {\n",
              "      border-color: transparent;\n",
              "      border-bottom-color: var(--fill-color);\n",
              "      border-left-color: var(--fill-color);\n",
              "    }\n",
              "    20% {\n",
              "      border-color: transparent;\n",
              "      border-left-color: var(--fill-color);\n",
              "      border-top-color: var(--fill-color);\n",
              "    }\n",
              "    30% {\n",
              "      border-color: transparent;\n",
              "      border-left-color: var(--fill-color);\n",
              "      border-top-color: var(--fill-color);\n",
              "      border-right-color: var(--fill-color);\n",
              "    }\n",
              "    40% {\n",
              "      border-color: transparent;\n",
              "      border-right-color: var(--fill-color);\n",
              "      border-top-color: var(--fill-color);\n",
              "    }\n",
              "    60% {\n",
              "      border-color: transparent;\n",
              "      border-right-color: var(--fill-color);\n",
              "    }\n",
              "    80% {\n",
              "      border-color: transparent;\n",
              "      border-right-color: var(--fill-color);\n",
              "      border-bottom-color: var(--fill-color);\n",
              "    }\n",
              "    90% {\n",
              "      border-color: transparent;\n",
              "      border-bottom-color: var(--fill-color);\n",
              "    }\n",
              "  }\n",
              "</style>\n",
              "\n",
              "  <script>\n",
              "    async function quickchart(key) {\n",
              "      const quickchartButtonEl =\n",
              "        document.querySelector('#' + key + ' button');\n",
              "      quickchartButtonEl.disabled = true;  // To prevent multiple clicks.\n",
              "      quickchartButtonEl.classList.add('colab-df-spinner');\n",
              "      try {\n",
              "        const charts = await google.colab.kernel.invokeFunction(\n",
              "            'suggestCharts', [key], {});\n",
              "      } catch (error) {\n",
              "        console.error('Error during call to suggestCharts:', error);\n",
              "      }\n",
              "      quickchartButtonEl.classList.remove('colab-df-spinner');\n",
              "      quickchartButtonEl.classList.add('colab-df-quickchart-complete');\n",
              "    }\n",
              "    (() => {\n",
              "      let quickchartButtonEl =\n",
              "        document.querySelector('#df-9ff74bc4-1d96-471e-9b9f-d7b4d1c945b7 button');\n",
              "      quickchartButtonEl.style.display =\n",
              "        google.colab.kernel.accessAllowed ? 'block' : 'none';\n",
              "    })();\n",
              "  </script>\n",
              "</div>\n",
              "    </div>\n",
              "  </div>\n"
            ],
            "application/vnd.google.colaboratory.intrinsic+json": {
              "type": "dataframe",
              "variable_name": "songs_df_19"
            }
          },
          "metadata": {},
          "execution_count": 12
        }
      ],
      "source": [
        "# View the first five rows of 'songs_df_19'\n",
        "songs_df_19.head(5)"
      ]
    },
    {
      "cell_type": "markdown",
      "metadata": {
        "id": "Xhwpfb0l9oKU"
      },
      "source": [
        "Observing the two dataframes, we can see that they have the exact same set of columns, and thus can be appended together vertically."
      ]
    },
    {
      "cell_type": "code",
      "execution_count": null,
      "metadata": {
        "id": "cYrTpFto9_ey"
      },
      "outputs": [],
      "source": [
        "# Concatenate dataframes together\n",
        "songs_df = pd.concat([songs_df_18, songs_df_19], axis=0)"
      ]
    },
    {
      "cell_type": "markdown",
      "metadata": {
        "id": "cA1f5hxp5i-9"
      },
      "source": [
        "### Dropping Insignificant Columns and Null/Duplicate Rows"
      ]
    },
    {
      "cell_type": "code",
      "execution_count": null,
      "metadata": {
        "colab": {
          "base_uri": "https://localhost:8080/",
          "height": 591
        },
        "id": "Sa51VqQZ9g5W",
        "outputId": "51ea25f4-b3eb-43ff-f932-fcdf598f9baa"
      },
      "outputs": [
        {
          "output_type": "execute_result",
          "data": {
            "text/plain": [
              "  artist_name                track_id  \\\n",
              "0          YG  2RM4jf1Xa9zPgMGRDiht8O   \n",
              "1          YG  1tHDG53xJNGsItRA3vfVgs   \n",
              "2       R3HAB  6Wosx2euFPMT14UXiWudMy   \n",
              "3  Chris Cooq  3J2Jpw61sO7l6Hc7qdYV91   \n",
              "4  Chris Cooq  2jbYvQCyPgX3CdmAzeVeuS   \n",
              "5       Curbo  26Y1lX7ZOpw9Ql3gGAlqLK   \n",
              "6  Bingo Play  5eIyK73BrxHLnly4F9PWqg   \n",
              "7     G Herbo  13Mf2ZBpfNkgWJowvM5hXh   \n",
              "8     34 Feet  7BQaRTHk44DkMhIVNcXy2D   \n",
              "9  Chris Cooq  049RxG2laEl9U1PGYeIqLV   \n",
              "\n",
              "                                       track_name  acousticness  danceability  \\\n",
              "0  Big Bank feat. 2 Chainz, Big Sean, Nicki Minaj      0.005820         0.743   \n",
              "1                    BAND DRUM (feat. A$AP Rocky)      0.024400         0.846   \n",
              "2                                   Radio Silence      0.025000         0.603   \n",
              "3                                         Lactose      0.029400         0.800   \n",
              "4                             Same - Original mix      0.000035         0.783   \n",
              "5                       Debauchery - Original mix      0.001150         0.810   \n",
              "6                          Grandma - Original mix      0.000539         0.819   \n",
              "7                                     Bon appétit      0.115000         0.885   \n",
              "8                            Among - Original mix      0.000058         0.740   \n",
              "9                           Hazard - Original mix      0.000081         0.813   \n",
              "\n",
              "   duration_ms  energy  instrumentalness  key  liveness  loudness  mode  \\\n",
              "0       238373   0.339             0.000    1    0.0812    -7.678     1   \n",
              "1       214800   0.557             0.000    8    0.2860    -7.259     1   \n",
              "2       138913   0.723             0.000    9    0.0824    -5.890     0   \n",
              "3       125381   0.579             0.912    5    0.0994   -12.118     0   \n",
              "4       124016   0.792             0.878    7    0.0332   -10.277     1   \n",
              "5       124016   0.417             0.919    9    0.1060   -10.783     0   \n",
              "6       132742   0.720             0.863    4    0.0727    -8.895     0   \n",
              "7       181838   0.348             0.000    9    0.1070   -12.569     1   \n",
              "8       124016   0.472             0.847    8    0.0959    -9.008     1   \n",
              "9       132742   0.731             0.910   11    0.0727    -8.932     1   \n",
              "\n",
              "   speechiness    tempo  time_signature  valence  popularity  \n",
              "0       0.4090  203.927               4    0.118          15  \n",
              "1       0.4570  159.009               4    0.371           0  \n",
              "2       0.0454  114.966               4    0.382          56  \n",
              "3       0.0701  123.003               4    0.641           0  \n",
              "4       0.0661  120.047               4    0.928           0  \n",
              "5       0.0793  120.025               4    0.837           0  \n",
              "6       0.1510  124.003               4    0.934           0  \n",
              "7       0.4510  142.111               4    0.180           0  \n",
              "8       0.0551  120.034               4    0.622           0  \n",
              "9       0.0697  124.031               4    0.944           0  "
            ],
            "text/html": [
              "\n",
              "  <div id=\"df-471b522b-54bb-4d8b-a2e6-efe08190f536\" class=\"colab-df-container\">\n",
              "    <div>\n",
              "<style scoped>\n",
              "    .dataframe tbody tr th:only-of-type {\n",
              "        vertical-align: middle;\n",
              "    }\n",
              "\n",
              "    .dataframe tbody tr th {\n",
              "        vertical-align: top;\n",
              "    }\n",
              "\n",
              "    .dataframe thead th {\n",
              "        text-align: right;\n",
              "    }\n",
              "</style>\n",
              "<table border=\"1\" class=\"dataframe\">\n",
              "  <thead>\n",
              "    <tr style=\"text-align: right;\">\n",
              "      <th></th>\n",
              "      <th>artist_name</th>\n",
              "      <th>track_id</th>\n",
              "      <th>track_name</th>\n",
              "      <th>acousticness</th>\n",
              "      <th>danceability</th>\n",
              "      <th>duration_ms</th>\n",
              "      <th>energy</th>\n",
              "      <th>instrumentalness</th>\n",
              "      <th>key</th>\n",
              "      <th>liveness</th>\n",
              "      <th>loudness</th>\n",
              "      <th>mode</th>\n",
              "      <th>speechiness</th>\n",
              "      <th>tempo</th>\n",
              "      <th>time_signature</th>\n",
              "      <th>valence</th>\n",
              "      <th>popularity</th>\n",
              "    </tr>\n",
              "  </thead>\n",
              "  <tbody>\n",
              "    <tr>\n",
              "      <th>0</th>\n",
              "      <td>YG</td>\n",
              "      <td>2RM4jf1Xa9zPgMGRDiht8O</td>\n",
              "      <td>Big Bank feat. 2 Chainz, Big Sean, Nicki Minaj</td>\n",
              "      <td>0.005820</td>\n",
              "      <td>0.743</td>\n",
              "      <td>238373</td>\n",
              "      <td>0.339</td>\n",
              "      <td>0.000</td>\n",
              "      <td>1</td>\n",
              "      <td>0.0812</td>\n",
              "      <td>-7.678</td>\n",
              "      <td>1</td>\n",
              "      <td>0.4090</td>\n",
              "      <td>203.927</td>\n",
              "      <td>4</td>\n",
              "      <td>0.118</td>\n",
              "      <td>15</td>\n",
              "    </tr>\n",
              "    <tr>\n",
              "      <th>1</th>\n",
              "      <td>YG</td>\n",
              "      <td>1tHDG53xJNGsItRA3vfVgs</td>\n",
              "      <td>BAND DRUM (feat. A$AP Rocky)</td>\n",
              "      <td>0.024400</td>\n",
              "      <td>0.846</td>\n",
              "      <td>214800</td>\n",
              "      <td>0.557</td>\n",
              "      <td>0.000</td>\n",
              "      <td>8</td>\n",
              "      <td>0.2860</td>\n",
              "      <td>-7.259</td>\n",
              "      <td>1</td>\n",
              "      <td>0.4570</td>\n",
              "      <td>159.009</td>\n",
              "      <td>4</td>\n",
              "      <td>0.371</td>\n",
              "      <td>0</td>\n",
              "    </tr>\n",
              "    <tr>\n",
              "      <th>2</th>\n",
              "      <td>R3HAB</td>\n",
              "      <td>6Wosx2euFPMT14UXiWudMy</td>\n",
              "      <td>Radio Silence</td>\n",
              "      <td>0.025000</td>\n",
              "      <td>0.603</td>\n",
              "      <td>138913</td>\n",
              "      <td>0.723</td>\n",
              "      <td>0.000</td>\n",
              "      <td>9</td>\n",
              "      <td>0.0824</td>\n",
              "      <td>-5.890</td>\n",
              "      <td>0</td>\n",
              "      <td>0.0454</td>\n",
              "      <td>114.966</td>\n",
              "      <td>4</td>\n",
              "      <td>0.382</td>\n",
              "      <td>56</td>\n",
              "    </tr>\n",
              "    <tr>\n",
              "      <th>3</th>\n",
              "      <td>Chris Cooq</td>\n",
              "      <td>3J2Jpw61sO7l6Hc7qdYV91</td>\n",
              "      <td>Lactose</td>\n",
              "      <td>0.029400</td>\n",
              "      <td>0.800</td>\n",
              "      <td>125381</td>\n",
              "      <td>0.579</td>\n",
              "      <td>0.912</td>\n",
              "      <td>5</td>\n",
              "      <td>0.0994</td>\n",
              "      <td>-12.118</td>\n",
              "      <td>0</td>\n",
              "      <td>0.0701</td>\n",
              "      <td>123.003</td>\n",
              "      <td>4</td>\n",
              "      <td>0.641</td>\n",
              "      <td>0</td>\n",
              "    </tr>\n",
              "    <tr>\n",
              "      <th>4</th>\n",
              "      <td>Chris Cooq</td>\n",
              "      <td>2jbYvQCyPgX3CdmAzeVeuS</td>\n",
              "      <td>Same - Original mix</td>\n",
              "      <td>0.000035</td>\n",
              "      <td>0.783</td>\n",
              "      <td>124016</td>\n",
              "      <td>0.792</td>\n",
              "      <td>0.878</td>\n",
              "      <td>7</td>\n",
              "      <td>0.0332</td>\n",
              "      <td>-10.277</td>\n",
              "      <td>1</td>\n",
              "      <td>0.0661</td>\n",
              "      <td>120.047</td>\n",
              "      <td>4</td>\n",
              "      <td>0.928</td>\n",
              "      <td>0</td>\n",
              "    </tr>\n",
              "    <tr>\n",
              "      <th>5</th>\n",
              "      <td>Curbo</td>\n",
              "      <td>26Y1lX7ZOpw9Ql3gGAlqLK</td>\n",
              "      <td>Debauchery - Original mix</td>\n",
              "      <td>0.001150</td>\n",
              "      <td>0.810</td>\n",
              "      <td>124016</td>\n",
              "      <td>0.417</td>\n",
              "      <td>0.919</td>\n",
              "      <td>9</td>\n",
              "      <td>0.1060</td>\n",
              "      <td>-10.783</td>\n",
              "      <td>0</td>\n",
              "      <td>0.0793</td>\n",
              "      <td>120.025</td>\n",
              "      <td>4</td>\n",
              "      <td>0.837</td>\n",
              "      <td>0</td>\n",
              "    </tr>\n",
              "    <tr>\n",
              "      <th>6</th>\n",
              "      <td>Bingo Play</td>\n",
              "      <td>5eIyK73BrxHLnly4F9PWqg</td>\n",
              "      <td>Grandma - Original mix</td>\n",
              "      <td>0.000539</td>\n",
              "      <td>0.819</td>\n",
              "      <td>132742</td>\n",
              "      <td>0.720</td>\n",
              "      <td>0.863</td>\n",
              "      <td>4</td>\n",
              "      <td>0.0727</td>\n",
              "      <td>-8.895</td>\n",
              "      <td>0</td>\n",
              "      <td>0.1510</td>\n",
              "      <td>124.003</td>\n",
              "      <td>4</td>\n",
              "      <td>0.934</td>\n",
              "      <td>0</td>\n",
              "    </tr>\n",
              "    <tr>\n",
              "      <th>7</th>\n",
              "      <td>G Herbo</td>\n",
              "      <td>13Mf2ZBpfNkgWJowvM5hXh</td>\n",
              "      <td>Bon appétit</td>\n",
              "      <td>0.115000</td>\n",
              "      <td>0.885</td>\n",
              "      <td>181838</td>\n",
              "      <td>0.348</td>\n",
              "      <td>0.000</td>\n",
              "      <td>9</td>\n",
              "      <td>0.1070</td>\n",
              "      <td>-12.569</td>\n",
              "      <td>1</td>\n",
              "      <td>0.4510</td>\n",
              "      <td>142.111</td>\n",
              "      <td>4</td>\n",
              "      <td>0.180</td>\n",
              "      <td>0</td>\n",
              "    </tr>\n",
              "    <tr>\n",
              "      <th>8</th>\n",
              "      <td>34 Feet</td>\n",
              "      <td>7BQaRTHk44DkMhIVNcXy2D</td>\n",
              "      <td>Among - Original mix</td>\n",
              "      <td>0.000058</td>\n",
              "      <td>0.740</td>\n",
              "      <td>124016</td>\n",
              "      <td>0.472</td>\n",
              "      <td>0.847</td>\n",
              "      <td>8</td>\n",
              "      <td>0.0959</td>\n",
              "      <td>-9.008</td>\n",
              "      <td>1</td>\n",
              "      <td>0.0551</td>\n",
              "      <td>120.034</td>\n",
              "      <td>4</td>\n",
              "      <td>0.622</td>\n",
              "      <td>0</td>\n",
              "    </tr>\n",
              "    <tr>\n",
              "      <th>9</th>\n",
              "      <td>Chris Cooq</td>\n",
              "      <td>049RxG2laEl9U1PGYeIqLV</td>\n",
              "      <td>Hazard - Original mix</td>\n",
              "      <td>0.000081</td>\n",
              "      <td>0.813</td>\n",
              "      <td>132742</td>\n",
              "      <td>0.731</td>\n",
              "      <td>0.910</td>\n",
              "      <td>11</td>\n",
              "      <td>0.0727</td>\n",
              "      <td>-8.932</td>\n",
              "      <td>1</td>\n",
              "      <td>0.0697</td>\n",
              "      <td>124.031</td>\n",
              "      <td>4</td>\n",
              "      <td>0.944</td>\n",
              "      <td>0</td>\n",
              "    </tr>\n",
              "  </tbody>\n",
              "</table>\n",
              "</div>\n",
              "    <div class=\"colab-df-buttons\">\n",
              "\n",
              "  <div class=\"colab-df-container\">\n",
              "    <button class=\"colab-df-convert\" onclick=\"convertToInteractive('df-471b522b-54bb-4d8b-a2e6-efe08190f536')\"\n",
              "            title=\"Convert this dataframe to an interactive table.\"\n",
              "            style=\"display:none;\">\n",
              "\n",
              "  <svg xmlns=\"http://www.w3.org/2000/svg\" height=\"24px\" viewBox=\"0 -960 960 960\">\n",
              "    <path d=\"M120-120v-720h720v720H120Zm60-500h600v-160H180v160Zm220 220h160v-160H400v160Zm0 220h160v-160H400v160ZM180-400h160v-160H180v160Zm440 0h160v-160H620v160ZM180-180h160v-160H180v160Zm440 0h160v-160H620v160Z\"/>\n",
              "  </svg>\n",
              "    </button>\n",
              "\n",
              "  <style>\n",
              "    .colab-df-container {\n",
              "      display:flex;\n",
              "      gap: 12px;\n",
              "    }\n",
              "\n",
              "    .colab-df-convert {\n",
              "      background-color: #E8F0FE;\n",
              "      border: none;\n",
              "      border-radius: 50%;\n",
              "      cursor: pointer;\n",
              "      display: none;\n",
              "      fill: #1967D2;\n",
              "      height: 32px;\n",
              "      padding: 0 0 0 0;\n",
              "      width: 32px;\n",
              "    }\n",
              "\n",
              "    .colab-df-convert:hover {\n",
              "      background-color: #E2EBFA;\n",
              "      box-shadow: 0px 1px 2px rgba(60, 64, 67, 0.3), 0px 1px 3px 1px rgba(60, 64, 67, 0.15);\n",
              "      fill: #174EA6;\n",
              "    }\n",
              "\n",
              "    .colab-df-buttons div {\n",
              "      margin-bottom: 4px;\n",
              "    }\n",
              "\n",
              "    [theme=dark] .colab-df-convert {\n",
              "      background-color: #3B4455;\n",
              "      fill: #D2E3FC;\n",
              "    }\n",
              "\n",
              "    [theme=dark] .colab-df-convert:hover {\n",
              "      background-color: #434B5C;\n",
              "      box-shadow: 0px 1px 3px 1px rgba(0, 0, 0, 0.15);\n",
              "      filter: drop-shadow(0px 1px 2px rgba(0, 0, 0, 0.3));\n",
              "      fill: #FFFFFF;\n",
              "    }\n",
              "  </style>\n",
              "\n",
              "    <script>\n",
              "      const buttonEl =\n",
              "        document.querySelector('#df-471b522b-54bb-4d8b-a2e6-efe08190f536 button.colab-df-convert');\n",
              "      buttonEl.style.display =\n",
              "        google.colab.kernel.accessAllowed ? 'block' : 'none';\n",
              "\n",
              "      async function convertToInteractive(key) {\n",
              "        const element = document.querySelector('#df-471b522b-54bb-4d8b-a2e6-efe08190f536');\n",
              "        const dataTable =\n",
              "          await google.colab.kernel.invokeFunction('convertToInteractive',\n",
              "                                                    [key], {});\n",
              "        if (!dataTable) return;\n",
              "\n",
              "        const docLinkHtml = 'Like what you see? Visit the ' +\n",
              "          '<a target=\"_blank\" href=https://colab.research.google.com/notebooks/data_table.ipynb>data table notebook</a>'\n",
              "          + ' to learn more about interactive tables.';\n",
              "        element.innerHTML = '';\n",
              "        dataTable['output_type'] = 'display_data';\n",
              "        await google.colab.output.renderOutput(dataTable, element);\n",
              "        const docLink = document.createElement('div');\n",
              "        docLink.innerHTML = docLinkHtml;\n",
              "        element.appendChild(docLink);\n",
              "      }\n",
              "    </script>\n",
              "  </div>\n",
              "\n",
              "\n",
              "<div id=\"df-fd842298-8e34-4387-b0a5-716a461414e9\">\n",
              "  <button class=\"colab-df-quickchart\" onclick=\"quickchart('df-fd842298-8e34-4387-b0a5-716a461414e9')\"\n",
              "            title=\"Suggest charts\"\n",
              "            style=\"display:none;\">\n",
              "\n",
              "<svg xmlns=\"http://www.w3.org/2000/svg\" height=\"24px\"viewBox=\"0 0 24 24\"\n",
              "     width=\"24px\">\n",
              "    <g>\n",
              "        <path d=\"M19 3H5c-1.1 0-2 .9-2 2v14c0 1.1.9 2 2 2h14c1.1 0 2-.9 2-2V5c0-1.1-.9-2-2-2zM9 17H7v-7h2v7zm4 0h-2V7h2v10zm4 0h-2v-4h2v4z\"/>\n",
              "    </g>\n",
              "</svg>\n",
              "  </button>\n",
              "\n",
              "<style>\n",
              "  .colab-df-quickchart {\n",
              "      --bg-color: #E8F0FE;\n",
              "      --fill-color: #1967D2;\n",
              "      --hover-bg-color: #E2EBFA;\n",
              "      --hover-fill-color: #174EA6;\n",
              "      --disabled-fill-color: #AAA;\n",
              "      --disabled-bg-color: #DDD;\n",
              "  }\n",
              "\n",
              "  [theme=dark] .colab-df-quickchart {\n",
              "      --bg-color: #3B4455;\n",
              "      --fill-color: #D2E3FC;\n",
              "      --hover-bg-color: #434B5C;\n",
              "      --hover-fill-color: #FFFFFF;\n",
              "      --disabled-bg-color: #3B4455;\n",
              "      --disabled-fill-color: #666;\n",
              "  }\n",
              "\n",
              "  .colab-df-quickchart {\n",
              "    background-color: var(--bg-color);\n",
              "    border: none;\n",
              "    border-radius: 50%;\n",
              "    cursor: pointer;\n",
              "    display: none;\n",
              "    fill: var(--fill-color);\n",
              "    height: 32px;\n",
              "    padding: 0;\n",
              "    width: 32px;\n",
              "  }\n",
              "\n",
              "  .colab-df-quickchart:hover {\n",
              "    background-color: var(--hover-bg-color);\n",
              "    box-shadow: 0 1px 2px rgba(60, 64, 67, 0.3), 0 1px 3px 1px rgba(60, 64, 67, 0.15);\n",
              "    fill: var(--button-hover-fill-color);\n",
              "  }\n",
              "\n",
              "  .colab-df-quickchart-complete:disabled,\n",
              "  .colab-df-quickchart-complete:disabled:hover {\n",
              "    background-color: var(--disabled-bg-color);\n",
              "    fill: var(--disabled-fill-color);\n",
              "    box-shadow: none;\n",
              "  }\n",
              "\n",
              "  .colab-df-spinner {\n",
              "    border: 2px solid var(--fill-color);\n",
              "    border-color: transparent;\n",
              "    border-bottom-color: var(--fill-color);\n",
              "    animation:\n",
              "      spin 1s steps(1) infinite;\n",
              "  }\n",
              "\n",
              "  @keyframes spin {\n",
              "    0% {\n",
              "      border-color: transparent;\n",
              "      border-bottom-color: var(--fill-color);\n",
              "      border-left-color: var(--fill-color);\n",
              "    }\n",
              "    20% {\n",
              "      border-color: transparent;\n",
              "      border-left-color: var(--fill-color);\n",
              "      border-top-color: var(--fill-color);\n",
              "    }\n",
              "    30% {\n",
              "      border-color: transparent;\n",
              "      border-left-color: var(--fill-color);\n",
              "      border-top-color: var(--fill-color);\n",
              "      border-right-color: var(--fill-color);\n",
              "    }\n",
              "    40% {\n",
              "      border-color: transparent;\n",
              "      border-right-color: var(--fill-color);\n",
              "      border-top-color: var(--fill-color);\n",
              "    }\n",
              "    60% {\n",
              "      border-color: transparent;\n",
              "      border-right-color: var(--fill-color);\n",
              "    }\n",
              "    80% {\n",
              "      border-color: transparent;\n",
              "      border-right-color: var(--fill-color);\n",
              "      border-bottom-color: var(--fill-color);\n",
              "    }\n",
              "    90% {\n",
              "      border-color: transparent;\n",
              "      border-bottom-color: var(--fill-color);\n",
              "    }\n",
              "  }\n",
              "</style>\n",
              "\n",
              "  <script>\n",
              "    async function quickchart(key) {\n",
              "      const quickchartButtonEl =\n",
              "        document.querySelector('#' + key + ' button');\n",
              "      quickchartButtonEl.disabled = true;  // To prevent multiple clicks.\n",
              "      quickchartButtonEl.classList.add('colab-df-spinner');\n",
              "      try {\n",
              "        const charts = await google.colab.kernel.invokeFunction(\n",
              "            'suggestCharts', [key], {});\n",
              "      } catch (error) {\n",
              "        console.error('Error during call to suggestCharts:', error);\n",
              "      }\n",
              "      quickchartButtonEl.classList.remove('colab-df-spinner');\n",
              "      quickchartButtonEl.classList.add('colab-df-quickchart-complete');\n",
              "    }\n",
              "    (() => {\n",
              "      let quickchartButtonEl =\n",
              "        document.querySelector('#df-fd842298-8e34-4387-b0a5-716a461414e9 button');\n",
              "      quickchartButtonEl.style.display =\n",
              "        google.colab.kernel.accessAllowed ? 'block' : 'none';\n",
              "    })();\n",
              "  </script>\n",
              "</div>\n",
              "    </div>\n",
              "  </div>\n"
            ],
            "application/vnd.google.colaboratory.intrinsic+json": {
              "type": "dataframe",
              "variable_name": "songs_df"
            }
          },
          "metadata": {},
          "execution_count": 14
        }
      ],
      "source": [
        "# View first 10 rows of merged dataframe\n",
        "songs_df.head(10)"
      ]
    },
    {
      "cell_type": "markdown",
      "metadata": {
        "id": "vkVXAePW0YDY"
      },
      "source": [
        "At first glance, we can see that the column `track_id` does not contain data that are particularly meaningful to us, so we can go ahead and drop it."
      ]
    },
    {
      "cell_type": "code",
      "execution_count": null,
      "metadata": {
        "id": "jTb8eSXizcg_"
      },
      "outputs": [],
      "source": [
        "# Dropping unnecessary columns\n",
        "songs_df = songs_df.drop(columns={'track_id'})"
      ]
    },
    {
      "cell_type": "markdown",
      "metadata": {
        "id": "6UZfSPe54z31"
      },
      "source": [
        "We then drop all rows that contain NA values, checking that this does not substantially reduce the size of our dataset."
      ]
    },
    {
      "cell_type": "code",
      "execution_count": null,
      "metadata": {
        "colab": {
          "base_uri": "https://localhost:8080/"
        },
        "id": "KJkTJcdn4dRs",
        "outputId": "3f9086db-af9d-4f1b-81bf-bc290c54372a"
      },
      "outputs": [
        {
          "output_type": "execute_result",
          "data": {
            "text/plain": [
              "247035"
            ]
          },
          "metadata": {},
          "execution_count": 16
        }
      ],
      "source": [
        "# Number of rows in original dataframe\n",
        "len(songs_df)"
      ]
    },
    {
      "cell_type": "code",
      "execution_count": null,
      "metadata": {
        "colab": {
          "base_uri": "https://localhost:8080/"
        },
        "id": "2Sp0IRWW5AC_",
        "outputId": "d48e2781-0916-4367-e1b3-6bf6cc342c72"
      },
      "outputs": [
        {
          "output_type": "execute_result",
          "data": {
            "text/plain": [
              "247033"
            ]
          },
          "metadata": {},
          "execution_count": 17
        }
      ],
      "source": [
        "# Number of rows in dataframe with dropped NA rows\n",
        "len(songs_df.dropna())"
      ]
    },
    {
      "cell_type": "code",
      "execution_count": null,
      "metadata": {
        "id": "re5k_v-25CgQ"
      },
      "outputs": [],
      "source": [
        "# Drop rows with any NA values (only 2)\n",
        "songs_df = songs_df.dropna()"
      ]
    },
    {
      "cell_type": "markdown",
      "metadata": {
        "id": "wEOF5ZD3wbK-"
      },
      "source": [
        "Finally, we drop all duplicate rows, checking that this does not substantially reduce the size of our dataset."
      ]
    },
    {
      "cell_type": "code",
      "execution_count": null,
      "metadata": {
        "colab": {
          "base_uri": "https://localhost:8080/"
        },
        "id": "jO9BjJiYwey-",
        "outputId": "904c7816-5af7-4b41-9a44-d4fbf5479bdd"
      },
      "outputs": [
        {
          "output_type": "execute_result",
          "data": {
            "text/plain": [
              "247033"
            ]
          },
          "metadata": {},
          "execution_count": 19
        }
      ],
      "source": [
        "# Number of rows in original dataframe\n",
        "len(songs_df)"
      ]
    },
    {
      "cell_type": "code",
      "execution_count": null,
      "metadata": {
        "colab": {
          "base_uri": "https://localhost:8080/"
        },
        "id": "XAUiWPFXwhL1",
        "outputId": "8e98a136-2927-4ca1-b20f-6c71678b609e"
      },
      "outputs": [
        {
          "output_type": "execute_result",
          "data": {
            "text/plain": [
              "222135"
            ]
          },
          "metadata": {},
          "execution_count": 20
        }
      ],
      "source": [
        "# Number of rows in dataframe with dropped duplicate rows\n",
        "len(songs_df.drop_duplicates())"
      ]
    },
    {
      "cell_type": "code",
      "execution_count": null,
      "metadata": {
        "id": "wICOcUu5wnX7"
      },
      "outputs": [],
      "source": [
        "# Drop duplicate rows (24,719)\n",
        "songs_df = songs_df.drop_duplicates()"
      ]
    },
    {
      "cell_type": "markdown",
      "metadata": {
        "id": "BR3MP62k6Qvm"
      },
      "source": [
        "### Handling Outliers"
      ]
    },
    {
      "cell_type": "markdown",
      "metadata": {
        "id": "gxgtY37iA9pS"
      },
      "source": [
        "Potential outliers that could skew our data include songs that are significantly shorter or significantly longer than usual. Particularly short tracks, such as those that are under 20 seconds (20000 ms), are likely snippets, interludes, or sound effects, rather than full-length songs. On the other hand, extremely long tracks, such as those that are over 30 minutes (1800000 ms) are mostly recordings of concerts/performances or ASMR sounds. Since we are mainly interested in the popularity of individual songs, these outliers may skew our data, so we drop these rows."
      ]
    },
    {
      "cell_type": "code",
      "execution_count": null,
      "metadata": {
        "colab": {
          "base_uri": "https://localhost:8080/",
          "height": 704
        },
        "id": "z1HxAnU0GIsM",
        "outputId": "80eba9b6-36bd-4990-8894-b11695213156"
      },
      "outputs": [
        {
          "output_type": "execute_result",
          "data": {
            "text/plain": [
              "             artist_name                                         track_name  \\\n",
              "1863    Armin van Buuren  A State Of Trance (ASOT 863) - Intro XXL Guest...   \n",
              "2013            Ace Hood                               Intro (Earth Strong)   \n",
              "2329            A$AP ANT                                   #FREESHAKA INTRO   \n",
              "2998   Waka Flocka Flame               Tune-Up Man Skit (feat. Slim Dunkin)   \n",
              "3511          Neil Young                              Perry Como Rap - Live   \n",
              "...                  ...                                                ...   \n",
              "99720               Cast                       I'll Wait For You - Dialogue   \n",
              "99722               Cast                                    Vows - Dialogue   \n",
              "99723               Cast                         Fabulous French - Dialogue   \n",
              "99724               Cast                     How Do You Hear It? - Dialogue   \n",
              "99725               Cast                                     SNL - Dialogue   \n",
              "\n",
              "       acousticness  danceability  duration_ms  energy  instrumentalness  key  \\\n",
              "1863         0.0698         0.000         9870  0.6460            0.0000   10   \n",
              "2013         0.9190         0.783        15906  0.0918            0.0000    8   \n",
              "2329         0.9230         0.702        15440  0.3930            0.1070   10   \n",
              "2998         0.3660         0.000        14616  0.4060            0.0000    5   \n",
              "3511         0.4880         0.426        17067  0.2070            0.0451    7   \n",
              "...             ...           ...          ...     ...               ...  ...   \n",
              "99720        0.8580         0.718        19133  0.1280            0.0000    6   \n",
              "99722        0.7110         0.789        17933  0.2640            0.0000    0   \n",
              "99723        0.8070         0.514        19493  0.7000            0.0000    7   \n",
              "99724        0.6060         0.000        14507  0.1300            0.0000    9   \n",
              "99725        0.4080         0.000        13147  0.0604            0.0000    6   \n",
              "\n",
              "       liveness  loudness  mode  speechiness    tempo  time_signature  \\\n",
              "1863     0.4630   -12.541     0        0.000    0.000               0   \n",
              "2013     0.0924   -18.472     0        0.878  101.610               3   \n",
              "2329     0.8210   -21.700     1        0.912  109.195               4   \n",
              "2998     0.4270    -8.074     0        0.000    0.000               0   \n",
              "3511     0.1970   -30.465     1        0.755  138.017               3   \n",
              "...         ...       ...   ...          ...      ...             ...   \n",
              "99720    0.4370   -21.699     1        0.877  116.575               3   \n",
              "99722    0.2850   -23.195     0        0.952   92.748               4   \n",
              "99723    0.7960   -11.251     1        0.724  101.590               5   \n",
              "99724    0.3550   -21.347     1        0.000    0.000               0   \n",
              "99725    0.5090   -20.782     1        0.000    0.000               0   \n",
              "\n",
              "       valence  popularity  \n",
              "1863     0.000           0  \n",
              "2013     0.772           0  \n",
              "2329     0.928           0  \n",
              "2998     0.000           0  \n",
              "3511     0.260           0  \n",
              "...        ...         ...  \n",
              "99720    0.648          18  \n",
              "99722    0.169          18  \n",
              "99723    0.863          17  \n",
              "99724    0.000           7  \n",
              "99725    0.000           6  \n",
              "\n",
              "[99 rows x 16 columns]"
            ],
            "text/html": [
              "\n",
              "  <div id=\"df-7cae9a83-a211-4d37-9cac-10bec189e8a7\" class=\"colab-df-container\">\n",
              "    <div>\n",
              "<style scoped>\n",
              "    .dataframe tbody tr th:only-of-type {\n",
              "        vertical-align: middle;\n",
              "    }\n",
              "\n",
              "    .dataframe tbody tr th {\n",
              "        vertical-align: top;\n",
              "    }\n",
              "\n",
              "    .dataframe thead th {\n",
              "        text-align: right;\n",
              "    }\n",
              "</style>\n",
              "<table border=\"1\" class=\"dataframe\">\n",
              "  <thead>\n",
              "    <tr style=\"text-align: right;\">\n",
              "      <th></th>\n",
              "      <th>artist_name</th>\n",
              "      <th>track_name</th>\n",
              "      <th>acousticness</th>\n",
              "      <th>danceability</th>\n",
              "      <th>duration_ms</th>\n",
              "      <th>energy</th>\n",
              "      <th>instrumentalness</th>\n",
              "      <th>key</th>\n",
              "      <th>liveness</th>\n",
              "      <th>loudness</th>\n",
              "      <th>mode</th>\n",
              "      <th>speechiness</th>\n",
              "      <th>tempo</th>\n",
              "      <th>time_signature</th>\n",
              "      <th>valence</th>\n",
              "      <th>popularity</th>\n",
              "    </tr>\n",
              "  </thead>\n",
              "  <tbody>\n",
              "    <tr>\n",
              "      <th>1863</th>\n",
              "      <td>Armin van Buuren</td>\n",
              "      <td>A State Of Trance (ASOT 863) - Intro XXL Guest...</td>\n",
              "      <td>0.0698</td>\n",
              "      <td>0.000</td>\n",
              "      <td>9870</td>\n",
              "      <td>0.6460</td>\n",
              "      <td>0.0000</td>\n",
              "      <td>10</td>\n",
              "      <td>0.4630</td>\n",
              "      <td>-12.541</td>\n",
              "      <td>0</td>\n",
              "      <td>0.000</td>\n",
              "      <td>0.000</td>\n",
              "      <td>0</td>\n",
              "      <td>0.000</td>\n",
              "      <td>0</td>\n",
              "    </tr>\n",
              "    <tr>\n",
              "      <th>2013</th>\n",
              "      <td>Ace Hood</td>\n",
              "      <td>Intro (Earth Strong)</td>\n",
              "      <td>0.9190</td>\n",
              "      <td>0.783</td>\n",
              "      <td>15906</td>\n",
              "      <td>0.0918</td>\n",
              "      <td>0.0000</td>\n",
              "      <td>8</td>\n",
              "      <td>0.0924</td>\n",
              "      <td>-18.472</td>\n",
              "      <td>0</td>\n",
              "      <td>0.878</td>\n",
              "      <td>101.610</td>\n",
              "      <td>3</td>\n",
              "      <td>0.772</td>\n",
              "      <td>0</td>\n",
              "    </tr>\n",
              "    <tr>\n",
              "      <th>2329</th>\n",
              "      <td>A$AP ANT</td>\n",
              "      <td>#FREESHAKA INTRO</td>\n",
              "      <td>0.9230</td>\n",
              "      <td>0.702</td>\n",
              "      <td>15440</td>\n",
              "      <td>0.3930</td>\n",
              "      <td>0.1070</td>\n",
              "      <td>10</td>\n",
              "      <td>0.8210</td>\n",
              "      <td>-21.700</td>\n",
              "      <td>1</td>\n",
              "      <td>0.912</td>\n",
              "      <td>109.195</td>\n",
              "      <td>4</td>\n",
              "      <td>0.928</td>\n",
              "      <td>0</td>\n",
              "    </tr>\n",
              "    <tr>\n",
              "      <th>2998</th>\n",
              "      <td>Waka Flocka Flame</td>\n",
              "      <td>Tune-Up Man Skit (feat. Slim Dunkin)</td>\n",
              "      <td>0.3660</td>\n",
              "      <td>0.000</td>\n",
              "      <td>14616</td>\n",
              "      <td>0.4060</td>\n",
              "      <td>0.0000</td>\n",
              "      <td>5</td>\n",
              "      <td>0.4270</td>\n",
              "      <td>-8.074</td>\n",
              "      <td>0</td>\n",
              "      <td>0.000</td>\n",
              "      <td>0.000</td>\n",
              "      <td>0</td>\n",
              "      <td>0.000</td>\n",
              "      <td>0</td>\n",
              "    </tr>\n",
              "    <tr>\n",
              "      <th>3511</th>\n",
              "      <td>Neil Young</td>\n",
              "      <td>Perry Como Rap - Live</td>\n",
              "      <td>0.4880</td>\n",
              "      <td>0.426</td>\n",
              "      <td>17067</td>\n",
              "      <td>0.2070</td>\n",
              "      <td>0.0451</td>\n",
              "      <td>7</td>\n",
              "      <td>0.1970</td>\n",
              "      <td>-30.465</td>\n",
              "      <td>1</td>\n",
              "      <td>0.755</td>\n",
              "      <td>138.017</td>\n",
              "      <td>3</td>\n",
              "      <td>0.260</td>\n",
              "      <td>0</td>\n",
              "    </tr>\n",
              "    <tr>\n",
              "      <th>...</th>\n",
              "      <td>...</td>\n",
              "      <td>...</td>\n",
              "      <td>...</td>\n",
              "      <td>...</td>\n",
              "      <td>...</td>\n",
              "      <td>...</td>\n",
              "      <td>...</td>\n",
              "      <td>...</td>\n",
              "      <td>...</td>\n",
              "      <td>...</td>\n",
              "      <td>...</td>\n",
              "      <td>...</td>\n",
              "      <td>...</td>\n",
              "      <td>...</td>\n",
              "      <td>...</td>\n",
              "      <td>...</td>\n",
              "    </tr>\n",
              "    <tr>\n",
              "      <th>99720</th>\n",
              "      <td>Cast</td>\n",
              "      <td>I'll Wait For You - Dialogue</td>\n",
              "      <td>0.8580</td>\n",
              "      <td>0.718</td>\n",
              "      <td>19133</td>\n",
              "      <td>0.1280</td>\n",
              "      <td>0.0000</td>\n",
              "      <td>6</td>\n",
              "      <td>0.4370</td>\n",
              "      <td>-21.699</td>\n",
              "      <td>1</td>\n",
              "      <td>0.877</td>\n",
              "      <td>116.575</td>\n",
              "      <td>3</td>\n",
              "      <td>0.648</td>\n",
              "      <td>18</td>\n",
              "    </tr>\n",
              "    <tr>\n",
              "      <th>99722</th>\n",
              "      <td>Cast</td>\n",
              "      <td>Vows - Dialogue</td>\n",
              "      <td>0.7110</td>\n",
              "      <td>0.789</td>\n",
              "      <td>17933</td>\n",
              "      <td>0.2640</td>\n",
              "      <td>0.0000</td>\n",
              "      <td>0</td>\n",
              "      <td>0.2850</td>\n",
              "      <td>-23.195</td>\n",
              "      <td>0</td>\n",
              "      <td>0.952</td>\n",
              "      <td>92.748</td>\n",
              "      <td>4</td>\n",
              "      <td>0.169</td>\n",
              "      <td>18</td>\n",
              "    </tr>\n",
              "    <tr>\n",
              "      <th>99723</th>\n",
              "      <td>Cast</td>\n",
              "      <td>Fabulous French - Dialogue</td>\n",
              "      <td>0.8070</td>\n",
              "      <td>0.514</td>\n",
              "      <td>19493</td>\n",
              "      <td>0.7000</td>\n",
              "      <td>0.0000</td>\n",
              "      <td>7</td>\n",
              "      <td>0.7960</td>\n",
              "      <td>-11.251</td>\n",
              "      <td>1</td>\n",
              "      <td>0.724</td>\n",
              "      <td>101.590</td>\n",
              "      <td>5</td>\n",
              "      <td>0.863</td>\n",
              "      <td>17</td>\n",
              "    </tr>\n",
              "    <tr>\n",
              "      <th>99724</th>\n",
              "      <td>Cast</td>\n",
              "      <td>How Do You Hear It? - Dialogue</td>\n",
              "      <td>0.6060</td>\n",
              "      <td>0.000</td>\n",
              "      <td>14507</td>\n",
              "      <td>0.1300</td>\n",
              "      <td>0.0000</td>\n",
              "      <td>9</td>\n",
              "      <td>0.3550</td>\n",
              "      <td>-21.347</td>\n",
              "      <td>1</td>\n",
              "      <td>0.000</td>\n",
              "      <td>0.000</td>\n",
              "      <td>0</td>\n",
              "      <td>0.000</td>\n",
              "      <td>7</td>\n",
              "    </tr>\n",
              "    <tr>\n",
              "      <th>99725</th>\n",
              "      <td>Cast</td>\n",
              "      <td>SNL - Dialogue</td>\n",
              "      <td>0.4080</td>\n",
              "      <td>0.000</td>\n",
              "      <td>13147</td>\n",
              "      <td>0.0604</td>\n",
              "      <td>0.0000</td>\n",
              "      <td>6</td>\n",
              "      <td>0.5090</td>\n",
              "      <td>-20.782</td>\n",
              "      <td>1</td>\n",
              "      <td>0.000</td>\n",
              "      <td>0.000</td>\n",
              "      <td>0</td>\n",
              "      <td>0.000</td>\n",
              "      <td>6</td>\n",
              "    </tr>\n",
              "  </tbody>\n",
              "</table>\n",
              "<p>99 rows × 16 columns</p>\n",
              "</div>\n",
              "    <div class=\"colab-df-buttons\">\n",
              "\n",
              "  <div class=\"colab-df-container\">\n",
              "    <button class=\"colab-df-convert\" onclick=\"convertToInteractive('df-7cae9a83-a211-4d37-9cac-10bec189e8a7')\"\n",
              "            title=\"Convert this dataframe to an interactive table.\"\n",
              "            style=\"display:none;\">\n",
              "\n",
              "  <svg xmlns=\"http://www.w3.org/2000/svg\" height=\"24px\" viewBox=\"0 -960 960 960\">\n",
              "    <path d=\"M120-120v-720h720v720H120Zm60-500h600v-160H180v160Zm220 220h160v-160H400v160Zm0 220h160v-160H400v160ZM180-400h160v-160H180v160Zm440 0h160v-160H620v160ZM180-180h160v-160H180v160Zm440 0h160v-160H620v160Z\"/>\n",
              "  </svg>\n",
              "    </button>\n",
              "\n",
              "  <style>\n",
              "    .colab-df-container {\n",
              "      display:flex;\n",
              "      gap: 12px;\n",
              "    }\n",
              "\n",
              "    .colab-df-convert {\n",
              "      background-color: #E8F0FE;\n",
              "      border: none;\n",
              "      border-radius: 50%;\n",
              "      cursor: pointer;\n",
              "      display: none;\n",
              "      fill: #1967D2;\n",
              "      height: 32px;\n",
              "      padding: 0 0 0 0;\n",
              "      width: 32px;\n",
              "    }\n",
              "\n",
              "    .colab-df-convert:hover {\n",
              "      background-color: #E2EBFA;\n",
              "      box-shadow: 0px 1px 2px rgba(60, 64, 67, 0.3), 0px 1px 3px 1px rgba(60, 64, 67, 0.15);\n",
              "      fill: #174EA6;\n",
              "    }\n",
              "\n",
              "    .colab-df-buttons div {\n",
              "      margin-bottom: 4px;\n",
              "    }\n",
              "\n",
              "    [theme=dark] .colab-df-convert {\n",
              "      background-color: #3B4455;\n",
              "      fill: #D2E3FC;\n",
              "    }\n",
              "\n",
              "    [theme=dark] .colab-df-convert:hover {\n",
              "      background-color: #434B5C;\n",
              "      box-shadow: 0px 1px 3px 1px rgba(0, 0, 0, 0.15);\n",
              "      filter: drop-shadow(0px 1px 2px rgba(0, 0, 0, 0.3));\n",
              "      fill: #FFFFFF;\n",
              "    }\n",
              "  </style>\n",
              "\n",
              "    <script>\n",
              "      const buttonEl =\n",
              "        document.querySelector('#df-7cae9a83-a211-4d37-9cac-10bec189e8a7 button.colab-df-convert');\n",
              "      buttonEl.style.display =\n",
              "        google.colab.kernel.accessAllowed ? 'block' : 'none';\n",
              "\n",
              "      async function convertToInteractive(key) {\n",
              "        const element = document.querySelector('#df-7cae9a83-a211-4d37-9cac-10bec189e8a7');\n",
              "        const dataTable =\n",
              "          await google.colab.kernel.invokeFunction('convertToInteractive',\n",
              "                                                    [key], {});\n",
              "        if (!dataTable) return;\n",
              "\n",
              "        const docLinkHtml = 'Like what you see? Visit the ' +\n",
              "          '<a target=\"_blank\" href=https://colab.research.google.com/notebooks/data_table.ipynb>data table notebook</a>'\n",
              "          + ' to learn more about interactive tables.';\n",
              "        element.innerHTML = '';\n",
              "        dataTable['output_type'] = 'display_data';\n",
              "        await google.colab.output.renderOutput(dataTable, element);\n",
              "        const docLink = document.createElement('div');\n",
              "        docLink.innerHTML = docLinkHtml;\n",
              "        element.appendChild(docLink);\n",
              "      }\n",
              "    </script>\n",
              "  </div>\n",
              "\n",
              "\n",
              "<div id=\"df-1966f1a8-0551-4525-8b08-15456b3e4d94\">\n",
              "  <button class=\"colab-df-quickchart\" onclick=\"quickchart('df-1966f1a8-0551-4525-8b08-15456b3e4d94')\"\n",
              "            title=\"Suggest charts\"\n",
              "            style=\"display:none;\">\n",
              "\n",
              "<svg xmlns=\"http://www.w3.org/2000/svg\" height=\"24px\"viewBox=\"0 0 24 24\"\n",
              "     width=\"24px\">\n",
              "    <g>\n",
              "        <path d=\"M19 3H5c-1.1 0-2 .9-2 2v14c0 1.1.9 2 2 2h14c1.1 0 2-.9 2-2V5c0-1.1-.9-2-2-2zM9 17H7v-7h2v7zm4 0h-2V7h2v10zm4 0h-2v-4h2v4z\"/>\n",
              "    </g>\n",
              "</svg>\n",
              "  </button>\n",
              "\n",
              "<style>\n",
              "  .colab-df-quickchart {\n",
              "      --bg-color: #E8F0FE;\n",
              "      --fill-color: #1967D2;\n",
              "      --hover-bg-color: #E2EBFA;\n",
              "      --hover-fill-color: #174EA6;\n",
              "      --disabled-fill-color: #AAA;\n",
              "      --disabled-bg-color: #DDD;\n",
              "  }\n",
              "\n",
              "  [theme=dark] .colab-df-quickchart {\n",
              "      --bg-color: #3B4455;\n",
              "      --fill-color: #D2E3FC;\n",
              "      --hover-bg-color: #434B5C;\n",
              "      --hover-fill-color: #FFFFFF;\n",
              "      --disabled-bg-color: #3B4455;\n",
              "      --disabled-fill-color: #666;\n",
              "  }\n",
              "\n",
              "  .colab-df-quickchart {\n",
              "    background-color: var(--bg-color);\n",
              "    border: none;\n",
              "    border-radius: 50%;\n",
              "    cursor: pointer;\n",
              "    display: none;\n",
              "    fill: var(--fill-color);\n",
              "    height: 32px;\n",
              "    padding: 0;\n",
              "    width: 32px;\n",
              "  }\n",
              "\n",
              "  .colab-df-quickchart:hover {\n",
              "    background-color: var(--hover-bg-color);\n",
              "    box-shadow: 0 1px 2px rgba(60, 64, 67, 0.3), 0 1px 3px 1px rgba(60, 64, 67, 0.15);\n",
              "    fill: var(--button-hover-fill-color);\n",
              "  }\n",
              "\n",
              "  .colab-df-quickchart-complete:disabled,\n",
              "  .colab-df-quickchart-complete:disabled:hover {\n",
              "    background-color: var(--disabled-bg-color);\n",
              "    fill: var(--disabled-fill-color);\n",
              "    box-shadow: none;\n",
              "  }\n",
              "\n",
              "  .colab-df-spinner {\n",
              "    border: 2px solid var(--fill-color);\n",
              "    border-color: transparent;\n",
              "    border-bottom-color: var(--fill-color);\n",
              "    animation:\n",
              "      spin 1s steps(1) infinite;\n",
              "  }\n",
              "\n",
              "  @keyframes spin {\n",
              "    0% {\n",
              "      border-color: transparent;\n",
              "      border-bottom-color: var(--fill-color);\n",
              "      border-left-color: var(--fill-color);\n",
              "    }\n",
              "    20% {\n",
              "      border-color: transparent;\n",
              "      border-left-color: var(--fill-color);\n",
              "      border-top-color: var(--fill-color);\n",
              "    }\n",
              "    30% {\n",
              "      border-color: transparent;\n",
              "      border-left-color: var(--fill-color);\n",
              "      border-top-color: var(--fill-color);\n",
              "      border-right-color: var(--fill-color);\n",
              "    }\n",
              "    40% {\n",
              "      border-color: transparent;\n",
              "      border-right-color: var(--fill-color);\n",
              "      border-top-color: var(--fill-color);\n",
              "    }\n",
              "    60% {\n",
              "      border-color: transparent;\n",
              "      border-right-color: var(--fill-color);\n",
              "    }\n",
              "    80% {\n",
              "      border-color: transparent;\n",
              "      border-right-color: var(--fill-color);\n",
              "      border-bottom-color: var(--fill-color);\n",
              "    }\n",
              "    90% {\n",
              "      border-color: transparent;\n",
              "      border-bottom-color: var(--fill-color);\n",
              "    }\n",
              "  }\n",
              "</style>\n",
              "\n",
              "  <script>\n",
              "    async function quickchart(key) {\n",
              "      const quickchartButtonEl =\n",
              "        document.querySelector('#' + key + ' button');\n",
              "      quickchartButtonEl.disabled = true;  // To prevent multiple clicks.\n",
              "      quickchartButtonEl.classList.add('colab-df-spinner');\n",
              "      try {\n",
              "        const charts = await google.colab.kernel.invokeFunction(\n",
              "            'suggestCharts', [key], {});\n",
              "      } catch (error) {\n",
              "        console.error('Error during call to suggestCharts:', error);\n",
              "      }\n",
              "      quickchartButtonEl.classList.remove('colab-df-spinner');\n",
              "      quickchartButtonEl.classList.add('colab-df-quickchart-complete');\n",
              "    }\n",
              "    (() => {\n",
              "      let quickchartButtonEl =\n",
              "        document.querySelector('#df-1966f1a8-0551-4525-8b08-15456b3e4d94 button');\n",
              "      quickchartButtonEl.style.display =\n",
              "        google.colab.kernel.accessAllowed ? 'block' : 'none';\n",
              "    })();\n",
              "  </script>\n",
              "</div>\n",
              "    </div>\n",
              "  </div>\n"
            ],
            "application/vnd.google.colaboratory.intrinsic+json": {
              "type": "dataframe",
              "summary": "{\n  \"name\": \"songs_df[songs_df['duration_ms'] < 20000]\",\n  \"rows\": 99,\n  \"fields\": [\n    {\n      \"column\": \"artist_name\",\n      \"properties\": {\n        \"dtype\": \"category\",\n        \"num_unique_values\": 26,\n        \"samples\": [\n          \"Eazy Mac\",\n          \"Yuvan Shankar Raja\",\n          \"Armin van Buuren\"\n        ],\n        \"semantic_type\": \"\",\n        \"description\": \"\"\n      }\n    },\n    {\n      \"column\": \"track_name\",\n      \"properties\": {\n        \"dtype\": \"string\",\n        \"num_unique_values\": 92,\n        \"samples\": [\n          \"Markus Passion, BWV 247: Recitativo (Evangelista) \\\"Und am ersten Tage der s\\u00fcssen Brote\\\" (aus BWV 244)\",\n          \"St. John Passion, BWV 245, Pt. 1: No. 12b, Bist du nicht seiner J\\u00fcnger einer\",\n          \"St Matthew Passion, BWV 244: Part II, No. 54: Double Chorus \\\"Barabbas!\\\"\"\n        ],\n        \"semantic_type\": \"\",\n        \"description\": \"\"\n      }\n    },\n    {\n      \"column\": \"acousticness\",\n      \"properties\": {\n        \"dtype\": \"number\",\n        \"std\": 0.24364453029538163,\n        \"min\": 0.0,\n        \"max\": 0.993,\n        \"num_unique_values\": 76,\n        \"samples\": [\n          0.488,\n          0.949,\n          0.456\n        ],\n        \"semantic_type\": \"\",\n        \"description\": \"\"\n      }\n    },\n    {\n      \"column\": \"danceability\",\n      \"properties\": {\n        \"dtype\": \"number\",\n        \"std\": 0.28998570753597347,\n        \"min\": 0.0,\n        \"max\": 0.8390000000000001,\n        \"num_unique_values\": 40,\n        \"samples\": [\n          0.551,\n          0.625,\n          0.622\n        ],\n        \"semantic_type\": \"\",\n        \"description\": \"\"\n      }\n    },\n    {\n      \"column\": \"duration_ms\",\n      \"properties\": {\n        \"dtype\": \"number\",\n        \"std\": 4359,\n        \"min\": 3203,\n        \"max\": 19973,\n        \"num_unique_values\": 91,\n        \"samples\": [\n          15000,\n          18844,\n          5827\n        ],\n        \"semantic_type\": \"\",\n        \"description\": \"\"\n      }\n    },\n    {\n      \"column\": \"energy\",\n      \"properties\": {\n        \"dtype\": \"number\",\n        \"std\": 0.25001338156312086,\n        \"min\": 0.0218,\n        \"max\": 0.995,\n        \"num_unique_values\": 89,\n        \"samples\": [\n          0.1009999999999999,\n          0.412,\n          0.304\n        ],\n        \"semantic_type\": \"\",\n        \"description\": \"\"\n      }\n    },\n    {\n      \"column\": \"instrumentalness\",\n      \"properties\": {\n        \"dtype\": \"number\",\n        \"std\": 0.260774273237497,\n        \"min\": 0.0,\n        \"max\": 0.999,\n        \"num_unique_values\": 35,\n        \"samples\": [\n          6.2e-05,\n          0.93,\n          0.0649\n        ],\n        \"semantic_type\": \"\",\n        \"description\": \"\"\n      }\n    },\n    {\n      \"column\": \"key\",\n      \"properties\": {\n        \"dtype\": \"number\",\n        \"std\": 3,\n        \"min\": 0,\n        \"max\": 11,\n        \"num_unique_values\": 12,\n        \"samples\": [\n          4,\n          11,\n          10\n        ],\n        \"semantic_type\": \"\",\n        \"description\": \"\"\n      }\n    },\n    {\n      \"column\": \"liveness\",\n      \"properties\": {\n        \"dtype\": \"number\",\n        \"std\": 0.2868578795450835,\n        \"min\": 0.0,\n        \"max\": 0.993,\n        \"num_unique_values\": 80,\n        \"samples\": [\n          0.481,\n          0.4629999999999999,\n          0.6609999999999999\n        ],\n        \"semantic_type\": \"\",\n        \"description\": \"\"\n      }\n    },\n    {\n      \"column\": \"loudness\",\n      \"properties\": {\n        \"dtype\": \"number\",\n        \"std\": 6.074674322794173,\n        \"min\": -32.59,\n        \"max\": -5.239,\n        \"num_unique_values\": 92,\n        \"samples\": [\n          -23.245,\n          -20.626,\n          -11.674\n        ],\n        \"semantic_type\": \"\",\n        \"description\": \"\"\n      }\n    },\n    {\n      \"column\": \"mode\",\n      \"properties\": {\n        \"dtype\": \"number\",\n        \"std\": 0,\n        \"min\": 0,\n        \"max\": 1,\n        \"num_unique_values\": 2,\n        \"samples\": [\n          1,\n          0\n        ],\n        \"semantic_type\": \"\",\n        \"description\": \"\"\n      }\n    },\n    {\n      \"column\": \"speechiness\",\n      \"properties\": {\n        \"dtype\": \"number\",\n        \"std\": 0.3116318325722779,\n        \"min\": 0.0,\n        \"max\": 0.952,\n        \"num_unique_values\": 40,\n        \"samples\": [\n          0.0854,\n          0.225\n        ],\n        \"semantic_type\": \"\",\n        \"description\": \"\"\n      }\n    },\n    {\n      \"column\": \"tempo\",\n      \"properties\": {\n        \"dtype\": \"number\",\n        \"std\": 56.90923333568546,\n        \"min\": 0.0,\n        \"max\": 181.762,\n        \"num_unique_values\": 40,\n        \"samples\": [\n          75.773,\n          116.277\n        ],\n        \"semantic_type\": \"\",\n        \"description\": \"\"\n      }\n    },\n    {\n      \"column\": \"time_signature\",\n      \"properties\": {\n        \"dtype\": \"number\",\n        \"std\": 1,\n        \"min\": 0,\n        \"max\": 5,\n        \"num_unique_values\": 5,\n        \"samples\": [\n          3,\n          5\n        ],\n        \"semantic_type\": \"\",\n        \"description\": \"\"\n      }\n    },\n    {\n      \"column\": \"valence\",\n      \"properties\": {\n        \"dtype\": \"number\",\n        \"std\": 0.268412608470429,\n        \"min\": 0.0,\n        \"max\": 0.95,\n        \"num_unique_values\": 28,\n        \"samples\": [\n          0.336,\n          0.863\n        ],\n        \"semantic_type\": \"\",\n        \"description\": \"\"\n      }\n    },\n    {\n      \"column\": \"popularity\",\n      \"properties\": {\n        \"dtype\": \"number\",\n        \"std\": 6,\n        \"min\": 0,\n        \"max\": 33,\n        \"num_unique_values\": 11,\n        \"samples\": [\n          19,\n          0\n        ],\n        \"semantic_type\": \"\",\n        \"description\": \"\"\n      }\n    }\n  ]\n}"
            }
          },
          "metadata": {},
          "execution_count": 22
        }
      ],
      "source": [
        "# Songs under 20 seconds\n",
        "songs_df[songs_df['duration_ms'] < 20000]"
      ]
    },
    {
      "cell_type": "code",
      "execution_count": null,
      "metadata": {
        "colab": {
          "base_uri": "https://localhost:8080/",
          "height": 791
        },
        "id": "AZnITMET6bqS",
        "outputId": "b0dc19d1-c32b-4e1b-c282-ac5f9f9aaad8"
      },
      "outputs": [
        {
          "output_type": "execute_result",
          "data": {
            "text/plain": [
              "              artist_name                                         track_name  \\\n",
              "5427             Excision                                Lost Lands 2017 Mix   \n",
              "5957          Franz Liszt                          Sonata in B Minor, S. 178   \n",
              "27786          Monstercat  #194 - Monstercat: Call of the Wild (Hosted by...   \n",
              "30268   Gentle Whispering                             Fluffy Sleepy Whispers   \n",
              "32375           White Sun                                 Eka Mai Recitation   \n",
              "...                   ...                                                ...   \n",
              "95595       Grateful Dead  Playing In The Band - Live at Hec Edmundson Pa...   \n",
              "104866        Rain Sounds                         Rainy Journey With A Train   \n",
              "104871        Rain Sounds                               Rainforest & Animals   \n",
              "104881        Rain Sounds                               White Noise - 1 Hour   \n",
              "115939               Rezz           Nightmare On Rezz Street (Halloween Mix)   \n",
              "\n",
              "        acousticness  danceability  duration_ms   energy  instrumentalness  \\\n",
              "5427         0.00164         0.467      4830606  0.94800          0.010300   \n",
              "5957         0.98900         0.290      1839520  0.09590          0.880000   \n",
              "27786        0.00891         0.305      3627887  0.84700          0.002070   \n",
              "30268        0.09380         0.317      2097245  0.03080          0.000007   \n",
              "32375        0.97300         0.593      2105744  0.04980          0.007090   \n",
              "...              ...           ...          ...      ...               ...   \n",
              "95595        0.54700         0.453      2791933  0.46700          0.426000   \n",
              "104866       0.00150         0.207      3237000  0.54400          0.865000   \n",
              "104871       0.14200         0.259      2770500  0.71400          0.868000   \n",
              "104881       0.27700         0.000      3332195  0.00002          0.618000   \n",
              "115939       0.05220         0.450      1908767  0.52800          0.637000   \n",
              "\n",
              "        key  liveness  loudness  mode  speechiness    tempo  time_signature  \\\n",
              "5427      1    0.4050    -1.929     1       0.2990  148.898               4   \n",
              "5957      6    0.0896   -22.171     1       0.0417   88.305               4   \n",
              "27786     5    0.3720    -4.056     0       0.1540  174.016               4   \n",
              "30268     2    0.3370   -48.914     0       0.0852  115.481               3   \n",
              "32375     4    0.0862   -22.175     1       0.0441   83.000               4   \n",
              "...     ...       ...       ...   ...          ...      ...             ...   \n",
              "95595     9    0.9610   -12.002     0       0.0384  137.525               4   \n",
              "104866    1    0.5010   -25.356     1       0.0511   77.907               4   \n",
              "104871    1    0.4270   -23.169     1       0.1830  115.754               3   \n",
              "104881    8    0.9120   -22.417     0       0.0000    0.000               0   \n",
              "115939    7    0.0664   -12.588     1       0.0538  103.156               4   \n",
              "\n",
              "        valence  popularity  \n",
              "5427     0.3170          41  \n",
              "5957     0.0378           2  \n",
              "27786    0.2460           0  \n",
              "30268    0.0295          37  \n",
              "32375    0.1910          37  \n",
              "...         ...         ...  \n",
              "95595    0.3900          34  \n",
              "104866   0.0942           3  \n",
              "104871   0.0293          10  \n",
              "104881   0.0000           8  \n",
              "115939   0.0969          49  \n",
              "\n",
              "[161 rows x 16 columns]"
            ],
            "text/html": [
              "\n",
              "  <div id=\"df-2a9281c1-9fe7-47f4-a287-53c30ea6f2ae\" class=\"colab-df-container\">\n",
              "    <div>\n",
              "<style scoped>\n",
              "    .dataframe tbody tr th:only-of-type {\n",
              "        vertical-align: middle;\n",
              "    }\n",
              "\n",
              "    .dataframe tbody tr th {\n",
              "        vertical-align: top;\n",
              "    }\n",
              "\n",
              "    .dataframe thead th {\n",
              "        text-align: right;\n",
              "    }\n",
              "</style>\n",
              "<table border=\"1\" class=\"dataframe\">\n",
              "  <thead>\n",
              "    <tr style=\"text-align: right;\">\n",
              "      <th></th>\n",
              "      <th>artist_name</th>\n",
              "      <th>track_name</th>\n",
              "      <th>acousticness</th>\n",
              "      <th>danceability</th>\n",
              "      <th>duration_ms</th>\n",
              "      <th>energy</th>\n",
              "      <th>instrumentalness</th>\n",
              "      <th>key</th>\n",
              "      <th>liveness</th>\n",
              "      <th>loudness</th>\n",
              "      <th>mode</th>\n",
              "      <th>speechiness</th>\n",
              "      <th>tempo</th>\n",
              "      <th>time_signature</th>\n",
              "      <th>valence</th>\n",
              "      <th>popularity</th>\n",
              "    </tr>\n",
              "  </thead>\n",
              "  <tbody>\n",
              "    <tr>\n",
              "      <th>5427</th>\n",
              "      <td>Excision</td>\n",
              "      <td>Lost Lands 2017 Mix</td>\n",
              "      <td>0.00164</td>\n",
              "      <td>0.467</td>\n",
              "      <td>4830606</td>\n",
              "      <td>0.94800</td>\n",
              "      <td>0.010300</td>\n",
              "      <td>1</td>\n",
              "      <td>0.4050</td>\n",
              "      <td>-1.929</td>\n",
              "      <td>1</td>\n",
              "      <td>0.2990</td>\n",
              "      <td>148.898</td>\n",
              "      <td>4</td>\n",
              "      <td>0.3170</td>\n",
              "      <td>41</td>\n",
              "    </tr>\n",
              "    <tr>\n",
              "      <th>5957</th>\n",
              "      <td>Franz Liszt</td>\n",
              "      <td>Sonata in B Minor, S. 178</td>\n",
              "      <td>0.98900</td>\n",
              "      <td>0.290</td>\n",
              "      <td>1839520</td>\n",
              "      <td>0.09590</td>\n",
              "      <td>0.880000</td>\n",
              "      <td>6</td>\n",
              "      <td>0.0896</td>\n",
              "      <td>-22.171</td>\n",
              "      <td>1</td>\n",
              "      <td>0.0417</td>\n",
              "      <td>88.305</td>\n",
              "      <td>4</td>\n",
              "      <td>0.0378</td>\n",
              "      <td>2</td>\n",
              "    </tr>\n",
              "    <tr>\n",
              "      <th>27786</th>\n",
              "      <td>Monstercat</td>\n",
              "      <td>#194 - Monstercat: Call of the Wild (Hosted by...</td>\n",
              "      <td>0.00891</td>\n",
              "      <td>0.305</td>\n",
              "      <td>3627887</td>\n",
              "      <td>0.84700</td>\n",
              "      <td>0.002070</td>\n",
              "      <td>5</td>\n",
              "      <td>0.3720</td>\n",
              "      <td>-4.056</td>\n",
              "      <td>0</td>\n",
              "      <td>0.1540</td>\n",
              "      <td>174.016</td>\n",
              "      <td>4</td>\n",
              "      <td>0.2460</td>\n",
              "      <td>0</td>\n",
              "    </tr>\n",
              "    <tr>\n",
              "      <th>30268</th>\n",
              "      <td>Gentle Whispering</td>\n",
              "      <td>Fluffy Sleepy Whispers</td>\n",
              "      <td>0.09380</td>\n",
              "      <td>0.317</td>\n",
              "      <td>2097245</td>\n",
              "      <td>0.03080</td>\n",
              "      <td>0.000007</td>\n",
              "      <td>2</td>\n",
              "      <td>0.3370</td>\n",
              "      <td>-48.914</td>\n",
              "      <td>0</td>\n",
              "      <td>0.0852</td>\n",
              "      <td>115.481</td>\n",
              "      <td>3</td>\n",
              "      <td>0.0295</td>\n",
              "      <td>37</td>\n",
              "    </tr>\n",
              "    <tr>\n",
              "      <th>32375</th>\n",
              "      <td>White Sun</td>\n",
              "      <td>Eka Mai Recitation</td>\n",
              "      <td>0.97300</td>\n",
              "      <td>0.593</td>\n",
              "      <td>2105744</td>\n",
              "      <td>0.04980</td>\n",
              "      <td>0.007090</td>\n",
              "      <td>4</td>\n",
              "      <td>0.0862</td>\n",
              "      <td>-22.175</td>\n",
              "      <td>1</td>\n",
              "      <td>0.0441</td>\n",
              "      <td>83.000</td>\n",
              "      <td>4</td>\n",
              "      <td>0.1910</td>\n",
              "      <td>37</td>\n",
              "    </tr>\n",
              "    <tr>\n",
              "      <th>...</th>\n",
              "      <td>...</td>\n",
              "      <td>...</td>\n",
              "      <td>...</td>\n",
              "      <td>...</td>\n",
              "      <td>...</td>\n",
              "      <td>...</td>\n",
              "      <td>...</td>\n",
              "      <td>...</td>\n",
              "      <td>...</td>\n",
              "      <td>...</td>\n",
              "      <td>...</td>\n",
              "      <td>...</td>\n",
              "      <td>...</td>\n",
              "      <td>...</td>\n",
              "      <td>...</td>\n",
              "      <td>...</td>\n",
              "    </tr>\n",
              "    <tr>\n",
              "      <th>95595</th>\n",
              "      <td>Grateful Dead</td>\n",
              "      <td>Playing In The Band - Live at Hec Edmundson Pa...</td>\n",
              "      <td>0.54700</td>\n",
              "      <td>0.453</td>\n",
              "      <td>2791933</td>\n",
              "      <td>0.46700</td>\n",
              "      <td>0.426000</td>\n",
              "      <td>9</td>\n",
              "      <td>0.9610</td>\n",
              "      <td>-12.002</td>\n",
              "      <td>0</td>\n",
              "      <td>0.0384</td>\n",
              "      <td>137.525</td>\n",
              "      <td>4</td>\n",
              "      <td>0.3900</td>\n",
              "      <td>34</td>\n",
              "    </tr>\n",
              "    <tr>\n",
              "      <th>104866</th>\n",
              "      <td>Rain Sounds</td>\n",
              "      <td>Rainy Journey With A Train</td>\n",
              "      <td>0.00150</td>\n",
              "      <td>0.207</td>\n",
              "      <td>3237000</td>\n",
              "      <td>0.54400</td>\n",
              "      <td>0.865000</td>\n",
              "      <td>1</td>\n",
              "      <td>0.5010</td>\n",
              "      <td>-25.356</td>\n",
              "      <td>1</td>\n",
              "      <td>0.0511</td>\n",
              "      <td>77.907</td>\n",
              "      <td>4</td>\n",
              "      <td>0.0942</td>\n",
              "      <td>3</td>\n",
              "    </tr>\n",
              "    <tr>\n",
              "      <th>104871</th>\n",
              "      <td>Rain Sounds</td>\n",
              "      <td>Rainforest &amp; Animals</td>\n",
              "      <td>0.14200</td>\n",
              "      <td>0.259</td>\n",
              "      <td>2770500</td>\n",
              "      <td>0.71400</td>\n",
              "      <td>0.868000</td>\n",
              "      <td>1</td>\n",
              "      <td>0.4270</td>\n",
              "      <td>-23.169</td>\n",
              "      <td>1</td>\n",
              "      <td>0.1830</td>\n",
              "      <td>115.754</td>\n",
              "      <td>3</td>\n",
              "      <td>0.0293</td>\n",
              "      <td>10</td>\n",
              "    </tr>\n",
              "    <tr>\n",
              "      <th>104881</th>\n",
              "      <td>Rain Sounds</td>\n",
              "      <td>White Noise - 1 Hour</td>\n",
              "      <td>0.27700</td>\n",
              "      <td>0.000</td>\n",
              "      <td>3332195</td>\n",
              "      <td>0.00002</td>\n",
              "      <td>0.618000</td>\n",
              "      <td>8</td>\n",
              "      <td>0.9120</td>\n",
              "      <td>-22.417</td>\n",
              "      <td>0</td>\n",
              "      <td>0.0000</td>\n",
              "      <td>0.000</td>\n",
              "      <td>0</td>\n",
              "      <td>0.0000</td>\n",
              "      <td>8</td>\n",
              "    </tr>\n",
              "    <tr>\n",
              "      <th>115939</th>\n",
              "      <td>Rezz</td>\n",
              "      <td>Nightmare On Rezz Street (Halloween Mix)</td>\n",
              "      <td>0.05220</td>\n",
              "      <td>0.450</td>\n",
              "      <td>1908767</td>\n",
              "      <td>0.52800</td>\n",
              "      <td>0.637000</td>\n",
              "      <td>7</td>\n",
              "      <td>0.0664</td>\n",
              "      <td>-12.588</td>\n",
              "      <td>1</td>\n",
              "      <td>0.0538</td>\n",
              "      <td>103.156</td>\n",
              "      <td>4</td>\n",
              "      <td>0.0969</td>\n",
              "      <td>49</td>\n",
              "    </tr>\n",
              "  </tbody>\n",
              "</table>\n",
              "<p>161 rows × 16 columns</p>\n",
              "</div>\n",
              "    <div class=\"colab-df-buttons\">\n",
              "\n",
              "  <div class=\"colab-df-container\">\n",
              "    <button class=\"colab-df-convert\" onclick=\"convertToInteractive('df-2a9281c1-9fe7-47f4-a287-53c30ea6f2ae')\"\n",
              "            title=\"Convert this dataframe to an interactive table.\"\n",
              "            style=\"display:none;\">\n",
              "\n",
              "  <svg xmlns=\"http://www.w3.org/2000/svg\" height=\"24px\" viewBox=\"0 -960 960 960\">\n",
              "    <path d=\"M120-120v-720h720v720H120Zm60-500h600v-160H180v160Zm220 220h160v-160H400v160Zm0 220h160v-160H400v160ZM180-400h160v-160H180v160Zm440 0h160v-160H620v160ZM180-180h160v-160H180v160Zm440 0h160v-160H620v160Z\"/>\n",
              "  </svg>\n",
              "    </button>\n",
              "\n",
              "  <style>\n",
              "    .colab-df-container {\n",
              "      display:flex;\n",
              "      gap: 12px;\n",
              "    }\n",
              "\n",
              "    .colab-df-convert {\n",
              "      background-color: #E8F0FE;\n",
              "      border: none;\n",
              "      border-radius: 50%;\n",
              "      cursor: pointer;\n",
              "      display: none;\n",
              "      fill: #1967D2;\n",
              "      height: 32px;\n",
              "      padding: 0 0 0 0;\n",
              "      width: 32px;\n",
              "    }\n",
              "\n",
              "    .colab-df-convert:hover {\n",
              "      background-color: #E2EBFA;\n",
              "      box-shadow: 0px 1px 2px rgba(60, 64, 67, 0.3), 0px 1px 3px 1px rgba(60, 64, 67, 0.15);\n",
              "      fill: #174EA6;\n",
              "    }\n",
              "\n",
              "    .colab-df-buttons div {\n",
              "      margin-bottom: 4px;\n",
              "    }\n",
              "\n",
              "    [theme=dark] .colab-df-convert {\n",
              "      background-color: #3B4455;\n",
              "      fill: #D2E3FC;\n",
              "    }\n",
              "\n",
              "    [theme=dark] .colab-df-convert:hover {\n",
              "      background-color: #434B5C;\n",
              "      box-shadow: 0px 1px 3px 1px rgba(0, 0, 0, 0.15);\n",
              "      filter: drop-shadow(0px 1px 2px rgba(0, 0, 0, 0.3));\n",
              "      fill: #FFFFFF;\n",
              "    }\n",
              "  </style>\n",
              "\n",
              "    <script>\n",
              "      const buttonEl =\n",
              "        document.querySelector('#df-2a9281c1-9fe7-47f4-a287-53c30ea6f2ae button.colab-df-convert');\n",
              "      buttonEl.style.display =\n",
              "        google.colab.kernel.accessAllowed ? 'block' : 'none';\n",
              "\n",
              "      async function convertToInteractive(key) {\n",
              "        const element = document.querySelector('#df-2a9281c1-9fe7-47f4-a287-53c30ea6f2ae');\n",
              "        const dataTable =\n",
              "          await google.colab.kernel.invokeFunction('convertToInteractive',\n",
              "                                                    [key], {});\n",
              "        if (!dataTable) return;\n",
              "\n",
              "        const docLinkHtml = 'Like what you see? Visit the ' +\n",
              "          '<a target=\"_blank\" href=https://colab.research.google.com/notebooks/data_table.ipynb>data table notebook</a>'\n",
              "          + ' to learn more about interactive tables.';\n",
              "        element.innerHTML = '';\n",
              "        dataTable['output_type'] = 'display_data';\n",
              "        await google.colab.output.renderOutput(dataTable, element);\n",
              "        const docLink = document.createElement('div');\n",
              "        docLink.innerHTML = docLinkHtml;\n",
              "        element.appendChild(docLink);\n",
              "      }\n",
              "    </script>\n",
              "  </div>\n",
              "\n",
              "\n",
              "<div id=\"df-8f1678df-e30a-45e1-b69d-4e8a512c885d\">\n",
              "  <button class=\"colab-df-quickchart\" onclick=\"quickchart('df-8f1678df-e30a-45e1-b69d-4e8a512c885d')\"\n",
              "            title=\"Suggest charts\"\n",
              "            style=\"display:none;\">\n",
              "\n",
              "<svg xmlns=\"http://www.w3.org/2000/svg\" height=\"24px\"viewBox=\"0 0 24 24\"\n",
              "     width=\"24px\">\n",
              "    <g>\n",
              "        <path d=\"M19 3H5c-1.1 0-2 .9-2 2v14c0 1.1.9 2 2 2h14c1.1 0 2-.9 2-2V5c0-1.1-.9-2-2-2zM9 17H7v-7h2v7zm4 0h-2V7h2v10zm4 0h-2v-4h2v4z\"/>\n",
              "    </g>\n",
              "</svg>\n",
              "  </button>\n",
              "\n",
              "<style>\n",
              "  .colab-df-quickchart {\n",
              "      --bg-color: #E8F0FE;\n",
              "      --fill-color: #1967D2;\n",
              "      --hover-bg-color: #E2EBFA;\n",
              "      --hover-fill-color: #174EA6;\n",
              "      --disabled-fill-color: #AAA;\n",
              "      --disabled-bg-color: #DDD;\n",
              "  }\n",
              "\n",
              "  [theme=dark] .colab-df-quickchart {\n",
              "      --bg-color: #3B4455;\n",
              "      --fill-color: #D2E3FC;\n",
              "      --hover-bg-color: #434B5C;\n",
              "      --hover-fill-color: #FFFFFF;\n",
              "      --disabled-bg-color: #3B4455;\n",
              "      --disabled-fill-color: #666;\n",
              "  }\n",
              "\n",
              "  .colab-df-quickchart {\n",
              "    background-color: var(--bg-color);\n",
              "    border: none;\n",
              "    border-radius: 50%;\n",
              "    cursor: pointer;\n",
              "    display: none;\n",
              "    fill: var(--fill-color);\n",
              "    height: 32px;\n",
              "    padding: 0;\n",
              "    width: 32px;\n",
              "  }\n",
              "\n",
              "  .colab-df-quickchart:hover {\n",
              "    background-color: var(--hover-bg-color);\n",
              "    box-shadow: 0 1px 2px rgba(60, 64, 67, 0.3), 0 1px 3px 1px rgba(60, 64, 67, 0.15);\n",
              "    fill: var(--button-hover-fill-color);\n",
              "  }\n",
              "\n",
              "  .colab-df-quickchart-complete:disabled,\n",
              "  .colab-df-quickchart-complete:disabled:hover {\n",
              "    background-color: var(--disabled-bg-color);\n",
              "    fill: var(--disabled-fill-color);\n",
              "    box-shadow: none;\n",
              "  }\n",
              "\n",
              "  .colab-df-spinner {\n",
              "    border: 2px solid var(--fill-color);\n",
              "    border-color: transparent;\n",
              "    border-bottom-color: var(--fill-color);\n",
              "    animation:\n",
              "      spin 1s steps(1) infinite;\n",
              "  }\n",
              "\n",
              "  @keyframes spin {\n",
              "    0% {\n",
              "      border-color: transparent;\n",
              "      border-bottom-color: var(--fill-color);\n",
              "      border-left-color: var(--fill-color);\n",
              "    }\n",
              "    20% {\n",
              "      border-color: transparent;\n",
              "      border-left-color: var(--fill-color);\n",
              "      border-top-color: var(--fill-color);\n",
              "    }\n",
              "    30% {\n",
              "      border-color: transparent;\n",
              "      border-left-color: var(--fill-color);\n",
              "      border-top-color: var(--fill-color);\n",
              "      border-right-color: var(--fill-color);\n",
              "    }\n",
              "    40% {\n",
              "      border-color: transparent;\n",
              "      border-right-color: var(--fill-color);\n",
              "      border-top-color: var(--fill-color);\n",
              "    }\n",
              "    60% {\n",
              "      border-color: transparent;\n",
              "      border-right-color: var(--fill-color);\n",
              "    }\n",
              "    80% {\n",
              "      border-color: transparent;\n",
              "      border-right-color: var(--fill-color);\n",
              "      border-bottom-color: var(--fill-color);\n",
              "    }\n",
              "    90% {\n",
              "      border-color: transparent;\n",
              "      border-bottom-color: var(--fill-color);\n",
              "    }\n",
              "  }\n",
              "</style>\n",
              "\n",
              "  <script>\n",
              "    async function quickchart(key) {\n",
              "      const quickchartButtonEl =\n",
              "        document.querySelector('#' + key + ' button');\n",
              "      quickchartButtonEl.disabled = true;  // To prevent multiple clicks.\n",
              "      quickchartButtonEl.classList.add('colab-df-spinner');\n",
              "      try {\n",
              "        const charts = await google.colab.kernel.invokeFunction(\n",
              "            'suggestCharts', [key], {});\n",
              "      } catch (error) {\n",
              "        console.error('Error during call to suggestCharts:', error);\n",
              "      }\n",
              "      quickchartButtonEl.classList.remove('colab-df-spinner');\n",
              "      quickchartButtonEl.classList.add('colab-df-quickchart-complete');\n",
              "    }\n",
              "    (() => {\n",
              "      let quickchartButtonEl =\n",
              "        document.querySelector('#df-8f1678df-e30a-45e1-b69d-4e8a512c885d button');\n",
              "      quickchartButtonEl.style.display =\n",
              "        google.colab.kernel.accessAllowed ? 'block' : 'none';\n",
              "    })();\n",
              "  </script>\n",
              "</div>\n",
              "    </div>\n",
              "  </div>\n"
            ],
            "application/vnd.google.colaboratory.intrinsic+json": {
              "type": "dataframe",
              "summary": "{\n  \"name\": \"songs_df[songs_df['duration_ms'] > 1800000]\",\n  \"rows\": 161,\n  \"fields\": [\n    {\n      \"column\": \"artist_name\",\n      \"properties\": {\n        \"dtype\": \"category\",\n        \"num_unique_values\": 32,\n        \"samples\": [\n          \"Rain Sounds\",\n          \"Lily Whispers Asmr\",\n          \"Kelly Howell\"\n        ],\n        \"semantic_type\": \"\",\n        \"description\": \"\"\n      }\n    },\n    {\n      \"column\": \"track_name\",\n      \"properties\": {\n        \"dtype\": \"string\",\n        \"num_unique_values\": 90,\n        \"samples\": [\n          \"#189 - Monstercat: Call of the Wild\",\n          \"Sonata in C Minor, D. 958 (Franz Schubert)\",\n          \"#184 - Monstercat: Call of the Wild\"\n        ],\n        \"semantic_type\": \"\",\n        \"description\": \"\"\n      }\n    },\n    {\n      \"column\": \"acousticness\",\n      \"properties\": {\n        \"dtype\": \"number\",\n        \"std\": 0.40019726783377857,\n        \"min\": 0.000144,\n        \"max\": 0.991,\n        \"num_unique_values\": 80,\n        \"samples\": [\n          0.0544,\n          0.00164,\n          0.986\n        ],\n        \"semantic_type\": \"\",\n        \"description\": \"\"\n      }\n    },\n    {\n      \"column\": \"danceability\",\n      \"properties\": {\n        \"dtype\": \"number\",\n        \"std\": 0.16342936627445376,\n        \"min\": 0.0,\n        \"max\": 0.8959999999999999,\n        \"num_unique_values\": 83,\n        \"samples\": [\n          0.389,\n          0.467,\n          0.3939999999999999\n        ],\n        \"semantic_type\": \"\",\n        \"description\": \"\"\n      }\n    },\n    {\n      \"column\": \"duration_ms\",\n      \"properties\": {\n        \"dtype\": \"number\",\n        \"std\": 885133,\n        \"min\": 1803875,\n        \"max\": 5610020,\n        \"num_unique_values\": 92,\n        \"samples\": [\n          1805520,\n          1895653,\n          2278602\n        ],\n        \"semantic_type\": \"\",\n        \"description\": \"\"\n      }\n    },\n    {\n      \"column\": \"energy\",\n      \"properties\": {\n        \"dtype\": \"number\",\n        \"std\": 0.32927154395722436,\n        \"min\": 2.01e-05,\n        \"max\": 0.994,\n        \"num_unique_values\": 89,\n        \"samples\": [\n          0.77,\n          0.6509999999999999,\n          0.0453\n        ],\n        \"semantic_type\": \"\",\n        \"description\": \"\"\n      }\n    },\n    {\n      \"column\": \"instrumentalness\",\n      \"properties\": {\n        \"dtype\": \"number\",\n        \"std\": 0.4167246751487388,\n        \"min\": 0.0,\n        \"max\": 0.974,\n        \"num_unique_values\": 65,\n        \"samples\": [\n          0.00271,\n          0.865,\n          0.0103\n        ],\n        \"semantic_type\": \"\",\n        \"description\": \"\"\n      }\n    },\n    {\n      \"column\": \"key\",\n      \"properties\": {\n        \"dtype\": \"number\",\n        \"std\": 3,\n        \"min\": 0,\n        \"max\": 11,\n        \"num_unique_values\": 11,\n        \"samples\": [\n          0,\n          1,\n          7\n        ],\n        \"semantic_type\": \"\",\n        \"description\": \"\"\n      }\n    },\n    {\n      \"column\": \"liveness\",\n      \"properties\": {\n        \"dtype\": \"number\",\n        \"std\": 0.2654600657627274,\n        \"min\": 0.0336,\n        \"max\": 0.961,\n        \"num_unique_values\": 89,\n        \"samples\": [\n          0.0737,\n          0.153,\n          0.0978\n        ],\n        \"semantic_type\": \"\",\n        \"description\": \"\"\n      }\n    },\n    {\n      \"column\": \"loudness\",\n      \"properties\": {\n        \"dtype\": \"number\",\n        \"std\": 12.928017428232739,\n        \"min\": -51.248000000000005,\n        \"max\": -1.916,\n        \"num_unique_values\": 92,\n        \"samples\": [\n          -33.891,\n          -23.262,\n          -13.916\n        ],\n        \"semantic_type\": \"\",\n        \"description\": \"\"\n      }\n    },\n    {\n      \"column\": \"mode\",\n      \"properties\": {\n        \"dtype\": \"number\",\n        \"std\": 0,\n        \"min\": 0,\n        \"max\": 1,\n        \"num_unique_values\": 2,\n        \"samples\": [\n          0,\n          1\n        ],\n        \"semantic_type\": \"\",\n        \"description\": \"\"\n      }\n    },\n    {\n      \"column\": \"speechiness\",\n      \"properties\": {\n        \"dtype\": \"number\",\n        \"std\": 0.27751397777873754,\n        \"min\": 0.0,\n        \"max\": 0.904,\n        \"num_unique_values\": 87,\n        \"samples\": [\n          0.782,\n          0.299\n        ],\n        \"semantic_type\": \"\",\n        \"description\": \"\"\n      }\n    },\n    {\n      \"column\": \"tempo\",\n      \"properties\": {\n        \"dtype\": \"number\",\n        \"std\": 30.671579761218002,\n        \"min\": 0.0,\n        \"max\": 174.016,\n        \"num_unique_values\": 91,\n        \"samples\": [\n          63.627,\n          105.18\n        ],\n        \"semantic_type\": \"\",\n        \"description\": \"\"\n      }\n    },\n    {\n      \"column\": \"time_signature\",\n      \"properties\": {\n        \"dtype\": \"number\",\n        \"std\": 0,\n        \"min\": 0,\n        \"max\": 5,\n        \"num_unique_values\": 5,\n        \"samples\": [\n          3,\n          0\n        ],\n        \"semantic_type\": \"\",\n        \"description\": \"\"\n      }\n    },\n    {\n      \"column\": \"valence\",\n      \"properties\": {\n        \"dtype\": \"number\",\n        \"std\": 0.2860713508080535,\n        \"min\": 0.0,\n        \"max\": 0.8240000000000001,\n        \"num_unique_values\": 89,\n        \"samples\": [\n          0.379,\n          0.708\n        ],\n        \"semantic_type\": \"\",\n        \"description\": \"\"\n      }\n    },\n    {\n      \"column\": \"popularity\",\n      \"properties\": {\n        \"dtype\": \"number\",\n        \"std\": 11,\n        \"min\": 0,\n        \"max\": 49,\n        \"num_unique_values\": 39,\n        \"samples\": [\n          3,\n          25\n        ],\n        \"semantic_type\": \"\",\n        \"description\": \"\"\n      }\n    }\n  ]\n}"
            }
          },
          "metadata": {},
          "execution_count": 23
        }
      ],
      "source": [
        "# Songs over 30 minutes\n",
        "songs_df[songs_df['duration_ms'] > 1800000]"
      ]
    },
    {
      "cell_type": "code",
      "execution_count": null,
      "metadata": {
        "id": "I_N8xBeIII4P"
      },
      "outputs": [],
      "source": [
        "#Drop outlier rows\n",
        "length_query = '''\n",
        "SELECT *\n",
        "FROM songs_df\n",
        "WHERE duration_ms > 20000 AND duration_ms < 1800000\n",
        "'''\n",
        "length_df_sql = ps.sqldf(length_query, locals())\n",
        "songs_df = length_df_sql"
      ]
    },
    {
      "cell_type": "markdown",
      "metadata": {
        "id": "w8F-Y1GbH_hl"
      },
      "source": [
        "Another potential outlier pertains to the `speechiness` column--speechiness refers to how much spoken word is detected in the song. According to [this dataset card](https://huggingface.co/datasets/maharshipandya/spotify-tracks-dataset), which describes a dataset that was also collected using Spotify's Web API, speechiness values above 0.66 likely describe tracks that are comprised entirely of spoken word. However, we noticed that many tracks with speechiness values between 0.66 and 0.85 are actually rap songs, so to allow for some margin of error and prevent unnecessary loss of data, we drop all songs with speechiness values over 0.85."
      ]
    },
    {
      "cell_type": "code",
      "execution_count": null,
      "metadata": {
        "colab": {
          "base_uri": "https://localhost:8080/",
          "height": 600
        },
        "id": "LcydXTqCH_W3",
        "outputId": "a3ca5821-2928-4e62-af48-dddc6fc751da"
      },
      "outputs": [
        {
          "output_type": "execute_result",
          "data": {
            "text/plain": [
              "         artist_name                                         track_name  \\\n",
              "840             xJK.                                             Thrive   \n",
              "1944        Ace Hood                   Ace Hood - Questions (Interlude)   \n",
              "2630         Lud Foe                                              Intro   \n",
              "2648         Lud Foe                                        Interlude 1   \n",
              "7581    Paloma Faith                                          Evolution   \n",
              "...              ...                                                ...   \n",
              "217146           JID                                   Frequency Change   \n",
              "217399     Vance Joy  Little Boy Intro - Live at Red Rocks Amphitheatre   \n",
              "217608      K$upreme                                      Gucci Cologne   \n",
              "219193         Logic                               Grandpa's Space Ship   \n",
              "220529    Tory Lanez                             Old Friends x New Foes   \n",
              "\n",
              "        acousticness  danceability  duration_ms  energy  instrumentalness  \\\n",
              "840           0.6760         0.484       178743   0.429            0.0515   \n",
              "1944          0.9110         0.705        36094   0.525            0.0000   \n",
              "2630          0.6210         0.701        99631   0.441            0.0000   \n",
              "2648          0.9880         0.692       136777   0.393            0.0000   \n",
              "7581          0.7040         0.461        64867   0.438            0.0000   \n",
              "...              ...           ...          ...     ...               ...   \n",
              "217146        0.4700         0.633        59118   0.506            0.0000   \n",
              "217399        0.7590         0.717       176590   0.578            0.0000   \n",
              "217608        0.0992         0.944       134428   0.444            0.0000   \n",
              "219193        0.3040         0.629       122093   0.166            0.0000   \n",
              "220529        0.3690         0.475       207240   0.513            0.0000   \n",
              "\n",
              "        key  liveness  loudness  mode  speechiness    tempo  time_signature  \\\n",
              "840       0     0.411    -7.979     0        0.890  178.724               4   \n",
              "1944     11     0.451   -15.929     1        0.908   86.793               4   \n",
              "2630      8     0.689   -14.222     0        0.945   79.487               1   \n",
              "2648      5     0.147   -13.552     0        0.930   94.806               4   \n",
              "7581      5     0.768   -15.591     1        0.897   68.602               4   \n",
              "...     ...       ...       ...   ...          ...      ...             ...   \n",
              "217146    1     0.959   -16.808     1        0.863   70.128               4   \n",
              "217399    1     0.348    -8.820     1        0.918   69.345               4   \n",
              "217608    1     0.170   -10.367     1        0.922  129.888               4   \n",
              "219193    1     0.161   -18.960     1        0.884   80.440               3   \n",
              "220529    8     0.162   -11.050     0        0.855   77.274               4   \n",
              "\n",
              "        valence  popularity  \n",
              "840       0.568          28  \n",
              "1944      0.633          25  \n",
              "2630      0.589          27  \n",
              "2648      0.727          25  \n",
              "7581      0.327           1  \n",
              "...         ...         ...  \n",
              "217146    0.784          60  \n",
              "217399    0.338          35  \n",
              "217608    0.312          60  \n",
              "219193    0.182          54  \n",
              "220529    0.261          54  \n",
              "\n",
              "[563 rows x 16 columns]"
            ],
            "text/html": [
              "\n",
              "  <div id=\"df-7da26e1a-f4e6-4244-ac3d-dd4378144c09\" class=\"colab-df-container\">\n",
              "    <div>\n",
              "<style scoped>\n",
              "    .dataframe tbody tr th:only-of-type {\n",
              "        vertical-align: middle;\n",
              "    }\n",
              "\n",
              "    .dataframe tbody tr th {\n",
              "        vertical-align: top;\n",
              "    }\n",
              "\n",
              "    .dataframe thead th {\n",
              "        text-align: right;\n",
              "    }\n",
              "</style>\n",
              "<table border=\"1\" class=\"dataframe\">\n",
              "  <thead>\n",
              "    <tr style=\"text-align: right;\">\n",
              "      <th></th>\n",
              "      <th>artist_name</th>\n",
              "      <th>track_name</th>\n",
              "      <th>acousticness</th>\n",
              "      <th>danceability</th>\n",
              "      <th>duration_ms</th>\n",
              "      <th>energy</th>\n",
              "      <th>instrumentalness</th>\n",
              "      <th>key</th>\n",
              "      <th>liveness</th>\n",
              "      <th>loudness</th>\n",
              "      <th>mode</th>\n",
              "      <th>speechiness</th>\n",
              "      <th>tempo</th>\n",
              "      <th>time_signature</th>\n",
              "      <th>valence</th>\n",
              "      <th>popularity</th>\n",
              "    </tr>\n",
              "  </thead>\n",
              "  <tbody>\n",
              "    <tr>\n",
              "      <th>840</th>\n",
              "      <td>xJK.</td>\n",
              "      <td>Thrive</td>\n",
              "      <td>0.6760</td>\n",
              "      <td>0.484</td>\n",
              "      <td>178743</td>\n",
              "      <td>0.429</td>\n",
              "      <td>0.0515</td>\n",
              "      <td>0</td>\n",
              "      <td>0.411</td>\n",
              "      <td>-7.979</td>\n",
              "      <td>0</td>\n",
              "      <td>0.890</td>\n",
              "      <td>178.724</td>\n",
              "      <td>4</td>\n",
              "      <td>0.568</td>\n",
              "      <td>28</td>\n",
              "    </tr>\n",
              "    <tr>\n",
              "      <th>1944</th>\n",
              "      <td>Ace Hood</td>\n",
              "      <td>Ace Hood - Questions (Interlude)</td>\n",
              "      <td>0.9110</td>\n",
              "      <td>0.705</td>\n",
              "      <td>36094</td>\n",
              "      <td>0.525</td>\n",
              "      <td>0.0000</td>\n",
              "      <td>11</td>\n",
              "      <td>0.451</td>\n",
              "      <td>-15.929</td>\n",
              "      <td>1</td>\n",
              "      <td>0.908</td>\n",
              "      <td>86.793</td>\n",
              "      <td>4</td>\n",
              "      <td>0.633</td>\n",
              "      <td>25</td>\n",
              "    </tr>\n",
              "    <tr>\n",
              "      <th>2630</th>\n",
              "      <td>Lud Foe</td>\n",
              "      <td>Intro</td>\n",
              "      <td>0.6210</td>\n",
              "      <td>0.701</td>\n",
              "      <td>99631</td>\n",
              "      <td>0.441</td>\n",
              "      <td>0.0000</td>\n",
              "      <td>8</td>\n",
              "      <td>0.689</td>\n",
              "      <td>-14.222</td>\n",
              "      <td>0</td>\n",
              "      <td>0.945</td>\n",
              "      <td>79.487</td>\n",
              "      <td>1</td>\n",
              "      <td>0.589</td>\n",
              "      <td>27</td>\n",
              "    </tr>\n",
              "    <tr>\n",
              "      <th>2648</th>\n",
              "      <td>Lud Foe</td>\n",
              "      <td>Interlude 1</td>\n",
              "      <td>0.9880</td>\n",
              "      <td>0.692</td>\n",
              "      <td>136777</td>\n",
              "      <td>0.393</td>\n",
              "      <td>0.0000</td>\n",
              "      <td>5</td>\n",
              "      <td>0.147</td>\n",
              "      <td>-13.552</td>\n",
              "      <td>0</td>\n",
              "      <td>0.930</td>\n",
              "      <td>94.806</td>\n",
              "      <td>4</td>\n",
              "      <td>0.727</td>\n",
              "      <td>25</td>\n",
              "    </tr>\n",
              "    <tr>\n",
              "      <th>7581</th>\n",
              "      <td>Paloma Faith</td>\n",
              "      <td>Evolution</td>\n",
              "      <td>0.7040</td>\n",
              "      <td>0.461</td>\n",
              "      <td>64867</td>\n",
              "      <td>0.438</td>\n",
              "      <td>0.0000</td>\n",
              "      <td>5</td>\n",
              "      <td>0.768</td>\n",
              "      <td>-15.591</td>\n",
              "      <td>1</td>\n",
              "      <td>0.897</td>\n",
              "      <td>68.602</td>\n",
              "      <td>4</td>\n",
              "      <td>0.327</td>\n",
              "      <td>1</td>\n",
              "    </tr>\n",
              "    <tr>\n",
              "      <th>...</th>\n",
              "      <td>...</td>\n",
              "      <td>...</td>\n",
              "      <td>...</td>\n",
              "      <td>...</td>\n",
              "      <td>...</td>\n",
              "      <td>...</td>\n",
              "      <td>...</td>\n",
              "      <td>...</td>\n",
              "      <td>...</td>\n",
              "      <td>...</td>\n",
              "      <td>...</td>\n",
              "      <td>...</td>\n",
              "      <td>...</td>\n",
              "      <td>...</td>\n",
              "      <td>...</td>\n",
              "      <td>...</td>\n",
              "    </tr>\n",
              "    <tr>\n",
              "      <th>217146</th>\n",
              "      <td>JID</td>\n",
              "      <td>Frequency Change</td>\n",
              "      <td>0.4700</td>\n",
              "      <td>0.633</td>\n",
              "      <td>59118</td>\n",
              "      <td>0.506</td>\n",
              "      <td>0.0000</td>\n",
              "      <td>1</td>\n",
              "      <td>0.959</td>\n",
              "      <td>-16.808</td>\n",
              "      <td>1</td>\n",
              "      <td>0.863</td>\n",
              "      <td>70.128</td>\n",
              "      <td>4</td>\n",
              "      <td>0.784</td>\n",
              "      <td>60</td>\n",
              "    </tr>\n",
              "    <tr>\n",
              "      <th>217399</th>\n",
              "      <td>Vance Joy</td>\n",
              "      <td>Little Boy Intro - Live at Red Rocks Amphitheatre</td>\n",
              "      <td>0.7590</td>\n",
              "      <td>0.717</td>\n",
              "      <td>176590</td>\n",
              "      <td>0.578</td>\n",
              "      <td>0.0000</td>\n",
              "      <td>1</td>\n",
              "      <td>0.348</td>\n",
              "      <td>-8.820</td>\n",
              "      <td>1</td>\n",
              "      <td>0.918</td>\n",
              "      <td>69.345</td>\n",
              "      <td>4</td>\n",
              "      <td>0.338</td>\n",
              "      <td>35</td>\n",
              "    </tr>\n",
              "    <tr>\n",
              "      <th>217608</th>\n",
              "      <td>K$upreme</td>\n",
              "      <td>Gucci Cologne</td>\n",
              "      <td>0.0992</td>\n",
              "      <td>0.944</td>\n",
              "      <td>134428</td>\n",
              "      <td>0.444</td>\n",
              "      <td>0.0000</td>\n",
              "      <td>1</td>\n",
              "      <td>0.170</td>\n",
              "      <td>-10.367</td>\n",
              "      <td>1</td>\n",
              "      <td>0.922</td>\n",
              "      <td>129.888</td>\n",
              "      <td>4</td>\n",
              "      <td>0.312</td>\n",
              "      <td>60</td>\n",
              "    </tr>\n",
              "    <tr>\n",
              "      <th>219193</th>\n",
              "      <td>Logic</td>\n",
              "      <td>Grandpa's Space Ship</td>\n",
              "      <td>0.3040</td>\n",
              "      <td>0.629</td>\n",
              "      <td>122093</td>\n",
              "      <td>0.166</td>\n",
              "      <td>0.0000</td>\n",
              "      <td>1</td>\n",
              "      <td>0.161</td>\n",
              "      <td>-18.960</td>\n",
              "      <td>1</td>\n",
              "      <td>0.884</td>\n",
              "      <td>80.440</td>\n",
              "      <td>3</td>\n",
              "      <td>0.182</td>\n",
              "      <td>54</td>\n",
              "    </tr>\n",
              "    <tr>\n",
              "      <th>220529</th>\n",
              "      <td>Tory Lanez</td>\n",
              "      <td>Old Friends x New Foes</td>\n",
              "      <td>0.3690</td>\n",
              "      <td>0.475</td>\n",
              "      <td>207240</td>\n",
              "      <td>0.513</td>\n",
              "      <td>0.0000</td>\n",
              "      <td>8</td>\n",
              "      <td>0.162</td>\n",
              "      <td>-11.050</td>\n",
              "      <td>0</td>\n",
              "      <td>0.855</td>\n",
              "      <td>77.274</td>\n",
              "      <td>4</td>\n",
              "      <td>0.261</td>\n",
              "      <td>54</td>\n",
              "    </tr>\n",
              "  </tbody>\n",
              "</table>\n",
              "<p>563 rows × 16 columns</p>\n",
              "</div>\n",
              "    <div class=\"colab-df-buttons\">\n",
              "\n",
              "  <div class=\"colab-df-container\">\n",
              "    <button class=\"colab-df-convert\" onclick=\"convertToInteractive('df-7da26e1a-f4e6-4244-ac3d-dd4378144c09')\"\n",
              "            title=\"Convert this dataframe to an interactive table.\"\n",
              "            style=\"display:none;\">\n",
              "\n",
              "  <svg xmlns=\"http://www.w3.org/2000/svg\" height=\"24px\" viewBox=\"0 -960 960 960\">\n",
              "    <path d=\"M120-120v-720h720v720H120Zm60-500h600v-160H180v160Zm220 220h160v-160H400v160Zm0 220h160v-160H400v160ZM180-400h160v-160H180v160Zm440 0h160v-160H620v160ZM180-180h160v-160H180v160Zm440 0h160v-160H620v160Z\"/>\n",
              "  </svg>\n",
              "    </button>\n",
              "\n",
              "  <style>\n",
              "    .colab-df-container {\n",
              "      display:flex;\n",
              "      gap: 12px;\n",
              "    }\n",
              "\n",
              "    .colab-df-convert {\n",
              "      background-color: #E8F0FE;\n",
              "      border: none;\n",
              "      border-radius: 50%;\n",
              "      cursor: pointer;\n",
              "      display: none;\n",
              "      fill: #1967D2;\n",
              "      height: 32px;\n",
              "      padding: 0 0 0 0;\n",
              "      width: 32px;\n",
              "    }\n",
              "\n",
              "    .colab-df-convert:hover {\n",
              "      background-color: #E2EBFA;\n",
              "      box-shadow: 0px 1px 2px rgba(60, 64, 67, 0.3), 0px 1px 3px 1px rgba(60, 64, 67, 0.15);\n",
              "      fill: #174EA6;\n",
              "    }\n",
              "\n",
              "    .colab-df-buttons div {\n",
              "      margin-bottom: 4px;\n",
              "    }\n",
              "\n",
              "    [theme=dark] .colab-df-convert {\n",
              "      background-color: #3B4455;\n",
              "      fill: #D2E3FC;\n",
              "    }\n",
              "\n",
              "    [theme=dark] .colab-df-convert:hover {\n",
              "      background-color: #434B5C;\n",
              "      box-shadow: 0px 1px 3px 1px rgba(0, 0, 0, 0.15);\n",
              "      filter: drop-shadow(0px 1px 2px rgba(0, 0, 0, 0.3));\n",
              "      fill: #FFFFFF;\n",
              "    }\n",
              "  </style>\n",
              "\n",
              "    <script>\n",
              "      const buttonEl =\n",
              "        document.querySelector('#df-7da26e1a-f4e6-4244-ac3d-dd4378144c09 button.colab-df-convert');\n",
              "      buttonEl.style.display =\n",
              "        google.colab.kernel.accessAllowed ? 'block' : 'none';\n",
              "\n",
              "      async function convertToInteractive(key) {\n",
              "        const element = document.querySelector('#df-7da26e1a-f4e6-4244-ac3d-dd4378144c09');\n",
              "        const dataTable =\n",
              "          await google.colab.kernel.invokeFunction('convertToInteractive',\n",
              "                                                    [key], {});\n",
              "        if (!dataTable) return;\n",
              "\n",
              "        const docLinkHtml = 'Like what you see? Visit the ' +\n",
              "          '<a target=\"_blank\" href=https://colab.research.google.com/notebooks/data_table.ipynb>data table notebook</a>'\n",
              "          + ' to learn more about interactive tables.';\n",
              "        element.innerHTML = '';\n",
              "        dataTable['output_type'] = 'display_data';\n",
              "        await google.colab.output.renderOutput(dataTable, element);\n",
              "        const docLink = document.createElement('div');\n",
              "        docLink.innerHTML = docLinkHtml;\n",
              "        element.appendChild(docLink);\n",
              "      }\n",
              "    </script>\n",
              "  </div>\n",
              "\n",
              "\n",
              "<div id=\"df-c8f86c0e-e58f-4afb-b934-7e2d96257c44\">\n",
              "  <button class=\"colab-df-quickchart\" onclick=\"quickchart('df-c8f86c0e-e58f-4afb-b934-7e2d96257c44')\"\n",
              "            title=\"Suggest charts\"\n",
              "            style=\"display:none;\">\n",
              "\n",
              "<svg xmlns=\"http://www.w3.org/2000/svg\" height=\"24px\"viewBox=\"0 0 24 24\"\n",
              "     width=\"24px\">\n",
              "    <g>\n",
              "        <path d=\"M19 3H5c-1.1 0-2 .9-2 2v14c0 1.1.9 2 2 2h14c1.1 0 2-.9 2-2V5c0-1.1-.9-2-2-2zM9 17H7v-7h2v7zm4 0h-2V7h2v10zm4 0h-2v-4h2v4z\"/>\n",
              "    </g>\n",
              "</svg>\n",
              "  </button>\n",
              "\n",
              "<style>\n",
              "  .colab-df-quickchart {\n",
              "      --bg-color: #E8F0FE;\n",
              "      --fill-color: #1967D2;\n",
              "      --hover-bg-color: #E2EBFA;\n",
              "      --hover-fill-color: #174EA6;\n",
              "      --disabled-fill-color: #AAA;\n",
              "      --disabled-bg-color: #DDD;\n",
              "  }\n",
              "\n",
              "  [theme=dark] .colab-df-quickchart {\n",
              "      --bg-color: #3B4455;\n",
              "      --fill-color: #D2E3FC;\n",
              "      --hover-bg-color: #434B5C;\n",
              "      --hover-fill-color: #FFFFFF;\n",
              "      --disabled-bg-color: #3B4455;\n",
              "      --disabled-fill-color: #666;\n",
              "  }\n",
              "\n",
              "  .colab-df-quickchart {\n",
              "    background-color: var(--bg-color);\n",
              "    border: none;\n",
              "    border-radius: 50%;\n",
              "    cursor: pointer;\n",
              "    display: none;\n",
              "    fill: var(--fill-color);\n",
              "    height: 32px;\n",
              "    padding: 0;\n",
              "    width: 32px;\n",
              "  }\n",
              "\n",
              "  .colab-df-quickchart:hover {\n",
              "    background-color: var(--hover-bg-color);\n",
              "    box-shadow: 0 1px 2px rgba(60, 64, 67, 0.3), 0 1px 3px 1px rgba(60, 64, 67, 0.15);\n",
              "    fill: var(--button-hover-fill-color);\n",
              "  }\n",
              "\n",
              "  .colab-df-quickchart-complete:disabled,\n",
              "  .colab-df-quickchart-complete:disabled:hover {\n",
              "    background-color: var(--disabled-bg-color);\n",
              "    fill: var(--disabled-fill-color);\n",
              "    box-shadow: none;\n",
              "  }\n",
              "\n",
              "  .colab-df-spinner {\n",
              "    border: 2px solid var(--fill-color);\n",
              "    border-color: transparent;\n",
              "    border-bottom-color: var(--fill-color);\n",
              "    animation:\n",
              "      spin 1s steps(1) infinite;\n",
              "  }\n",
              "\n",
              "  @keyframes spin {\n",
              "    0% {\n",
              "      border-color: transparent;\n",
              "      border-bottom-color: var(--fill-color);\n",
              "      border-left-color: var(--fill-color);\n",
              "    }\n",
              "    20% {\n",
              "      border-color: transparent;\n",
              "      border-left-color: var(--fill-color);\n",
              "      border-top-color: var(--fill-color);\n",
              "    }\n",
              "    30% {\n",
              "      border-color: transparent;\n",
              "      border-left-color: var(--fill-color);\n",
              "      border-top-color: var(--fill-color);\n",
              "      border-right-color: var(--fill-color);\n",
              "    }\n",
              "    40% {\n",
              "      border-color: transparent;\n",
              "      border-right-color: var(--fill-color);\n",
              "      border-top-color: var(--fill-color);\n",
              "    }\n",
              "    60% {\n",
              "      border-color: transparent;\n",
              "      border-right-color: var(--fill-color);\n",
              "    }\n",
              "    80% {\n",
              "      border-color: transparent;\n",
              "      border-right-color: var(--fill-color);\n",
              "      border-bottom-color: var(--fill-color);\n",
              "    }\n",
              "    90% {\n",
              "      border-color: transparent;\n",
              "      border-bottom-color: var(--fill-color);\n",
              "    }\n",
              "  }\n",
              "</style>\n",
              "\n",
              "  <script>\n",
              "    async function quickchart(key) {\n",
              "      const quickchartButtonEl =\n",
              "        document.querySelector('#' + key + ' button');\n",
              "      quickchartButtonEl.disabled = true;  // To prevent multiple clicks.\n",
              "      quickchartButtonEl.classList.add('colab-df-spinner');\n",
              "      try {\n",
              "        const charts = await google.colab.kernel.invokeFunction(\n",
              "            'suggestCharts', [key], {});\n",
              "      } catch (error) {\n",
              "        console.error('Error during call to suggestCharts:', error);\n",
              "      }\n",
              "      quickchartButtonEl.classList.remove('colab-df-spinner');\n",
              "      quickchartButtonEl.classList.add('colab-df-quickchart-complete');\n",
              "    }\n",
              "    (() => {\n",
              "      let quickchartButtonEl =\n",
              "        document.querySelector('#df-c8f86c0e-e58f-4afb-b934-7e2d96257c44 button');\n",
              "      quickchartButtonEl.style.display =\n",
              "        google.colab.kernel.accessAllowed ? 'block' : 'none';\n",
              "    })();\n",
              "  </script>\n",
              "</div>\n",
              "    </div>\n",
              "  </div>\n"
            ],
            "application/vnd.google.colaboratory.intrinsic+json": {
              "type": "dataframe",
              "summary": "{\n  \"name\": \"songs_df[(songs_df['speechiness'] > 0\",\n  \"rows\": 563,\n  \"fields\": [\n    {\n      \"column\": \"artist_name\",\n      \"properties\": {\n        \"dtype\": \"category\",\n        \"num_unique_values\": 161,\n        \"samples\": [\n          \"Brother Larmatine\",\n          \"Stacks\",\n          \"Zane Schaffer\"\n        ],\n        \"semantic_type\": \"\",\n        \"description\": \"\"\n      }\n    },\n    {\n      \"column\": \"track_name\",\n      \"properties\": {\n        \"dtype\": \"string\",\n        \"num_unique_values\": 332,\n        \"samples\": [\n          \"Murder Skit\",\n          \"Long Time Comin' (Introduction) - Springsteen on Broadway\",\n          \"Happy Together\"\n        ],\n        \"semantic_type\": \"\",\n        \"description\": \"\"\n      }\n    },\n    {\n      \"column\": \"acousticness\",\n      \"properties\": {\n        \"dtype\": \"number\",\n        \"std\": 0.2745501348191296,\n        \"min\": 0.000223,\n        \"max\": 0.993,\n        \"num_unique_values\": 277,\n        \"samples\": [\n          0.336,\n          0.0941,\n          0.964\n        ],\n        \"semantic_type\": \"\",\n        \"description\": \"\"\n      }\n    },\n    {\n      \"column\": \"danceability\",\n      \"properties\": {\n        \"dtype\": \"number\",\n        \"std\": 0.10860142338159738,\n        \"min\": 0.342,\n        \"max\": 0.977,\n        \"num_unique_values\": 224,\n        \"samples\": [\n          0.706,\n          0.601,\n          0.389\n        ],\n        \"semantic_type\": \"\",\n        \"description\": \"\"\n      }\n    },\n    {\n      \"column\": \"duration_ms\",\n      \"properties\": {\n        \"dtype\": \"number\",\n        \"std\": 190219,\n        \"min\": 20248,\n        \"max\": 1360359,\n        \"num_unique_values\": 337,\n        \"samples\": [\n          177143,\n          239794,\n          61293\n        ],\n        \"semantic_type\": \"\",\n        \"description\": \"\"\n      }\n    },\n    {\n      \"column\": \"energy\",\n      \"properties\": {\n        \"dtype\": \"number\",\n        \"std\": 0.22283137401342062,\n        \"min\": 0.000523,\n        \"max\": 0.97,\n        \"num_unique_values\": 289,\n        \"samples\": [\n          0.6759999999999999,\n          0.61,\n          0.505\n        ],\n        \"semantic_type\": \"\",\n        \"description\": \"\"\n      }\n    },\n    {\n      \"column\": \"instrumentalness\",\n      \"properties\": {\n        \"dtype\": \"number\",\n        \"std\": 0.1852707328205088,\n        \"min\": 0.0,\n        \"max\": 0.957,\n        \"num_unique_values\": 59,\n        \"samples\": [\n          0.0515,\n          1.47e-06,\n          0.32\n        ],\n        \"semantic_type\": \"\",\n        \"description\": \"\"\n      }\n    },\n    {\n      \"column\": \"key\",\n      \"properties\": {\n        \"dtype\": \"number\",\n        \"std\": 3,\n        \"min\": 0,\n        \"max\": 11,\n        \"num_unique_values\": 12,\n        \"samples\": [\n          10,\n          9,\n          0\n        ],\n        \"semantic_type\": \"\",\n        \"description\": \"\"\n      }\n    },\n    {\n      \"column\": \"liveness\",\n      \"properties\": {\n        \"dtype\": \"number\",\n        \"std\": 0.2721172297238419,\n        \"min\": 0.0495,\n        \"max\": 0.976,\n        \"num_unique_values\": 278,\n        \"samples\": [\n          0.273,\n          0.118,\n          0.672\n        ],\n        \"semantic_type\": \"\",\n        \"description\": \"\"\n      }\n    },\n    {\n      \"column\": \"loudness\",\n      \"properties\": {\n        \"dtype\": \"number\",\n        \"std\": 7.761867993279282,\n        \"min\": -39.694,\n        \"max\": -3.842,\n        \"num_unique_values\": 336,\n        \"samples\": [\n          -7.399,\n          -12.224,\n          -13.291\n        ],\n        \"semantic_type\": \"\",\n        \"description\": \"\"\n      }\n    },\n    {\n      \"column\": \"mode\",\n      \"properties\": {\n        \"dtype\": \"number\",\n        \"std\": 0,\n        \"min\": 0,\n        \"max\": 1,\n        \"num_unique_values\": 2,\n        \"samples\": [\n          1,\n          0\n        ],\n        \"semantic_type\": \"\",\n        \"description\": \"\"\n      }\n    },\n    {\n      \"column\": \"speechiness\",\n      \"properties\": {\n        \"dtype\": \"number\",\n        \"std\": 0.030830385095645382,\n        \"min\": 0.851,\n        \"max\": 0.966,\n        \"num_unique_values\": 103,\n        \"samples\": [\n          0.961,\n          0.8859999999999999\n        ],\n        \"semantic_type\": \"\",\n        \"description\": \"\"\n      }\n    },\n    {\n      \"column\": \"tempo\",\n      \"properties\": {\n        \"dtype\": \"number\",\n        \"std\": 35.57335258841434,\n        \"min\": 35.491,\n        \"max\": 233.641,\n        \"num_unique_values\": 337,\n        \"samples\": [\n          79.83800000000001,\n          74.567\n        ],\n        \"semantic_type\": \"\",\n        \"description\": \"\"\n      }\n    },\n    {\n      \"column\": \"time_signature\",\n      \"properties\": {\n        \"dtype\": \"number\",\n        \"std\": 0,\n        \"min\": 1,\n        \"max\": 5,\n        \"num_unique_values\": 4,\n        \"samples\": [\n          1,\n          5\n        ],\n        \"semantic_type\": \"\",\n        \"description\": \"\"\n      }\n    },\n    {\n      \"column\": \"valence\",\n      \"properties\": {\n        \"dtype\": \"number\",\n        \"std\": 0.21145432030804184,\n        \"min\": 0.0,\n        \"max\": 0.967,\n        \"num_unique_values\": 272,\n        \"samples\": [\n          0.25,\n          0.5489999999999999\n        ],\n        \"semantic_type\": \"\",\n        \"description\": \"\"\n      }\n    },\n    {\n      \"column\": \"popularity\",\n      \"properties\": {\n        \"dtype\": \"number\",\n        \"std\": 15,\n        \"min\": 0,\n        \"max\": 73,\n        \"num_unique_values\": 65,\n        \"samples\": [\n          57,\n          51\n        ],\n        \"semantic_type\": \"\",\n        \"description\": \"\"\n      }\n    }\n  ]\n}"
            }
          },
          "metadata": {},
          "execution_count": 25
        }
      ],
      "source": [
        "# Songs with speechiness values over 0.85\n",
        "songs_df[(songs_df['speechiness'] > 0.85)]"
      ]
    },
    {
      "cell_type": "code",
      "execution_count": null,
      "metadata": {
        "id": "NBWeb75qIPmT"
      },
      "outputs": [],
      "source": [
        "#Drop outlier rows\n",
        "speechiness_query = '''\n",
        "SELECT *\n",
        "FROM songs_df\n",
        "WHERE speechiness <= 0.85\n",
        "'''\n",
        "speechiness_df_sql = ps.sqldf(speechiness_query, locals())\n",
        "songs_df = speechiness_df_sql\n"
      ]
    },
    {
      "cell_type": "markdown",
      "metadata": {
        "id": "wTHrjSVuCMEB"
      },
      "source": [
        "### Further Cleaning"
      ]
    },
    {
      "cell_type": "markdown",
      "metadata": {
        "id": "uiNYxczxCPVY"
      },
      "source": [
        "To make the `duration_ms` column easier for us to interpret, we convert the values from milliseconds to seconds and rename the column as `duration_s`. We do this without rounding in order to preserve the precision of our data."
      ]
    },
    {
      "cell_type": "code",
      "execution_count": null,
      "metadata": {
        "id": "So0cgNYtCOQ5"
      },
      "outputs": [],
      "source": [
        "# Create column 'duration_s' (1 ms = 0.001 s)\n",
        "duration_s_query = '''\n",
        "SELECT *,\n",
        "duration_ms * 0.001 AS duration_s\n",
        "FROM songs_df\n",
        "'''\n",
        "duration_s_df_sql = ps.sqldf(duration_s_query, locals())\n",
        "songs_df = duration_s_df_sql"
      ]
    },
    {
      "cell_type": "code",
      "execution_count": null,
      "metadata": {
        "id": "H4ECgCmGC5dN"
      },
      "outputs": [],
      "source": [
        "# Drop 'duration_ms'\n",
        "songs_df = songs_df.drop(columns={'duration_ms'})"
      ]
    },
    {
      "cell_type": "markdown",
      "metadata": {
        "id": "Va0oRDF-LL8X"
      },
      "source": [
        "Per the previous [dataset card](https://huggingface.co/datasets/maharshipandya/spotify-tracks-dataset), the values of `key` map to pitches using standard Pitch Class notation. We use this fact to convert `key` from integer to string in order to make the values more easily interpretable. Note that lowercase 's' signifies a sharp and lowercase 'f' signifies a flat."
      ]
    },
    {
      "cell_type": "code",
      "execution_count": null,
      "metadata": {
        "id": "PXOQTr2PLNl3"
      },
      "outputs": [],
      "source": [
        "# Create dictionary mapping of keys from int to string\n",
        "key_dict = {\n",
        "    -1: None,\n",
        "    0: 'C',\n",
        "    1: 'Cs/Df',\n",
        "    2: 'D',\n",
        "    3: 'Ds/Ef',\n",
        "    4: 'E',\n",
        "    5: 'F',\n",
        "    6: 'Fs/Gf',\n",
        "    7: 'G',\n",
        "    8: 'Gs/Ef',\n",
        "    9: 'A',\n",
        "    10: 'As/Bf',\n",
        "    11: 'B',\n",
        "}"
      ]
    },
    {
      "cell_type": "code",
      "execution_count": null,
      "metadata": {
        "id": "HLcLXqLULPSK"
      },
      "outputs": [],
      "source": [
        "# Use dictionary to convert 'key' column to string\n",
        "songs_df['key'] = songs_df['key'].map(key_dict)"
      ]
    },
    {
      "cell_type": "markdown",
      "metadata": {
        "id": "5MCZOkvBKNmY"
      },
      "source": [
        "# Exploratory Data Analysis"
      ]
    },
    {
      "cell_type": "markdown",
      "metadata": {
        "id": "vuyhbXRHHawy"
      },
      "source": [
        "Before going into any data analaysis, we first define our key variables:\n",
        "- `acousticness` measures from 0.0 to 1.0 whether the track is acoustic, with 1.0 signifying high confidence that the track is acoustic.\n",
        "- `danceability` quantifies how suitable a track is for dancing based on tempo, rhythm stability, beat strength, and overall regularity. This is also a measure from 0.0 to 1.0; a danceability value of 1.0 is most danceable.\n",
        "- `energy` quantifies the perceptual intensity and activity a track, with high energy tracks feeling fast, loud, and noisy. This is also a measure from 0.0 to 1.0.\n",
        "- `instrumentalness` predicts whether a track contains no vocals, with \"ooh\" and \"aah\" sounds being treated as instrumental. This is also a measure from 0.0 to 1.0; an instrumentalness value of 1.0 signifies that the track likely contains no vocals.\n",
        "- `liveness` descibes the presence of an audience in the recording. This is also a measure from 0.0 to 1.0, with values above 0.8 indicating strong likelihood that the track was performed live.\n",
        "- `loudness` represents the overall loudness of the track in decibels (dB).\n",
        "- `mode` indicates whether the track is in major key (1.0) or minor key (0.0).\n",
        "- `speechiness` describes the presence of spoken word in the track. This is also a measure from 0.0 to 1.0, with values closer to 1.0 indicating that the track is more exclusively speech-like.\n",
        "- `tempo` represents the overall estimated speed of a track in beats per minute (BPM).\n",
        "- `time_signature` is the estimated time signature, which is a musical notation convention that describes how many beats are in each bar. This ranges from 3 to 7, indicating time signatures of 3/7 to 7/4.\n",
        "- `valence` describes the positiveness conveyed in the track, with high valence tracks feeling and sounding more happy and cheerful. This is also a measure from 0.0 to 1.0.\n",
        "- `popularity` is our target variable, representing the popularity of a track based mostly on the total number of plays and the recency of these plays. This is a measure from 0.0 to 100.0, with 100.0 being most popular.\n",
        "\n",
        "Definitions are taken from [this dataset card](https://huggingface.co/datasets/maharshipandya/spotify-tracks-dataset)."
      ]
    },
    {
      "cell_type": "markdown",
      "metadata": {
        "id": "cFyrkJhdEUWX"
      },
      "source": [
        "## Analyzing Data Structure"
      ]
    },
    {
      "cell_type": "markdown",
      "metadata": {
        "id": "PvPLvF-xFKfe"
      },
      "source": [
        "To familiarize ourselves with our data, we first examine the summary statistics of each column."
      ]
    },
    {
      "cell_type": "code",
      "execution_count": null,
      "metadata": {
        "colab": {
          "base_uri": "https://localhost:8080/",
          "height": 320
        },
        "id": "Ga4EuWv5ECkY",
        "outputId": "cf42c62a-ad15-442b-aec6-3862e5a9c609"
      },
      "outputs": [
        {
          "output_type": "execute_result",
          "data": {
            "text/plain": [
              "        acousticness   danceability         energy  instrumentalness  \\\n",
              "count  221312.000000  221312.000000  221312.000000     221312.000000   \n",
              "mean        0.339851       0.581141       0.570367          0.222501   \n",
              "std         0.344702       0.189589       0.259716          0.359311   \n",
              "min         0.000000       0.000000       0.000000          0.000000   \n",
              "25%         0.031100       0.459000       0.398000          0.000000   \n",
              "50%         0.200000       0.604000       0.605000          0.000149   \n",
              "75%         0.629000       0.726000       0.776000          0.427000   \n",
              "max         0.996000       0.996000       1.000000          1.000000   \n",
              "\n",
              "            liveness       loudness           mode    speechiness  \\\n",
              "count  221312.000000  221312.000000  221312.000000  221312.000000   \n",
              "mean        0.193704      -9.905335       0.608200       0.109606   \n",
              "std         0.166410       6.521075       0.488153       0.117063   \n",
              "min         0.000000     -60.000000       0.000000       0.000000   \n",
              "25%         0.097400     -11.759000       0.000000       0.038800   \n",
              "50%         0.123000      -7.923000       1.000000       0.055600   \n",
              "75%         0.234000      -5.660000       1.000000       0.127000   \n",
              "max         0.999000       1.806000       1.000000       0.850000   \n",
              "\n",
              "               tempo  time_signature        valence     popularity  \\\n",
              "count  221312.000000   221312.000000  221312.000000  221312.000000   \n",
              "mean      119.560400        3.883251       0.439141      25.468542   \n",
              "std        30.079245        0.503259       0.258596      18.671894   \n",
              "min         0.000000        0.000000       0.000000       0.000000   \n",
              "25%        96.017000        4.000000       0.224000      11.000000   \n",
              "50%       120.026000        4.000000       0.420000      23.000000   \n",
              "75%       139.792000        4.000000       0.637000      38.000000   \n",
              "max       249.983000        5.000000       1.000000     100.000000   \n",
              "\n",
              "          duration_s  \n",
              "count  221312.000000  \n",
              "mean      211.435119  \n",
              "std        96.348383  \n",
              "min        20.049000  \n",
              "25%       164.969000  \n",
              "50%       202.293000  \n",
              "75%       241.098750  \n",
              "max      1796.800000  "
            ],
            "text/html": [
              "\n",
              "  <div id=\"df-c0e207ae-0092-4b9f-ab20-9a38529e5524\" class=\"colab-df-container\">\n",
              "    <div>\n",
              "<style scoped>\n",
              "    .dataframe tbody tr th:only-of-type {\n",
              "        vertical-align: middle;\n",
              "    }\n",
              "\n",
              "    .dataframe tbody tr th {\n",
              "        vertical-align: top;\n",
              "    }\n",
              "\n",
              "    .dataframe thead th {\n",
              "        text-align: right;\n",
              "    }\n",
              "</style>\n",
              "<table border=\"1\" class=\"dataframe\">\n",
              "  <thead>\n",
              "    <tr style=\"text-align: right;\">\n",
              "      <th></th>\n",
              "      <th>acousticness</th>\n",
              "      <th>danceability</th>\n",
              "      <th>energy</th>\n",
              "      <th>instrumentalness</th>\n",
              "      <th>liveness</th>\n",
              "      <th>loudness</th>\n",
              "      <th>mode</th>\n",
              "      <th>speechiness</th>\n",
              "      <th>tempo</th>\n",
              "      <th>time_signature</th>\n",
              "      <th>valence</th>\n",
              "      <th>popularity</th>\n",
              "      <th>duration_s</th>\n",
              "    </tr>\n",
              "  </thead>\n",
              "  <tbody>\n",
              "    <tr>\n",
              "      <th>count</th>\n",
              "      <td>221312.000000</td>\n",
              "      <td>221312.000000</td>\n",
              "      <td>221312.000000</td>\n",
              "      <td>221312.000000</td>\n",
              "      <td>221312.000000</td>\n",
              "      <td>221312.000000</td>\n",
              "      <td>221312.000000</td>\n",
              "      <td>221312.000000</td>\n",
              "      <td>221312.000000</td>\n",
              "      <td>221312.000000</td>\n",
              "      <td>221312.000000</td>\n",
              "      <td>221312.000000</td>\n",
              "      <td>221312.000000</td>\n",
              "    </tr>\n",
              "    <tr>\n",
              "      <th>mean</th>\n",
              "      <td>0.339851</td>\n",
              "      <td>0.581141</td>\n",
              "      <td>0.570367</td>\n",
              "      <td>0.222501</td>\n",
              "      <td>0.193704</td>\n",
              "      <td>-9.905335</td>\n",
              "      <td>0.608200</td>\n",
              "      <td>0.109606</td>\n",
              "      <td>119.560400</td>\n",
              "      <td>3.883251</td>\n",
              "      <td>0.439141</td>\n",
              "      <td>25.468542</td>\n",
              "      <td>211.435119</td>\n",
              "    </tr>\n",
              "    <tr>\n",
              "      <th>std</th>\n",
              "      <td>0.344702</td>\n",
              "      <td>0.189589</td>\n",
              "      <td>0.259716</td>\n",
              "      <td>0.359311</td>\n",
              "      <td>0.166410</td>\n",
              "      <td>6.521075</td>\n",
              "      <td>0.488153</td>\n",
              "      <td>0.117063</td>\n",
              "      <td>30.079245</td>\n",
              "      <td>0.503259</td>\n",
              "      <td>0.258596</td>\n",
              "      <td>18.671894</td>\n",
              "      <td>96.348383</td>\n",
              "    </tr>\n",
              "    <tr>\n",
              "      <th>min</th>\n",
              "      <td>0.000000</td>\n",
              "      <td>0.000000</td>\n",
              "      <td>0.000000</td>\n",
              "      <td>0.000000</td>\n",
              "      <td>0.000000</td>\n",
              "      <td>-60.000000</td>\n",
              "      <td>0.000000</td>\n",
              "      <td>0.000000</td>\n",
              "      <td>0.000000</td>\n",
              "      <td>0.000000</td>\n",
              "      <td>0.000000</td>\n",
              "      <td>0.000000</td>\n",
              "      <td>20.049000</td>\n",
              "    </tr>\n",
              "    <tr>\n",
              "      <th>25%</th>\n",
              "      <td>0.031100</td>\n",
              "      <td>0.459000</td>\n",
              "      <td>0.398000</td>\n",
              "      <td>0.000000</td>\n",
              "      <td>0.097400</td>\n",
              "      <td>-11.759000</td>\n",
              "      <td>0.000000</td>\n",
              "      <td>0.038800</td>\n",
              "      <td>96.017000</td>\n",
              "      <td>4.000000</td>\n",
              "      <td>0.224000</td>\n",
              "      <td>11.000000</td>\n",
              "      <td>164.969000</td>\n",
              "    </tr>\n",
              "    <tr>\n",
              "      <th>50%</th>\n",
              "      <td>0.200000</td>\n",
              "      <td>0.604000</td>\n",
              "      <td>0.605000</td>\n",
              "      <td>0.000149</td>\n",
              "      <td>0.123000</td>\n",
              "      <td>-7.923000</td>\n",
              "      <td>1.000000</td>\n",
              "      <td>0.055600</td>\n",
              "      <td>120.026000</td>\n",
              "      <td>4.000000</td>\n",
              "      <td>0.420000</td>\n",
              "      <td>23.000000</td>\n",
              "      <td>202.293000</td>\n",
              "    </tr>\n",
              "    <tr>\n",
              "      <th>75%</th>\n",
              "      <td>0.629000</td>\n",
              "      <td>0.726000</td>\n",
              "      <td>0.776000</td>\n",
              "      <td>0.427000</td>\n",
              "      <td>0.234000</td>\n",
              "      <td>-5.660000</td>\n",
              "      <td>1.000000</td>\n",
              "      <td>0.127000</td>\n",
              "      <td>139.792000</td>\n",
              "      <td>4.000000</td>\n",
              "      <td>0.637000</td>\n",
              "      <td>38.000000</td>\n",
              "      <td>241.098750</td>\n",
              "    </tr>\n",
              "    <tr>\n",
              "      <th>max</th>\n",
              "      <td>0.996000</td>\n",
              "      <td>0.996000</td>\n",
              "      <td>1.000000</td>\n",
              "      <td>1.000000</td>\n",
              "      <td>0.999000</td>\n",
              "      <td>1.806000</td>\n",
              "      <td>1.000000</td>\n",
              "      <td>0.850000</td>\n",
              "      <td>249.983000</td>\n",
              "      <td>5.000000</td>\n",
              "      <td>1.000000</td>\n",
              "      <td>100.000000</td>\n",
              "      <td>1796.800000</td>\n",
              "    </tr>\n",
              "  </tbody>\n",
              "</table>\n",
              "</div>\n",
              "    <div class=\"colab-df-buttons\">\n",
              "\n",
              "  <div class=\"colab-df-container\">\n",
              "    <button class=\"colab-df-convert\" onclick=\"convertToInteractive('df-c0e207ae-0092-4b9f-ab20-9a38529e5524')\"\n",
              "            title=\"Convert this dataframe to an interactive table.\"\n",
              "            style=\"display:none;\">\n",
              "\n",
              "  <svg xmlns=\"http://www.w3.org/2000/svg\" height=\"24px\" viewBox=\"0 -960 960 960\">\n",
              "    <path d=\"M120-120v-720h720v720H120Zm60-500h600v-160H180v160Zm220 220h160v-160H400v160Zm0 220h160v-160H400v160ZM180-400h160v-160H180v160Zm440 0h160v-160H620v160ZM180-180h160v-160H180v160Zm440 0h160v-160H620v160Z\"/>\n",
              "  </svg>\n",
              "    </button>\n",
              "\n",
              "  <style>\n",
              "    .colab-df-container {\n",
              "      display:flex;\n",
              "      gap: 12px;\n",
              "    }\n",
              "\n",
              "    .colab-df-convert {\n",
              "      background-color: #E8F0FE;\n",
              "      border: none;\n",
              "      border-radius: 50%;\n",
              "      cursor: pointer;\n",
              "      display: none;\n",
              "      fill: #1967D2;\n",
              "      height: 32px;\n",
              "      padding: 0 0 0 0;\n",
              "      width: 32px;\n",
              "    }\n",
              "\n",
              "    .colab-df-convert:hover {\n",
              "      background-color: #E2EBFA;\n",
              "      box-shadow: 0px 1px 2px rgba(60, 64, 67, 0.3), 0px 1px 3px 1px rgba(60, 64, 67, 0.15);\n",
              "      fill: #174EA6;\n",
              "    }\n",
              "\n",
              "    .colab-df-buttons div {\n",
              "      margin-bottom: 4px;\n",
              "    }\n",
              "\n",
              "    [theme=dark] .colab-df-convert {\n",
              "      background-color: #3B4455;\n",
              "      fill: #D2E3FC;\n",
              "    }\n",
              "\n",
              "    [theme=dark] .colab-df-convert:hover {\n",
              "      background-color: #434B5C;\n",
              "      box-shadow: 0px 1px 3px 1px rgba(0, 0, 0, 0.15);\n",
              "      filter: drop-shadow(0px 1px 2px rgba(0, 0, 0, 0.3));\n",
              "      fill: #FFFFFF;\n",
              "    }\n",
              "  </style>\n",
              "\n",
              "    <script>\n",
              "      const buttonEl =\n",
              "        document.querySelector('#df-c0e207ae-0092-4b9f-ab20-9a38529e5524 button.colab-df-convert');\n",
              "      buttonEl.style.display =\n",
              "        google.colab.kernel.accessAllowed ? 'block' : 'none';\n",
              "\n",
              "      async function convertToInteractive(key) {\n",
              "        const element = document.querySelector('#df-c0e207ae-0092-4b9f-ab20-9a38529e5524');\n",
              "        const dataTable =\n",
              "          await google.colab.kernel.invokeFunction('convertToInteractive',\n",
              "                                                    [key], {});\n",
              "        if (!dataTable) return;\n",
              "\n",
              "        const docLinkHtml = 'Like what you see? Visit the ' +\n",
              "          '<a target=\"_blank\" href=https://colab.research.google.com/notebooks/data_table.ipynb>data table notebook</a>'\n",
              "          + ' to learn more about interactive tables.';\n",
              "        element.innerHTML = '';\n",
              "        dataTable['output_type'] = 'display_data';\n",
              "        await google.colab.output.renderOutput(dataTable, element);\n",
              "        const docLink = document.createElement('div');\n",
              "        docLink.innerHTML = docLinkHtml;\n",
              "        element.appendChild(docLink);\n",
              "      }\n",
              "    </script>\n",
              "  </div>\n",
              "\n",
              "\n",
              "<div id=\"df-38ea0211-9f65-47d3-8ca9-ef4ef6a9c86b\">\n",
              "  <button class=\"colab-df-quickchart\" onclick=\"quickchart('df-38ea0211-9f65-47d3-8ca9-ef4ef6a9c86b')\"\n",
              "            title=\"Suggest charts\"\n",
              "            style=\"display:none;\">\n",
              "\n",
              "<svg xmlns=\"http://www.w3.org/2000/svg\" height=\"24px\"viewBox=\"0 0 24 24\"\n",
              "     width=\"24px\">\n",
              "    <g>\n",
              "        <path d=\"M19 3H5c-1.1 0-2 .9-2 2v14c0 1.1.9 2 2 2h14c1.1 0 2-.9 2-2V5c0-1.1-.9-2-2-2zM9 17H7v-7h2v7zm4 0h-2V7h2v10zm4 0h-2v-4h2v4z\"/>\n",
              "    </g>\n",
              "</svg>\n",
              "  </button>\n",
              "\n",
              "<style>\n",
              "  .colab-df-quickchart {\n",
              "      --bg-color: #E8F0FE;\n",
              "      --fill-color: #1967D2;\n",
              "      --hover-bg-color: #E2EBFA;\n",
              "      --hover-fill-color: #174EA6;\n",
              "      --disabled-fill-color: #AAA;\n",
              "      --disabled-bg-color: #DDD;\n",
              "  }\n",
              "\n",
              "  [theme=dark] .colab-df-quickchart {\n",
              "      --bg-color: #3B4455;\n",
              "      --fill-color: #D2E3FC;\n",
              "      --hover-bg-color: #434B5C;\n",
              "      --hover-fill-color: #FFFFFF;\n",
              "      --disabled-bg-color: #3B4455;\n",
              "      --disabled-fill-color: #666;\n",
              "  }\n",
              "\n",
              "  .colab-df-quickchart {\n",
              "    background-color: var(--bg-color);\n",
              "    border: none;\n",
              "    border-radius: 50%;\n",
              "    cursor: pointer;\n",
              "    display: none;\n",
              "    fill: var(--fill-color);\n",
              "    height: 32px;\n",
              "    padding: 0;\n",
              "    width: 32px;\n",
              "  }\n",
              "\n",
              "  .colab-df-quickchart:hover {\n",
              "    background-color: var(--hover-bg-color);\n",
              "    box-shadow: 0 1px 2px rgba(60, 64, 67, 0.3), 0 1px 3px 1px rgba(60, 64, 67, 0.15);\n",
              "    fill: var(--button-hover-fill-color);\n",
              "  }\n",
              "\n",
              "  .colab-df-quickchart-complete:disabled,\n",
              "  .colab-df-quickchart-complete:disabled:hover {\n",
              "    background-color: var(--disabled-bg-color);\n",
              "    fill: var(--disabled-fill-color);\n",
              "    box-shadow: none;\n",
              "  }\n",
              "\n",
              "  .colab-df-spinner {\n",
              "    border: 2px solid var(--fill-color);\n",
              "    border-color: transparent;\n",
              "    border-bottom-color: var(--fill-color);\n",
              "    animation:\n",
              "      spin 1s steps(1) infinite;\n",
              "  }\n",
              "\n",
              "  @keyframes spin {\n",
              "    0% {\n",
              "      border-color: transparent;\n",
              "      border-bottom-color: var(--fill-color);\n",
              "      border-left-color: var(--fill-color);\n",
              "    }\n",
              "    20% {\n",
              "      border-color: transparent;\n",
              "      border-left-color: var(--fill-color);\n",
              "      border-top-color: var(--fill-color);\n",
              "    }\n",
              "    30% {\n",
              "      border-color: transparent;\n",
              "      border-left-color: var(--fill-color);\n",
              "      border-top-color: var(--fill-color);\n",
              "      border-right-color: var(--fill-color);\n",
              "    }\n",
              "    40% {\n",
              "      border-color: transparent;\n",
              "      border-right-color: var(--fill-color);\n",
              "      border-top-color: var(--fill-color);\n",
              "    }\n",
              "    60% {\n",
              "      border-color: transparent;\n",
              "      border-right-color: var(--fill-color);\n",
              "    }\n",
              "    80% {\n",
              "      border-color: transparent;\n",
              "      border-right-color: var(--fill-color);\n",
              "      border-bottom-color: var(--fill-color);\n",
              "    }\n",
              "    90% {\n",
              "      border-color: transparent;\n",
              "      border-bottom-color: var(--fill-color);\n",
              "    }\n",
              "  }\n",
              "</style>\n",
              "\n",
              "  <script>\n",
              "    async function quickchart(key) {\n",
              "      const quickchartButtonEl =\n",
              "        document.querySelector('#' + key + ' button');\n",
              "      quickchartButtonEl.disabled = true;  // To prevent multiple clicks.\n",
              "      quickchartButtonEl.classList.add('colab-df-spinner');\n",
              "      try {\n",
              "        const charts = await google.colab.kernel.invokeFunction(\n",
              "            'suggestCharts', [key], {});\n",
              "      } catch (error) {\n",
              "        console.error('Error during call to suggestCharts:', error);\n",
              "      }\n",
              "      quickchartButtonEl.classList.remove('colab-df-spinner');\n",
              "      quickchartButtonEl.classList.add('colab-df-quickchart-complete');\n",
              "    }\n",
              "    (() => {\n",
              "      let quickchartButtonEl =\n",
              "        document.querySelector('#df-38ea0211-9f65-47d3-8ca9-ef4ef6a9c86b button');\n",
              "      quickchartButtonEl.style.display =\n",
              "        google.colab.kernel.accessAllowed ? 'block' : 'none';\n",
              "    })();\n",
              "  </script>\n",
              "</div>\n",
              "    </div>\n",
              "  </div>\n"
            ],
            "application/vnd.google.colaboratory.intrinsic+json": {
              "type": "dataframe",
              "summary": "{\n  \"name\": \"songs_df\",\n  \"rows\": 8,\n  \"fields\": [\n    {\n      \"column\": \"acousticness\",\n      \"properties\": {\n        \"dtype\": \"number\",\n        \"std\": 78245.47965730117,\n        \"min\": 0.0,\n        \"max\": 221312.0,\n        \"num_unique_values\": 8,\n        \"samples\": [\n          0.3398510184993584,\n          0.2,\n          221312.0\n        ],\n        \"semantic_type\": \"\",\n        \"description\": \"\"\n      }\n    },\n    {\n      \"column\": \"danceability\",\n      \"properties\": {\n        \"dtype\": \"number\",\n        \"std\": 78245.42838807951,\n        \"min\": 0.0,\n        \"max\": 221312.0,\n        \"num_unique_values\": 8,\n        \"samples\": [\n          0.5811409390362927,\n          0.604,\n          221312.0\n        ],\n        \"semantic_type\": \"\",\n        \"description\": \"\"\n      }\n    },\n    {\n      \"column\": \"energy\",\n      \"properties\": {\n        \"dtype\": \"number\",\n        \"std\": 78245.42569334045,\n        \"min\": 0.0,\n        \"max\": 221312.0,\n        \"num_unique_values\": 8,\n        \"samples\": [\n          0.570367336785172,\n          0.605,\n          221312.0\n        ],\n        \"semantic_type\": \"\",\n        \"description\": \"\"\n      }\n    },\n    {\n      \"column\": \"instrumentalness\",\n      \"properties\": {\n        \"dtype\": \"number\",\n        \"std\": 78245.50651184577,\n        \"min\": 0.0,\n        \"max\": 221312.0,\n        \"num_unique_values\": 7,\n        \"samples\": [\n          221312.0,\n          0.22250079002458065,\n          0.427\n        ],\n        \"semantic_type\": \"\",\n        \"description\": \"\"\n      }\n    },\n    {\n      \"column\": \"liveness\",\n      \"properties\": {\n        \"dtype\": \"number\",\n        \"std\": 78245.5163833087,\n        \"min\": 0.0,\n        \"max\": 221312.0,\n        \"num_unique_values\": 8,\n        \"samples\": [\n          0.19370360441367843,\n          0.123,\n          221312.0\n        ],\n        \"semantic_type\": \"\",\n        \"description\": \"\"\n      }\n    },\n    {\n      \"column\": \"loudness\",\n      \"properties\": {\n        \"dtype\": \"number\",\n        \"std\": 78250.00076016429,\n        \"min\": -60.0,\n        \"max\": 221312.0,\n        \"num_unique_values\": 8,\n        \"samples\": [\n          -9.905335223575769,\n          -7.922999999999999,\n          221312.0\n        ],\n        \"semantic_type\": \"\",\n        \"description\": \"\"\n      }\n    },\n    {\n      \"column\": \"mode\",\n      \"properties\": {\n        \"dtype\": \"number\",\n        \"std\": 78245.40108298132,\n        \"min\": 0.0,\n        \"max\": 221312.0,\n        \"num_unique_values\": 5,\n        \"samples\": [\n          0.6082001879699248,\n          1.0,\n          0.4881534554375816\n        ],\n        \"semantic_type\": \"\",\n        \"description\": \"\"\n      }\n    },\n    {\n      \"column\": \"speechiness\",\n      \"properties\": {\n        \"dtype\": \"number\",\n        \"std\": 78245.54241707434,\n        \"min\": 0.0,\n        \"max\": 221312.0,\n        \"num_unique_values\": 8,\n        \"samples\": [\n          0.10960612664473683,\n          0.0556,\n          221312.0\n        ],\n        \"semantic_type\": \"\",\n        \"description\": \"\"\n      }\n    },\n    {\n      \"column\": \"tempo\",\n      \"properties\": {\n        \"dtype\": \"number\",\n        \"std\": 78207.4875243925,\n        \"min\": 0.0,\n        \"max\": 221312.0,\n        \"num_unique_values\": 8,\n        \"samples\": [\n          119.56040015905151,\n          120.026,\n          221312.0\n        ],\n        \"semantic_type\": \"\",\n        \"description\": \"\"\n      }\n    },\n    {\n      \"column\": \"time_signature\",\n      \"properties\": {\n        \"dtype\": \"number\",\n        \"std\": 78244.52781808542,\n        \"min\": 0.0,\n        \"max\": 221312.0,\n        \"num_unique_values\": 6,\n        \"samples\": [\n          221312.0,\n          3.883250795257374,\n          5.0\n        ],\n        \"semantic_type\": \"\",\n        \"description\": \"\"\n      }\n    },\n    {\n      \"column\": \"valence\",\n      \"properties\": {\n        \"dtype\": \"number\",\n        \"std\": 78245.45753063419,\n        \"min\": 0.0,\n        \"max\": 221312.0,\n        \"num_unique_values\": 8,\n        \"samples\": [\n          0.43914055622876297,\n          0.42,\n          221312.0\n        ],\n        \"semantic_type\": \"\",\n        \"description\": \"\"\n      }\n    },\n    {\n      \"column\": \"popularity\",\n      \"properties\": {\n        \"dtype\": \"number\",\n        \"std\": 78234.69709758571,\n        \"min\": 0.0,\n        \"max\": 221312.0,\n        \"num_unique_values\": 8,\n        \"samples\": [\n          25.468542148640832,\n          23.0,\n          221312.0\n        ],\n        \"semantic_type\": \"\",\n        \"description\": \"\"\n      }\n    },\n    {\n      \"column\": \"duration_s\",\n      \"properties\": {\n        \"dtype\": \"number\",\n        \"std\": 78109.71278061149,\n        \"min\": 20.049,\n        \"max\": 221312.0,\n        \"num_unique_values\": 8,\n        \"samples\": [\n          211.43511875542214,\n          202.293,\n          221312.0\n        ],\n        \"semantic_type\": \"\",\n        \"description\": \"\"\n      }\n    }\n  ]\n}"
            }
          },
          "metadata": {},
          "execution_count": 31
        }
      ],
      "source": [
        "# Descriptive statistics for each numeric column\n",
        "songs_df.describe()"
      ]
    },
    {
      "cell_type": "markdown",
      "metadata": {
        "id": "VLDu_8-aFgvb"
      },
      "source": [
        "Some major takeaways:\n",
        "- `instrumentalness`, `speechiness`, and `duration_s` seem to be extremely left-skewed.\n",
        "- `popularity`, `acousticness`, `liveness`, and `valence` also seem to be left-skewed, but to a lesser extent.\n",
        "- `time_signature` should be distributed across values from 3.0 to 7.0, but the minimum value is 0.0. Most of the values seem to be 4.0."
      ]
    },
    {
      "cell_type": "code",
      "execution_count": null,
      "metadata": {
        "colab": {
          "base_uri": "https://localhost:8080/"
        },
        "id": "cOs1pafoF8Yq",
        "outputId": "44213cb5-fb8d-457b-d7e3-541d12b46c4c"
      },
      "outputs": [
        {
          "output_type": "execute_result",
          "data": {
            "text/plain": [
              "artist_name          object\n",
              "track_name           object\n",
              "acousticness        float64\n",
              "danceability        float64\n",
              "energy              float64\n",
              "instrumentalness    float64\n",
              "key                  object\n",
              "liveness            float64\n",
              "loudness            float64\n",
              "mode                  int64\n",
              "speechiness         float64\n",
              "tempo               float64\n",
              "time_signature        int64\n",
              "valence             float64\n",
              "popularity            int64\n",
              "duration_s          float64\n",
              "dtype: object"
            ]
          },
          "metadata": {},
          "execution_count": 32
        }
      ],
      "source": [
        "# Datatypes of columns\n",
        "songs_df.dtypes"
      ]
    },
    {
      "cell_type": "markdown",
      "metadata": {
        "id": "AP04JttAdCLe"
      },
      "source": [
        "Based on our observations of the spread of `time_signature`, we decide to drop this column. A time signature of 0.0 does not provide much specific information, and Spotify does not support higher time signatures like 9, 11, 13, or 17, making this data incomplete. In addition, we don't believe it will be a significant predictor of popularity."
      ]
    },
    {
      "cell_type": "code",
      "execution_count": null,
      "metadata": {
        "id": "wAgIaIHrdBhT"
      },
      "outputs": [],
      "source": [
        "# Drop 'time_signature' column\n",
        "songs_df = songs_df.drop(columns={'time_signature'})"
      ]
    },
    {
      "cell_type": "markdown",
      "metadata": {
        "id": "x7fArwHrYtAD"
      },
      "source": [
        "We also noticed that there are some repeats in `artist_name`, so we want to know how many unique artists are represented in this dataset."
      ]
    },
    {
      "cell_type": "code",
      "execution_count": null,
      "metadata": {
        "colab": {
          "base_uri": "https://localhost:8080/"
        },
        "id": "2Ax01Ht1YqyK",
        "outputId": "a2d92ff8-424b-4d4d-f3d7-6658af034fed"
      },
      "outputs": [
        {
          "output_type": "execute_result",
          "data": {
            "text/plain": [
              "34583"
            ]
          },
          "metadata": {},
          "execution_count": 34
        }
      ],
      "source": [
        "# Number of unique values in 'artist_name'\n",
        "len(songs_df['artist_name'].unique())"
      ]
    },
    {
      "cell_type": "markdown",
      "metadata": {
        "id": "EG0om0DQgOyn"
      },
      "source": [
        "Since `key` is now a categorical variable, for which we cannot compute summary statistics, we visualize its spread using a bar plot:"
      ]
    },
    {
      "cell_type": "code",
      "execution_count": null,
      "metadata": {
        "colab": {
          "base_uri": "https://localhost:8080/",
          "height": 472
        },
        "id": "0KoqaTSmRwTk",
        "outputId": "9079b3a7-443f-48a8-a8c5-b587384ec047"
      },
      "outputs": [
        {
          "output_type": "display_data",
          "data": {
            "text/plain": [
              "<Figure size 640x480 with 1 Axes>"
            ],
            "image/png": "[encoded data removed]"
          },
          "metadata": {}
        }
      ],
      "source": [
        "# Get value counts of 'key' and order them\n",
        "key_count_dict = songs_df['key'].value_counts()\n",
        "scale_order = ['C', 'Cs/Df', 'D', 'Ds/Ef', 'E', 'F', 'Fs/Gf', 'G', 'Gs/Ef', 'A', 'As/Bf', 'B']\n",
        "ordered_counts = [key_count_dict[key] for key in scale_order]\n",
        "# Create bar plot + label axes\n",
        "plt.bar(x=scale_order, height=ordered_counts, color=['mediumseagreen'], alpha=0.8)\n",
        "plt.title('Distribution of Key Values')\n",
        "plt.xlabel('Key')\n",
        "plt.ylabel('Count')\n",
        "# Label each bar with exact count\n",
        "plt.text(0, ordered_counts[0] + 250, str(ordered_counts[0]), ha='center', fontsize=8)\n",
        "plt.text(1, ordered_counts[1] + 250, str(ordered_counts[1]), ha='center', fontsize=8)\n",
        "plt.text(2, ordered_counts[2] + 250, str(ordered_counts[2]), ha='center', fontsize=8)\n",
        "plt.text(3, ordered_counts[3] + 250, str(ordered_counts[3]), ha='center', fontsize=8)\n",
        "plt.text(4, ordered_counts[4] + 250, str(ordered_counts[4]), ha='center', fontsize=8)\n",
        "plt.text(5, ordered_counts[5] + 250, str(ordered_counts[5]), ha='center', fontsize=8)\n",
        "plt.text(6, ordered_counts[6] + 250, str(ordered_counts[6]), ha='center', fontsize=8)\n",
        "plt.text(7, ordered_counts[7] + 250, str(ordered_counts[7]), ha='center', fontsize=8)\n",
        "plt.text(8, ordered_counts[8] + 250, str(ordered_counts[8]), ha='center', fontsize=8)\n",
        "plt.text(9, ordered_counts[9] + 250, str(ordered_counts[9]), ha='center', fontsize=8)\n",
        "plt.text(10, ordered_counts[10] + 250, str(ordered_counts[10]), ha='center', fontsize=8)\n",
        "plt.text(11, ordered_counts[11] + 250, str(ordered_counts[11]), ha='center', fontsize=8)\n",
        "\n",
        "plt.show()"
      ]
    },
    {
      "cell_type": "markdown",
      "metadata": {
        "id": "3k8Je2NpVCjT"
      },
      "source": [
        "**Takeaway:** The most commonly used key in this dataset is C sharp/D flat, with C and G closely following. C sharp/D flat being the most common key is a bit surprising, as C and G are generally considered the best keys for pop music, although this dataset does contain songs from a wide variety of genres. D and A are next common, and then F and B, followed by G sharp/E flat, A sharp/B flat, E, and F sharp/G flat, with D sharp/E flat being the least common by a considerable margin. Overall, however, each key has enough data points (≥ 7315) that the performance of our model should not suffer."
      ]
    },
    {
      "cell_type": "markdown",
      "metadata": {
        "id": "q7TGMNeJjMGl"
      },
      "source": [
        "Another variable whose distribution we are interested in is `duration_s`, as we observed a wide range of values during our cleaning process. Since there are 77,628 unique values in this column, we round to the nearest second in order to make the visualization a bit neater."
      ]
    },
    {
      "cell_type": "code",
      "execution_count": null,
      "metadata": {
        "colab": {
          "base_uri": "https://localhost:8080/",
          "height": 472
        },
        "id": "t83_rmT3jvDQ",
        "outputId": "3f13dc90-68c2-4b80-cf66-657974c471ef"
      },
      "outputs": [
        {
          "output_type": "display_data",
          "data": {
            "text/plain": [
              "<Figure size 640x480 with 1 Axes>"
            ],
            "image/png": "[encoded data removed]"
          },
          "metadata": {}
        }
      ],
      "source": [
        "# Get value counts of 'duration_s'\n",
        "duration_counts = songs_df['duration_s'].round(decimals=0).value_counts()\n",
        "\n",
        "# Create bar plot + label axes\n",
        "plt.bar(x=duration_counts.index, height=duration_counts, color=['mediumseagreen'], alpha=0.8)\n",
        "plt.title('Distribution of Duration Values')\n",
        "plt.xlabel('Duration (s)')\n",
        "plt.ylabel('Count')\n",
        "\n",
        "plt.show()"
      ]
    },
    {
      "cell_type": "markdown",
      "metadata": {
        "id": "-rMo2zKgn_02"
      },
      "source": [
        "**Takeaway:** The data seem to be centered around 210 seconds (3.5 minutes), which aligns with the average length of radio edit versions of songs, as well as the average length of a song on the Billboard Hot 100 in 2018, according to [Gitnux](https://gitnux.org/average-song-length/#:~:text=during%20that%20year.-,Radio%20edit%20versions%20of%20songs%20are%20typically%20around%203%20minutes,3%20minutes%20and%2030%20seconds.). It is clear that `duration_s` is extremely right-skewed, but we were reluctant to filter out too many longer songs, as many of them are classical pieces of considerable popularity, and we want to train our model on a wide variety of genres. However, linear regression assumes that the residual errors are normally distributed, so if this assumption is violated and our baseline model does not perform well, we might consider normalizing this variable or removing it entirely."
      ]
    },
    {
      "cell_type": "markdown",
      "metadata": {
        "id": "zx9Uwx2qrao8"
      },
      "source": [
        "Another variable that we are interested in is `danceability`, as we predict that this will have a considerable impact on the popularity of a song. If a song is highly danceable, it is more likely to be played at parties, bars, clubs, etc., and it is probably more likely to go viral on social media platforms like Tiktok. We round the values to the thousandth place in order to make the visualization neater."
      ]
    },
    {
      "cell_type": "code",
      "execution_count": null,
      "metadata": {
        "colab": {
          "base_uri": "https://localhost:8080/",
          "height": 472
        },
        "id": "BQPFIUBBraEt",
        "outputId": "e7d165db-0c3d-4693-c1a9-fa5e64da4546"
      },
      "outputs": [
        {
          "output_type": "display_data",
          "data": {
            "text/plain": [
              "<Figure size 640x480 with 1 Axes>"
            ],
            "image/png": "[encoded data removed]"
          },
          "metadata": {}
        }
      ],
      "source": [
        "# Get value counts of 'danceability'\n",
        "danceability_counts = songs_df['danceability'].round(decimals=3).value_counts()\n",
        "# Create bar plot + label axes\n",
        "plt.bar(x=danceability_counts.index, height=danceability_counts, color=['mediumseagreen'], alpha=0.8, width=0.001)\n",
        "plt.title('Distribution of Danceability Values')\n",
        "plt.xlabel('Danceability')\n",
        "plt.ylabel('Count')\n",
        "\n",
        "plt.show()"
      ]
    },
    {
      "cell_type": "markdown",
      "metadata": {
        "id": "1_-pBLUWzOn0"
      },
      "source": [
        "**Takeway:** The data seem to be slightly left-skewed, with the values centering around 0.65, but overall it looks relatively normal. However, there are many outliers with danceability values of around 0.0. After taking a closer look at these songs, we noticed that many of these are ASMR/white noise tracks, which we are not interested in, so we filter out any tracks with `danceability` = 0.0 and whose `track_name` contains \"Rain\" or \"Noise\"."
      ]
    },
    {
      "cell_type": "code",
      "execution_count": null,
      "metadata": {
        "colab": {
          "base_uri": "https://localhost:8080/",
          "height": 826
        },
        "id": "DSu9qTkA0CXD",
        "outputId": "91470eae-0ecc-4d15-e68b-53f6093669e3"
      },
      "outputs": [
        {
          "output_type": "execute_result",
          "data": {
            "text/plain": [
              "                  artist_name  \\\n",
              "139          Armin van Buuren   \n",
              "669     Johann Sebastian Bach   \n",
              "12441            Pharm Sounds   \n",
              "13251                Granular   \n",
              "13615              Fan Sounds   \n",
              "...                       ...   \n",
              "214843                    Arx   \n",
              "214943            Mattew10028   \n",
              "217475       Brown Noise Baby   \n",
              "220100          Anthem Lights   \n",
              "220174                    Arx   \n",
              "\n",
              "                                               track_name  acousticness  \\\n",
              "139                  A State Of Trance (ASOT 874) - Outro       0.02820   \n",
              "669     Goldberg Variations, BWV 988 (Arr. for Accordi...       0.83600   \n",
              "12441                                    Rain Forest Rain       0.00283   \n",
              "13251                                      One Start Trip       0.86500   \n",
              "13615                           Box Fan on High Long Loop       0.12300   \n",
              "...                                                   ...           ...   \n",
              "214843                               Tranquil White Noise       0.00000   \n",
              "214943                               The hill on the lake       0.11100   \n",
              "217475  Fan Noises for Sleeping (Looped, Loopable Fast...       0.49500   \n",
              "220100       We Three Kings / God Rest Ye Merry Gentlemen       0.71400   \n",
              "220174                                     Cabin Pressure       0.92600   \n",
              "\n",
              "        danceability    energy  instrumentalness    key  liveness  loudness  \\\n",
              "139              0.0  0.524000          0.000000      B    0.6580   -11.890   \n",
              "669              0.0  0.136000          0.000158      G    0.0884   -15.614   \n",
              "12441            0.0  0.098100          0.992000      C    0.1580   -28.185   \n",
              "13251            0.0  0.000020          0.650000  Cs/Df    0.9440   -23.712   \n",
              "13615            0.0  0.000271          0.497000  Cs/Df    0.1610   -24.421   \n",
              "...              ...       ...               ...    ...       ...       ...   \n",
              "214843           0.0  0.000000          0.000000      C    0.0000   -25.319   \n",
              "214943           0.0  0.000020          0.000000  Fs/Gf    0.1800   -51.420   \n",
              "217475           0.0  0.002430          0.261000      G    0.1200   -18.795   \n",
              "220100           0.0  0.324000          0.000000      A    0.2910    -7.517   \n",
              "220174           0.0  0.996000          0.395000      E    0.6700   -24.027   \n",
              "\n",
              "        mode  speechiness  tempo  valence  popularity  duration_s  \n",
              "139        0          0.0    0.0      0.0           9      33.310  \n",
              "669        1          0.0    0.0      0.0           3     127.347  \n",
              "12441      1          0.0    0.0      0.0          28      64.617  \n",
              "13251      1          0.0    0.0      0.0          49     180.000  \n",
              "13615      1          0.0    0.0      0.0          35     515.842  \n",
              "...      ...          ...    ...      ...         ...         ...  \n",
              "214843     0          0.0    0.0      0.0          50     128.000  \n",
              "214943     0          0.0    0.0      0.0          53      64.260  \n",
              "217475     1          0.0    0.0      0.0          57      75.000  \n",
              "220100     1          0.0    0.0      0.0          35     131.262  \n",
              "220174     1          0.0    0.0      0.0          53     166.000  \n",
              "\n",
              "[393 rows x 15 columns]"
            ],
            "text/html": [
              "\n",
              "  <div id=\"df-dab37abe-685d-46ae-b69b-c6bdab601611\" class=\"colab-df-container\">\n",
              "    <div>\n",
              "<style scoped>\n",
              "    .dataframe tbody tr th:only-of-type {\n",
              "        vertical-align: middle;\n",
              "    }\n",
              "\n",
              "    .dataframe tbody tr th {\n",
              "        vertical-align: top;\n",
              "    }\n",
              "\n",
              "    .dataframe thead th {\n",
              "        text-align: right;\n",
              "    }\n",
              "</style>\n",
              "<table border=\"1\" class=\"dataframe\">\n",
              "  <thead>\n",
              "    <tr style=\"text-align: right;\">\n",
              "      <th></th>\n",
              "      <th>artist_name</th>\n",
              "      <th>track_name</th>\n",
              "      <th>acousticness</th>\n",
              "      <th>danceability</th>\n",
              "      <th>energy</th>\n",
              "      <th>instrumentalness</th>\n",
              "      <th>key</th>\n",
              "      <th>liveness</th>\n",
              "      <th>loudness</th>\n",
              "      <th>mode</th>\n",
              "      <th>speechiness</th>\n",
              "      <th>tempo</th>\n",
              "      <th>valence</th>\n",
              "      <th>popularity</th>\n",
              "      <th>duration_s</th>\n",
              "    </tr>\n",
              "  </thead>\n",
              "  <tbody>\n",
              "    <tr>\n",
              "      <th>139</th>\n",
              "      <td>Armin van Buuren</td>\n",
              "      <td>A State Of Trance (ASOT 874) - Outro</td>\n",
              "      <td>0.02820</td>\n",
              "      <td>0.0</td>\n",
              "      <td>0.524000</td>\n",
              "      <td>0.000000</td>\n",
              "      <td>B</td>\n",
              "      <td>0.6580</td>\n",
              "      <td>-11.890</td>\n",
              "      <td>0</td>\n",
              "      <td>0.0</td>\n",
              "      <td>0.0</td>\n",
              "      <td>0.0</td>\n",
              "      <td>9</td>\n",
              "      <td>33.310</td>\n",
              "    </tr>\n",
              "    <tr>\n",
              "      <th>669</th>\n",
              "      <td>Johann Sebastian Bach</td>\n",
              "      <td>Goldberg Variations, BWV 988 (Arr. for Accordi...</td>\n",
              "      <td>0.83600</td>\n",
              "      <td>0.0</td>\n",
              "      <td>0.136000</td>\n",
              "      <td>0.000158</td>\n",
              "      <td>G</td>\n",
              "      <td>0.0884</td>\n",
              "      <td>-15.614</td>\n",
              "      <td>1</td>\n",
              "      <td>0.0</td>\n",
              "      <td>0.0</td>\n",
              "      <td>0.0</td>\n",
              "      <td>3</td>\n",
              "      <td>127.347</td>\n",
              "    </tr>\n",
              "    <tr>\n",
              "      <th>12441</th>\n",
              "      <td>Pharm Sounds</td>\n",
              "      <td>Rain Forest Rain</td>\n",
              "      <td>0.00283</td>\n",
              "      <td>0.0</td>\n",
              "      <td>0.098100</td>\n",
              "      <td>0.992000</td>\n",
              "      <td>C</td>\n",
              "      <td>0.1580</td>\n",
              "      <td>-28.185</td>\n",
              "      <td>1</td>\n",
              "      <td>0.0</td>\n",
              "      <td>0.0</td>\n",
              "      <td>0.0</td>\n",
              "      <td>28</td>\n",
              "      <td>64.617</td>\n",
              "    </tr>\n",
              "    <tr>\n",
              "      <th>13251</th>\n",
              "      <td>Granular</td>\n",
              "      <td>One Start Trip</td>\n",
              "      <td>0.86500</td>\n",
              "      <td>0.0</td>\n",
              "      <td>0.000020</td>\n",
              "      <td>0.650000</td>\n",
              "      <td>Cs/Df</td>\n",
              "      <td>0.9440</td>\n",
              "      <td>-23.712</td>\n",
              "      <td>1</td>\n",
              "      <td>0.0</td>\n",
              "      <td>0.0</td>\n",
              "      <td>0.0</td>\n",
              "      <td>49</td>\n",
              "      <td>180.000</td>\n",
              "    </tr>\n",
              "    <tr>\n",
              "      <th>13615</th>\n",
              "      <td>Fan Sounds</td>\n",
              "      <td>Box Fan on High Long Loop</td>\n",
              "      <td>0.12300</td>\n",
              "      <td>0.0</td>\n",
              "      <td>0.000271</td>\n",
              "      <td>0.497000</td>\n",
              "      <td>Cs/Df</td>\n",
              "      <td>0.1610</td>\n",
              "      <td>-24.421</td>\n",
              "      <td>1</td>\n",
              "      <td>0.0</td>\n",
              "      <td>0.0</td>\n",
              "      <td>0.0</td>\n",
              "      <td>35</td>\n",
              "      <td>515.842</td>\n",
              "    </tr>\n",
              "    <tr>\n",
              "      <th>...</th>\n",
              "      <td>...</td>\n",
              "      <td>...</td>\n",
              "      <td>...</td>\n",
              "      <td>...</td>\n",
              "      <td>...</td>\n",
              "      <td>...</td>\n",
              "      <td>...</td>\n",
              "      <td>...</td>\n",
              "      <td>...</td>\n",
              "      <td>...</td>\n",
              "      <td>...</td>\n",
              "      <td>...</td>\n",
              "      <td>...</td>\n",
              "      <td>...</td>\n",
              "      <td>...</td>\n",
              "    </tr>\n",
              "    <tr>\n",
              "      <th>214843</th>\n",
              "      <td>Arx</td>\n",
              "      <td>Tranquil White Noise</td>\n",
              "      <td>0.00000</td>\n",
              "      <td>0.0</td>\n",
              "      <td>0.000000</td>\n",
              "      <td>0.000000</td>\n",
              "      <td>C</td>\n",
              "      <td>0.0000</td>\n",
              "      <td>-25.319</td>\n",
              "      <td>0</td>\n",
              "      <td>0.0</td>\n",
              "      <td>0.0</td>\n",
              "      <td>0.0</td>\n",
              "      <td>50</td>\n",
              "      <td>128.000</td>\n",
              "    </tr>\n",
              "    <tr>\n",
              "      <th>214943</th>\n",
              "      <td>Mattew10028</td>\n",
              "      <td>The hill on the lake</td>\n",
              "      <td>0.11100</td>\n",
              "      <td>0.0</td>\n",
              "      <td>0.000020</td>\n",
              "      <td>0.000000</td>\n",
              "      <td>Fs/Gf</td>\n",
              "      <td>0.1800</td>\n",
              "      <td>-51.420</td>\n",
              "      <td>0</td>\n",
              "      <td>0.0</td>\n",
              "      <td>0.0</td>\n",
              "      <td>0.0</td>\n",
              "      <td>53</td>\n",
              "      <td>64.260</td>\n",
              "    </tr>\n",
              "    <tr>\n",
              "      <th>217475</th>\n",
              "      <td>Brown Noise Baby</td>\n",
              "      <td>Fan Noises for Sleeping (Looped, Loopable Fast...</td>\n",
              "      <td>0.49500</td>\n",
              "      <td>0.0</td>\n",
              "      <td>0.002430</td>\n",
              "      <td>0.261000</td>\n",
              "      <td>G</td>\n",
              "      <td>0.1200</td>\n",
              "      <td>-18.795</td>\n",
              "      <td>1</td>\n",
              "      <td>0.0</td>\n",
              "      <td>0.0</td>\n",
              "      <td>0.0</td>\n",
              "      <td>57</td>\n",
              "      <td>75.000</td>\n",
              "    </tr>\n",
              "    <tr>\n",
              "      <th>220100</th>\n",
              "      <td>Anthem Lights</td>\n",
              "      <td>We Three Kings / God Rest Ye Merry Gentlemen</td>\n",
              "      <td>0.71400</td>\n",
              "      <td>0.0</td>\n",
              "      <td>0.324000</td>\n",
              "      <td>0.000000</td>\n",
              "      <td>A</td>\n",
              "      <td>0.2910</td>\n",
              "      <td>-7.517</td>\n",
              "      <td>1</td>\n",
              "      <td>0.0</td>\n",
              "      <td>0.0</td>\n",
              "      <td>0.0</td>\n",
              "      <td>35</td>\n",
              "      <td>131.262</td>\n",
              "    </tr>\n",
              "    <tr>\n",
              "      <th>220174</th>\n",
              "      <td>Arx</td>\n",
              "      <td>Cabin Pressure</td>\n",
              "      <td>0.92600</td>\n",
              "      <td>0.0</td>\n",
              "      <td>0.996000</td>\n",
              "      <td>0.395000</td>\n",
              "      <td>E</td>\n",
              "      <td>0.6700</td>\n",
              "      <td>-24.027</td>\n",
              "      <td>1</td>\n",
              "      <td>0.0</td>\n",
              "      <td>0.0</td>\n",
              "      <td>0.0</td>\n",
              "      <td>53</td>\n",
              "      <td>166.000</td>\n",
              "    </tr>\n",
              "  </tbody>\n",
              "</table>\n",
              "<p>393 rows × 15 columns</p>\n",
              "</div>\n",
              "    <div class=\"colab-df-buttons\">\n",
              "\n",
              "  <div class=\"colab-df-container\">\n",
              "    <button class=\"colab-df-convert\" onclick=\"convertToInteractive('df-dab37abe-685d-46ae-b69b-c6bdab601611')\"\n",
              "            title=\"Convert this dataframe to an interactive table.\"\n",
              "            style=\"display:none;\">\n",
              "\n",
              "  <svg xmlns=\"http://www.w3.org/2000/svg\" height=\"24px\" viewBox=\"0 -960 960 960\">\n",
              "    <path d=\"M120-120v-720h720v720H120Zm60-500h600v-160H180v160Zm220 220h160v-160H400v160Zm0 220h160v-160H400v160ZM180-400h160v-160H180v160Zm440 0h160v-160H620v160ZM180-180h160v-160H180v160Zm440 0h160v-160H620v160Z\"/>\n",
              "  </svg>\n",
              "    </button>\n",
              "\n",
              "  <style>\n",
              "    .colab-df-container {\n",
              "      display:flex;\n",
              "      gap: 12px;\n",
              "    }\n",
              "\n",
              "    .colab-df-convert {\n",
              "      background-color: #E8F0FE;\n",
              "      border: none;\n",
              "      border-radius: 50%;\n",
              "      cursor: pointer;\n",
              "      display: none;\n",
              "      fill: #1967D2;\n",
              "      height: 32px;\n",
              "      padding: 0 0 0 0;\n",
              "      width: 32px;\n",
              "    }\n",
              "\n",
              "    .colab-df-convert:hover {\n",
              "      background-color: #E2EBFA;\n",
              "      box-shadow: 0px 1px 2px rgba(60, 64, 67, 0.3), 0px 1px 3px 1px rgba(60, 64, 67, 0.15);\n",
              "      fill: #174EA6;\n",
              "    }\n",
              "\n",
              "    .colab-df-buttons div {\n",
              "      margin-bottom: 4px;\n",
              "    }\n",
              "\n",
              "    [theme=dark] .colab-df-convert {\n",
              "      background-color: #3B4455;\n",
              "      fill: #D2E3FC;\n",
              "    }\n",
              "\n",
              "    [theme=dark] .colab-df-convert:hover {\n",
              "      background-color: #434B5C;\n",
              "      box-shadow: 0px 1px 3px 1px rgba(0, 0, 0, 0.15);\n",
              "      filter: drop-shadow(0px 1px 2px rgba(0, 0, 0, 0.3));\n",
              "      fill: #FFFFFF;\n",
              "    }\n",
              "  </style>\n",
              "\n",
              "    <script>\n",
              "      const buttonEl =\n",
              "        document.querySelector('#df-dab37abe-685d-46ae-b69b-c6bdab601611 button.colab-df-convert');\n",
              "      buttonEl.style.display =\n",
              "        google.colab.kernel.accessAllowed ? 'block' : 'none';\n",
              "\n",
              "      async function convertToInteractive(key) {\n",
              "        const element = document.querySelector('#df-dab37abe-685d-46ae-b69b-c6bdab601611');\n",
              "        const dataTable =\n",
              "          await google.colab.kernel.invokeFunction('convertToInteractive',\n",
              "                                                    [key], {});\n",
              "        if (!dataTable) return;\n",
              "\n",
              "        const docLinkHtml = 'Like what you see? Visit the ' +\n",
              "          '<a target=\"_blank\" href=https://colab.research.google.com/notebooks/data_table.ipynb>data table notebook</a>'\n",
              "          + ' to learn more about interactive tables.';\n",
              "        element.innerHTML = '';\n",
              "        dataTable['output_type'] = 'display_data';\n",
              "        await google.colab.output.renderOutput(dataTable, element);\n",
              "        const docLink = document.createElement('div');\n",
              "        docLink.innerHTML = docLinkHtml;\n",
              "        element.appendChild(docLink);\n",
              "      }\n",
              "    </script>\n",
              "  </div>\n",
              "\n",
              "\n",
              "<div id=\"df-36a91082-e252-4c5e-be22-c3f3fe2df08b\">\n",
              "  <button class=\"colab-df-quickchart\" onclick=\"quickchart('df-36a91082-e252-4c5e-be22-c3f3fe2df08b')\"\n",
              "            title=\"Suggest charts\"\n",
              "            style=\"display:none;\">\n",
              "\n",
              "<svg xmlns=\"http://www.w3.org/2000/svg\" height=\"24px\"viewBox=\"0 0 24 24\"\n",
              "     width=\"24px\">\n",
              "    <g>\n",
              "        <path d=\"M19 3H5c-1.1 0-2 .9-2 2v14c0 1.1.9 2 2 2h14c1.1 0 2-.9 2-2V5c0-1.1-.9-2-2-2zM9 17H7v-7h2v7zm4 0h-2V7h2v10zm4 0h-2v-4h2v4z\"/>\n",
              "    </g>\n",
              "</svg>\n",
              "  </button>\n",
              "\n",
              "<style>\n",
              "  .colab-df-quickchart {\n",
              "      --bg-color: #E8F0FE;\n",
              "      --fill-color: #1967D2;\n",
              "      --hover-bg-color: #E2EBFA;\n",
              "      --hover-fill-color: #174EA6;\n",
              "      --disabled-fill-color: #AAA;\n",
              "      --disabled-bg-color: #DDD;\n",
              "  }\n",
              "\n",
              "  [theme=dark] .colab-df-quickchart {\n",
              "      --bg-color: #3B4455;\n",
              "      --fill-color: #D2E3FC;\n",
              "      --hover-bg-color: #434B5C;\n",
              "      --hover-fill-color: #FFFFFF;\n",
              "      --disabled-bg-color: #3B4455;\n",
              "      --disabled-fill-color: #666;\n",
              "  }\n",
              "\n",
              "  .colab-df-quickchart {\n",
              "    background-color: var(--bg-color);\n",
              "    border: none;\n",
              "    border-radius: 50%;\n",
              "    cursor: pointer;\n",
              "    display: none;\n",
              "    fill: var(--fill-color);\n",
              "    height: 32px;\n",
              "    padding: 0;\n",
              "    width: 32px;\n",
              "  }\n",
              "\n",
              "  .colab-df-quickchart:hover {\n",
              "    background-color: var(--hover-bg-color);\n",
              "    box-shadow: 0 1px 2px rgba(60, 64, 67, 0.3), 0 1px 3px 1px rgba(60, 64, 67, 0.15);\n",
              "    fill: var(--button-hover-fill-color);\n",
              "  }\n",
              "\n",
              "  .colab-df-quickchart-complete:disabled,\n",
              "  .colab-df-quickchart-complete:disabled:hover {\n",
              "    background-color: var(--disabled-bg-color);\n",
              "    fill: var(--disabled-fill-color);\n",
              "    box-shadow: none;\n",
              "  }\n",
              "\n",
              "  .colab-df-spinner {\n",
              "    border: 2px solid var(--fill-color);\n",
              "    border-color: transparent;\n",
              "    border-bottom-color: var(--fill-color);\n",
              "    animation:\n",
              "      spin 1s steps(1) infinite;\n",
              "  }\n",
              "\n",
              "  @keyframes spin {\n",
              "    0% {\n",
              "      border-color: transparent;\n",
              "      border-bottom-color: var(--fill-color);\n",
              "      border-left-color: var(--fill-color);\n",
              "    }\n",
              "    20% {\n",
              "      border-color: transparent;\n",
              "      border-left-color: var(--fill-color);\n",
              "      border-top-color: var(--fill-color);\n",
              "    }\n",
              "    30% {\n",
              "      border-color: transparent;\n",
              "      border-left-color: var(--fill-color);\n",
              "      border-top-color: var(--fill-color);\n",
              "      border-right-color: var(--fill-color);\n",
              "    }\n",
              "    40% {\n",
              "      border-color: transparent;\n",
              "      border-right-color: var(--fill-color);\n",
              "      border-top-color: var(--fill-color);\n",
              "    }\n",
              "    60% {\n",
              "      border-color: transparent;\n",
              "      border-right-color: var(--fill-color);\n",
              "    }\n",
              "    80% {\n",
              "      border-color: transparent;\n",
              "      border-right-color: var(--fill-color);\n",
              "      border-bottom-color: var(--fill-color);\n",
              "    }\n",
              "    90% {\n",
              "      border-color: transparent;\n",
              "      border-bottom-color: var(--fill-color);\n",
              "    }\n",
              "  }\n",
              "</style>\n",
              "\n",
              "  <script>\n",
              "    async function quickchart(key) {\n",
              "      const quickchartButtonEl =\n",
              "        document.querySelector('#' + key + ' button');\n",
              "      quickchartButtonEl.disabled = true;  // To prevent multiple clicks.\n",
              "      quickchartButtonEl.classList.add('colab-df-spinner');\n",
              "      try {\n",
              "        const charts = await google.colab.kernel.invokeFunction(\n",
              "            'suggestCharts', [key], {});\n",
              "      } catch (error) {\n",
              "        console.error('Error during call to suggestCharts:', error);\n",
              "      }\n",
              "      quickchartButtonEl.classList.remove('colab-df-spinner');\n",
              "      quickchartButtonEl.classList.add('colab-df-quickchart-complete');\n",
              "    }\n",
              "    (() => {\n",
              "      let quickchartButtonEl =\n",
              "        document.querySelector('#df-36a91082-e252-4c5e-be22-c3f3fe2df08b button');\n",
              "      quickchartButtonEl.style.display =\n",
              "        google.colab.kernel.accessAllowed ? 'block' : 'none';\n",
              "    })();\n",
              "  </script>\n",
              "</div>\n",
              "    </div>\n",
              "  </div>\n"
            ],
            "application/vnd.google.colaboratory.intrinsic+json": {
              "type": "dataframe",
              "summary": "{\n  \"name\": \"songs_df[songs_df['danceability'] == 0]\",\n  \"rows\": 393,\n  \"fields\": [\n    {\n      \"column\": \"artist_name\",\n      \"properties\": {\n        \"dtype\": \"category\",\n        \"num_unique_values\": 114,\n        \"samples\": [\n          \"Sleep Baby Sleep\",\n          \"Fan Sounds\",\n          \"Deep Sleep Brown Noise\"\n        ],\n        \"semantic_type\": \"\",\n        \"description\": \"\"\n      }\n    },\n    {\n      \"column\": \"track_name\",\n      \"properties\": {\n        \"dtype\": \"category\",\n        \"num_unique_values\": 194,\n        \"samples\": [\n          \"Brownian Delta 200-200.1hz\",\n          \"Blowing Brown Noise\",\n          \"Clean White Noise - Loopable With No Fade\"\n        ],\n        \"semantic_type\": \"\",\n        \"description\": \"\"\n      }\n    },\n    {\n      \"column\": \"acousticness\",\n      \"properties\": {\n        \"dtype\": \"number\",\n        \"std\": 0.37343485741065063,\n        \"min\": 0.0,\n        \"max\": 0.996,\n        \"num_unique_values\": 138,\n        \"samples\": [\n          0.5329999999999999,\n          0.106,\n          0.1669999999999999\n        ],\n        \"semantic_type\": \"\",\n        \"description\": \"\"\n      }\n    },\n    {\n      \"column\": \"danceability\",\n      \"properties\": {\n        \"dtype\": \"number\",\n        \"std\": 0.0,\n        \"min\": 0.0,\n        \"max\": 0.0,\n        \"num_unique_values\": 1,\n        \"samples\": [\n          0.0\n        ],\n        \"semantic_type\": \"\",\n        \"description\": \"\"\n      }\n    },\n    {\n      \"column\": \"energy\",\n      \"properties\": {\n        \"dtype\": \"number\",\n        \"std\": 0.30715023064222685,\n        \"min\": 0.0,\n        \"max\": 1.0,\n        \"num_unique_values\": 125,\n        \"samples\": [\n          0.366\n        ],\n        \"semantic_type\": \"\",\n        \"description\": \"\"\n      }\n    },\n    {\n      \"column\": \"instrumentalness\",\n      \"properties\": {\n        \"dtype\": \"number\",\n        \"std\": 0.3824109479266535,\n        \"min\": 0.0,\n        \"max\": 1.0,\n        \"num_unique_values\": 132,\n        \"samples\": [\n          0.648\n        ],\n        \"semantic_type\": \"\",\n        \"description\": \"\"\n      }\n    },\n    {\n      \"column\": \"key\",\n      \"properties\": {\n        \"dtype\": \"category\",\n        \"num_unique_values\": 12,\n        \"samples\": [\n          \"A\"\n        ],\n        \"semantic_type\": \"\",\n        \"description\": \"\"\n      }\n    },\n    {\n      \"column\": \"liveness\",\n      \"properties\": {\n        \"dtype\": \"number\",\n        \"std\": 0.3189445455134234,\n        \"min\": 0.0,\n        \"max\": 0.971,\n        \"num_unique_values\": 148,\n        \"samples\": [\n          0.324\n        ],\n        \"semantic_type\": \"\",\n        \"description\": \"\"\n      }\n    },\n    {\n      \"column\": \"loudness\",\n      \"properties\": {\n        \"dtype\": \"number\",\n        \"std\": 12.330240623384247,\n        \"min\": -60.0,\n        \"max\": -5.081,\n        \"num_unique_values\": 189,\n        \"samples\": [\n          -20.829\n        ],\n        \"semantic_type\": \"\",\n        \"description\": \"\"\n      }\n    },\n    {\n      \"column\": \"mode\",\n      \"properties\": {\n        \"dtype\": \"number\",\n        \"std\": 0,\n        \"min\": 0,\n        \"max\": 1,\n        \"num_unique_values\": 2,\n        \"samples\": [\n          1\n        ],\n        \"semantic_type\": \"\",\n        \"description\": \"\"\n      }\n    },\n    {\n      \"column\": \"speechiness\",\n      \"properties\": {\n        \"dtype\": \"number\",\n        \"std\": 0.0,\n        \"min\": 0.0,\n        \"max\": 0.0,\n        \"num_unique_values\": 1,\n        \"samples\": [\n          0.0\n        ],\n        \"semantic_type\": \"\",\n        \"description\": \"\"\n      }\n    },\n    {\n      \"column\": \"tempo\",\n      \"properties\": {\n        \"dtype\": \"number\",\n        \"std\": 0.0,\n        \"min\": 0.0,\n        \"max\": 0.0,\n        \"num_unique_values\": 1,\n        \"samples\": [\n          0.0\n        ],\n        \"semantic_type\": \"\",\n        \"description\": \"\"\n      }\n    },\n    {\n      \"column\": \"valence\",\n      \"properties\": {\n        \"dtype\": \"number\",\n        \"std\": 0.0,\n        \"min\": 0.0,\n        \"max\": 0.0,\n        \"num_unique_values\": 1,\n        \"samples\": [\n          0.0\n        ],\n        \"semantic_type\": \"\",\n        \"description\": \"\"\n      }\n    },\n    {\n      \"column\": \"popularity\",\n      \"properties\": {\n        \"dtype\": \"number\",\n        \"std\": 15,\n        \"min\": 0,\n        \"max\": 70,\n        \"num_unique_values\": 60,\n        \"samples\": [\n          9\n        ],\n        \"semantic_type\": \"\",\n        \"description\": \"\"\n      }\n    },\n    {\n      \"column\": \"duration_s\",\n      \"properties\": {\n        \"dtype\": \"number\",\n        \"std\": 74.23846086963279,\n        \"min\": 26.481,\n        \"max\": 515.842,\n        \"num_unique_values\": 177,\n        \"samples\": [\n          159.44400000000002\n        ],\n        \"semantic_type\": \"\",\n        \"description\": \"\"\n      }\n    }\n  ]\n}"
            }
          },
          "metadata": {},
          "execution_count": 38
        }
      ],
      "source": [
        "# Songs with danceability of 0.0\n",
        "songs_df[songs_df['danceability'] == 0]"
      ]
    },
    {
      "cell_type": "code",
      "execution_count": null,
      "metadata": {
        "id": "T8diWIg81Irs"
      },
      "outputs": [],
      "source": [
        "# Remove outlier rows\n",
        "\n",
        "songs_df = songs_df[~((songs_df['danceability'] == 0) & (songs_df['track_name'].str.contains('Noise')))]\n",
        "songs_df = songs_df[~((songs_df['danceability'] == 0) & (songs_df['track_name'].str.contains('Rain')))]"
      ]
    },
    {
      "cell_type": "markdown",
      "metadata": {
        "id": "fHdUvSw6rFUG"
      },
      "source": [
        "Finally, we want to examine the distribution of `popularity`, to check for any imbalance/skewness."
      ]
    },
    {
      "cell_type": "code",
      "execution_count": null,
      "metadata": {
        "colab": {
          "base_uri": "https://localhost:8080/",
          "height": 472
        },
        "id": "7LILfJdXrWJ8",
        "outputId": "04eb0fdb-2d32-44cc-d33c-d64db7ca7b6d"
      },
      "outputs": [
        {
          "output_type": "display_data",
          "data": {
            "text/plain": [
              "<Figure size 640x480 with 1 Axes>"
            ],
            "image/png": "[encoded data removed]"
          },
          "metadata": {}
        }
      ],
      "source": [
        "# Get value counts of 'popularity'\n",
        "popularity_counts = songs_df['popularity'].value_counts()\n",
        "# Create bar plot + label axes\n",
        "plt.bar(x=popularity_counts.index, height=popularity_counts, color=['mediumseagreen'], alpha=0.8)\n",
        "plt.title('Distribution of Popularity Values')\n",
        "plt.xlabel('Popularity')\n",
        "plt.ylabel('Count')\n",
        "\n",
        "plt.show()"
      ]
    },
    {
      "cell_type": "markdown",
      "metadata": {
        "id": "R1sHDo8n3ekv"
      },
      "source": [
        "**Takeway:** The data seem to be slightly right-skewed, with a substantial number of outliers at 0.0. Other than this, however, the distribution does not seem too imbalanced, and we may not need to utilize oversampling/undersampling, although it is something we may consider after observing the performance of our baseline model. The sheer number of songs with popularity values of 0.0 may simply be due to the fact that these songs are not appealing to the majority of Spotify users. However, another likely explanation is that these artists simply do not have the resources to promote their songs; many of these songs may have the potential to become extremely popular and may have audio features similar to more popular songs, but they just never reach a large enough audience to take off. These outliers may impact the performance of our model, and we should consider addressing them in our second round of feature engineering/preprocessing."
      ]
    },
    {
      "cell_type": "markdown",
      "metadata": {
        "id": "WqNgvKaSLtAO"
      },
      "source": [
        "## Identifying Correlated Features"
      ]
    },
    {
      "cell_type": "markdown",
      "metadata": {
        "id": "snIlZGns9ljL"
      },
      "source": [
        "In this section, we investigate relationships between various feature variables that we believe may be correlated. The first pair of variables that are likely correlated are `instrumentalness` and `speechiness`. Based on the definitions of these variables (`instrumentalness` predicts whether a track contains no vocals and `speechiness` detects the presence of spoken words), we assume that they should be inversely proportional, as the more instrumental a track is, the less likely it is that the track contains spoken words."
      ]
    },
    {
      "cell_type": "code",
      "execution_count": null,
      "metadata": {
        "colab": {
          "base_uri": "https://localhost:8080/",
          "height": 490
        },
        "id": "BMIKvSly9l1o",
        "outputId": "2477f68d-8665-497d-ef3d-ee79f39a0387"
      },
      "outputs": [
        {
          "output_type": "stream",
          "name": "stdout",
          "text": [
            "correlation: -0.557935173199033\n"
          ]
        },
        {
          "output_type": "display_data",
          "data": {
            "text/plain": [
              "<Figure size 640x480 with 1 Axes>"
            ],
            "image/png": "[encoded data removed]"
          },
          "metadata": {}
        }
      ],
      "source": [
        "# Calculate mean instrumentalness for each unique value of speechiness\n",
        "speechiness_instrumentalness_mean_query = '''\n",
        "SELECT speechiness, AVG(instrumentalness) AS instrumentalness\n",
        "FROM songs_df\n",
        "GROUP BY speechiness\n",
        "'''\n",
        "speechiness_instrumentalness_mean = ps.sqldf(speechiness_instrumentalness_mean_query, locals())\n",
        "\n",
        "# Create scatter plot + label axes\n",
        "plt.scatter(speechiness_instrumentalness_mean['speechiness'], speechiness_instrumentalness_mean['instrumentalness'], color=['mediumseagreen'], alpha=0.8)\n",
        "plt.title('Relationship Between Speechiness and Mean Instrumentalness')\n",
        "plt.xlabel('Speechiness')\n",
        "plt.ylabel('Mean Instrumentalness')\n",
        "# Compute and print correlation\n",
        "correlation = speechiness_instrumentalness_mean['speechiness'].corr(speechiness_instrumentalness_mean['instrumentalness'])\n",
        "print(\"correlation:\", correlation)\n",
        "\n",
        "plt.show()"
      ]
    },
    {
      "cell_type": "markdown",
      "metadata": {
        "id": "uNgW-WT__BpJ"
      },
      "source": [
        "**Takeaway:** Our assumption that the variables would be inversely correlated was correct, as the computed correlation value was approximately -0.568. However, the strength of this correlation was not as great as we predicted. In the scatterplot, between speechiness values of around 0.0-0.05, instrumentalness seems to rapidly increase with speechiness, then rapidly decreases after that, plateauing at around speechiness = 0.5. As speechiness increases toward values of 0.6-0.8, instrumentalness begins to vary widely. The irregularity of this relationship could be due to the fact that \"ooh and \"aah\" sounds are treated as instrumental when computing instrumentalness, but they are treated as spoken word when computing speechiness."
      ]
    },
    {
      "cell_type": "markdown",
      "metadata": {
        "id": "lBHWaTy2DitS"
      },
      "source": [
        "Another pair of variables that could be correlated is `energy` and `loudness`, as high-energy tracks are described as feeling loud and noisy. Thus, we assume that they should be directly proportional."
      ]
    },
    {
      "cell_type": "code",
      "execution_count": null,
      "metadata": {
        "colab": {
          "base_uri": "https://localhost:8080/",
          "height": 490
        },
        "id": "U9GwASMiEGte",
        "outputId": "99ad9d58-b9c9-4b3a-888f-9c11b36f155d"
      },
      "outputs": [
        {
          "output_type": "stream",
          "name": "stdout",
          "text": [
            "correlation: 0.8701986721015591\n"
          ]
        },
        {
          "output_type": "display_data",
          "data": {
            "text/plain": [
              "<Figure size 640x480 with 1 Axes>"
            ],
            "image/png": "[encoded data removed]"
          },
          "metadata": {}
        }
      ],
      "source": [
        "# Calculate mean loudness for each unique value of energy\n",
        "energy_loudness_mean_query = '''\n",
        "SELECT energy, AVG(loudness) AS loudness\n",
        "FROM songs_df\n",
        "GROUP BY energy\n",
        "'''\n",
        "energy_loudness_mean = ps.sqldf(energy_loudness_mean_query, locals())\n",
        "# Create scatter plot + label axes\n",
        "plt.scatter(energy_loudness_mean['energy'], energy_loudness_mean['loudness'], color=['mediumseagreen'], alpha=0.8)\n",
        "plt.title('Relationship between Energy and Mean Loudness')\n",
        "plt.xlabel('Energy')\n",
        "plt.ylabel('Mean Loudness')\n",
        "# Compute and print correlation\n",
        "correlation = energy_loudness_mean['energy'].corr(energy_loudness_mean['loudness'])\n",
        "print(\"correlation:\", correlation)\n",
        "\n",
        "plt.show()"
      ]
    },
    {
      "cell_type": "markdown",
      "metadata": {
        "id": "zTG-U4suEXr6"
      },
      "source": [
        "**Takeaway:** Our assumption that the variables would be directly proportional was correct, as loudness tends to increase with energy. The rate of increase of loudness does get slower as energy increases, which makes sense because there should be a cap on loudness at some point for the comfort and safety of the listener. In addition, when energy is around 0.0 there is high variation in loudness. This could be due to the fact that low-energy songs may still utilize loudness to create a certain musical effect or elicit an emotional response. The computed correlation value of around 0.870 indicates that the variables are highly correlated."
      ]
    },
    {
      "cell_type": "markdown",
      "metadata": {
        "id": "owesvoiAGYc2"
      },
      "source": [
        "Another pair of variables that could be correlated is `valence` and `tempo`. Songs that we typically think of as upbeat and cheerful tend to be on the faster side, whereas songs that we typically think of as negative or melancholic tend to be on the slower side, so we assume that they should be directly proportional."
      ]
    },
    {
      "cell_type": "code",
      "execution_count": null,
      "metadata": {
        "colab": {
          "base_uri": "https://localhost:8080/",
          "height": 490
        },
        "id": "MHCSAKmbHgLR",
        "outputId": "1e2f4210-c72f-47f0-ebe1-58578261962f"
      },
      "outputs": [
        {
          "output_type": "stream",
          "name": "stdout",
          "text": [
            "correlation: 0.4221041289138906\n"
          ]
        },
        {
          "output_type": "display_data",
          "data": {
            "text/plain": [
              "<Figure size 640x480 with 1 Axes>"
            ],
            "image/png": "[encoded data removed]"
          },
          "metadata": {}
        }
      ],
      "source": [
        "# Calculate mean tempo for each unique value of valence\n",
        "valence_tempo_mean_query = '''\n",
        "SELECT valence, AVG(tempo) AS tempo\n",
        "FROM songs_df\n",
        "GROUP BY valence\n",
        "'''\n",
        "valence_tempo_mean = ps.sqldf(valence_tempo_mean_query, locals())\n",
        "#valence_tempo_mean = songs_df.groupby('valence')['tempo'].mean().reset_index()\n",
        "# Create scatter plot + label axes\n",
        "plt.scatter(valence_tempo_mean['valence'], valence_tempo_mean['tempo'], color=['mediumseagreen'], alpha=0.8)\n",
        "plt.title('Relationship between Valence and Mean Tempo')\n",
        "plt.xlabel('Valence')\n",
        "plt.ylabel('Mean Tempo (BPM)')\n",
        "# Compute and print correlation\n",
        "correlation = valence_tempo_mean['valence'].corr(valence_tempo_mean['tempo'])\n",
        "print(\"correlation:\", correlation)\n",
        "\n",
        "plt.show()"
      ]
    },
    {
      "cell_type": "markdown",
      "metadata": {
        "id": "BoQEJ60pH3vG"
      },
      "source": [
        "**Takeaway:** Our assumption that the variables would be directly proportional does not seem to hold in this case, although we do observe an extremely slight upward trajectory in the data. Most tempo values seem to be centered around 120, regardless of valence. The data align with [MasterClass'](https://www.masterclass.com/articles/how-to-find-the-bpm-of-a-song) claim that \"most of today's popular songs are written in a tempo range of 100 to 140 BPM\" and \"many songwriters consider 120 BPM to be the perfect tempo for crafting a hit.\" We also observe high variation in tempo when valence is around 0.0, which might be explained by the fact that different genres have different tempo ranges and use tempo differently. For example, many classical pieces use fast movements to create intense feelings of tension or unease. The computed correlation value of about 0.428 indicates relatively weak correlation between these variables."
      ]
    },
    {
      "cell_type": "markdown",
      "metadata": {
        "id": "0RR4YE6VK0pF"
      },
      "source": [
        "Our exploration of the relationships between various variables in this dataset indicate that we have some correlated feature variables, which would decrease our model's performance. To remove redundant features, we plan on using Principal Component Analysis (PCA) in our feature engineering and preprocessing step."
      ]
    },
    {
      "cell_type": "markdown",
      "metadata": {
        "id": "tI0eWUSPLifs"
      },
      "source": [
        "## Visualizing Relationships Between Popularity & Various Features"
      ]
    },
    {
      "cell_type": "markdown",
      "metadata": {
        "id": "WDj-MC4cJkJ8"
      },
      "source": [
        "In this section, we look at the correlation between different feature variables and popularity in order to gain a better sense of which features are more or less important in our prediction. The first feature we look at is `danceability`, which, as discussed in the 'Analyzing Data Structure' section, we believe will be positively correlated with popularity."
      ]
    },
    {
      "cell_type": "code",
      "execution_count": null,
      "metadata": {
        "colab": {
          "base_uri": "https://localhost:8080/",
          "height": 490
        },
        "id": "zRv4oxRcJj7P",
        "outputId": "1da61a9e-11ee-46fe-a005-cfcb55ebbd48"
      },
      "outputs": [
        {
          "output_type": "stream",
          "name": "stdout",
          "text": [
            "correlation: 0.9565863398356461\n"
          ]
        },
        {
          "output_type": "display_data",
          "data": {
            "text/plain": [
              "<Figure size 640x480 with 1 Axes>"
            ],
            "image/png": "[encoded data removed]"
          },
          "metadata": {}
        }
      ],
      "source": [
        "# Calculate mean danceability for each unique value of popularity\n",
        "popularity_danceability_mean_query = '''\n",
        "SELECT popularity, AVG(danceability) AS danceability\n",
        "FROM songs_df\n",
        "GROUP BY popularity\n",
        "'''\n",
        "popularity_danceability_mean = ps.sqldf(popularity_danceability_mean_query, locals())\n",
        "# Create scatterplot + label axes\n",
        "plt.scatter(popularity_danceability_mean['danceability'], popularity_danceability_mean['popularity'], color='mediumseagreen', alpha=0.8)\n",
        "plt.ylabel('Popularity')\n",
        "plt.xlabel('Mean Danceability')\n",
        "plt.title('Relationship Between Popularity and Mean Danceability')\n",
        "# Compute and print correlation\n",
        "correlation = popularity_danceability_mean['popularity'].corr(popularity_danceability_mean['danceability'])\n",
        "print(\"correlation:\", correlation)\n",
        "\n",
        "plt.show()"
      ]
    },
    {
      "cell_type": "markdown",
      "metadata": {
        "id": "NLl41WgYQHUr"
      },
      "source": [
        "**Takeaway:** Danceablility seems to have an extremely strong positive correlation with popularity, given the correlation value and the linear trend in the scatterplot. This means that songs with higher danceability scores are more likely to have higher popularity scores. As discussed before, this might be because highly danceable songs are more likely to be played at social events, bars, and clubs, as well as more likely to go viral on Tiktok and other social media sites. Given the magnitude of the correlation value, danceability is likely an important feature variable."
      ]
    },
    {
      "cell_type": "markdown",
      "metadata": {
        "id": "WFX4QhDyQJMs"
      },
      "source": [
        "Another feature variable we are interested in is `energy`, which we believe could be positively correlated with popularity, as high-energy songs tend to be more catchy."
      ]
    },
    {
      "cell_type": "code",
      "execution_count": null,
      "metadata": {
        "colab": {
          "base_uri": "https://localhost:8080/",
          "height": 490
        },
        "id": "9Aou5c8h4zn5",
        "outputId": "4edb07ea-3b79-4024-c14b-bfa967982b67"
      },
      "outputs": [
        {
          "output_type": "stream",
          "name": "stdout",
          "text": [
            "correlation: 0.6827277905673813\n"
          ]
        },
        {
          "output_type": "display_data",
          "data": {
            "text/plain": [
              "<Figure size 640x480 with 1 Axes>"
            ],
            "image/png": "[encoded data removed]"
          },
          "metadata": {}
        }
      ],
      "source": [
        "# Calculate mean energy for each unique value of popularity\n",
        "popularity_energy_mean_query = '''\n",
        "SELECT popularity, AVG(energy) AS energy\n",
        "FROM songs_df\n",
        "GROUP BY popularity\n",
        "'''\n",
        "popularity_energy_mean = ps.sqldf(popularity_energy_mean_query, locals())\n",
        "# Create scatterplot + label axes\n",
        "plt.scatter(popularity_energy_mean['energy'], popularity_energy_mean['popularity'], color='mediumseagreen', alpha=0.8)\n",
        "plt.ylabel('Popularity')\n",
        "plt.xlabel('Mean Energy')\n",
        "plt.title('Relationship Between Popularity and Mean Energy')\n",
        "# Compute and print correlation\n",
        "correlation = popularity_energy_mean['popularity'].corr(popularity_energy_mean['energy'])\n",
        "print(\"correlation:\", correlation)\n",
        "\n",
        "plt.show()"
      ]
    },
    {
      "cell_type": "markdown",
      "metadata": {
        "id": "u8tlRKkTRHjH"
      },
      "source": [
        "**Takeaway:** Energy has a moderately strong positive correlation with popularity, given the correlation value and the shape of the data in the scatterplot. In the scatterplot, popularity increases with mean energy until about mean energy = 0.60, at which point it seems to stop increasing (excluding two outliers), indicating that the most high-energy songs are capped at values of around 0.60 to 0.65. The scatterplot also implies that most popular songs have \"maximum\" energy, but not all songs with \"maximum\" energy have high popularity. While energy is somewhat predictive of popularity, it may not be one of the most important feature variables, given the magnitude of the correlation value."
      ]
    },
    {
      "cell_type": "markdown",
      "metadata": {
        "id": "WnU27DbzRJLQ"
      },
      "source": [
        "Another feature variable we want to investigate is `acousticness`. We haven't noticed many popular songs that are fully acoustic, so we assume that it is negatively correlated with popularity."
      ]
    },
    {
      "cell_type": "code",
      "execution_count": null,
      "metadata": {
        "colab": {
          "base_uri": "https://localhost:8080/",
          "height": 490
        },
        "id": "DnRaCHzg65V1",
        "outputId": "b95545bc-fb33-4baf-a451-0ae86cc31242"
      },
      "outputs": [
        {
          "output_type": "stream",
          "name": "stdout",
          "text": [
            "correlation: -0.8114497132459408\n"
          ]
        },
        {
          "output_type": "display_data",
          "data": {
            "text/plain": [
              "<Figure size 640x480 with 1 Axes>"
            ],
            "image/png": "[encoded data removed]"
          },
          "metadata": {}
        }
      ],
      "source": [
        "# Calculate mean acousticness for each unique value of popularity\n",
        "popularity_acousticness_mean_query = '''\n",
        "SELECT popularity, AVG(acousticness) AS acousticness\n",
        "FROM songs_df\n",
        "GROUP BY popularity\n",
        "'''\n",
        "popularity_acousticness_mean =  ps.sqldf(popularity_acousticness_mean_query, locals())\n",
        "# Create scatterplot + label axes\n",
        "plt.scatter(popularity_acousticness_mean['acousticness'], popularity_acousticness_mean['popularity'], color='mediumseagreen', alpha=0.8)\n",
        "plt.ylabel('Popularity')\n",
        "plt.xlabel('Mean Acousticness')\n",
        "plt.title('Relationship Between Popularity and Mean Acousticness')\n",
        "# Compute and print correlation\n",
        "correlation = popularity_acousticness_mean['popularity'].corr(popularity_acousticness_mean['acousticness'])\n",
        "print(\"correlation:\", correlation)"
      ]
    },
    {
      "cell_type": "markdown",
      "metadata": {
        "id": "8OPjx3y0e5Fy"
      },
      "source": [
        "**Takeaway:** Acousticness has a reliably strong negative correlation with popularity, given the correlation value and the negative trend in the scatterplot. This means that songs with lower acousticness scores are more likely to have higher popularity scores. Aside from one outlier, highly popular songs seem to have mean acousticness values between 0.15 and 0.35, which may be something for songwriters and producers to consider. Given the magnitude of the correlation value, acousticness may be one of the more important feature variables."
      ]
    },
    {
      "cell_type": "markdown",
      "metadata": {
        "id": "TeNHdl5rbnRG"
      },
      "source": [
        "Another feature variable to investigate is how many songs an artist has (in this dataset). We first create the column `artist_num_songs`, then visualize its relationship with popularity."
      ]
    },
    {
      "cell_type": "code",
      "execution_count": null,
      "metadata": {
        "id": "AxGuThLc5q09"
      },
      "outputs": [],
      "source": [
        "# Compute column 'artist_num_songs' that contains the total number of songs (in this dataset) by the artist of the song\n",
        "artist_counts_query = '''\n",
        "WITH artist_counts AS (\n",
        "    SELECT artist_name, COUNT(*) AS artist_num_songs\n",
        "    FROM songs_df\n",
        "    GROUP BY artist_name\n",
        ")\n",
        "SELECT songs_df.*, artist_counts.artist_num_songs\n",
        "FROM songs_df\n",
        "LEFT JOIN artist_counts ON songs_df.artist_name = artist_counts.artist_name\n",
        "'''\n",
        "songs_df = ps.sqldf(artist_counts_query, locals())\n"
      ]
    },
    {
      "cell_type": "code",
      "execution_count": null,
      "metadata": {
        "colab": {
          "base_uri": "https://localhost:8080/",
          "height": 490
        },
        "id": "y76yobB13abK",
        "outputId": "6e308458-c3a5-41b7-bdcf-38ec289cecfd"
      },
      "outputs": [
        {
          "output_type": "stream",
          "name": "stdout",
          "text": [
            "correlation: -0.7205192047048716\n"
          ]
        },
        {
          "output_type": "display_data",
          "data": {
            "text/plain": [
              "<Figure size 640x480 with 1 Axes>"
            ],
            "image/png": "[encoded data removed]"
          },
          "metadata": {}
        }
      ],
      "source": [
        "# Calculate mean artist_num_songs value for each unique value of popularity\n",
        "popularity_num_songs_mean_query = '''\n",
        "SELECT popularity, AVG(artist_num_songs) AS artist_num_songs\n",
        "FROM songs_df\n",
        "GROUP BY popularity\n",
        "'''\n",
        "popularity_num_songs_mean = ps.sqldf(popularity_num_songs_mean_query, locals())\n",
        "# Create scatterplot + label axes\n",
        "plt.scatter(popularity_num_songs_mean['artist_num_songs'], popularity_num_songs_mean['popularity'], color='mediumseagreen', alpha=0.8)\n",
        "plt.ylabel('Popularity')\n",
        "plt.xlabel('Mean Number of Songs By Artist')\n",
        "plt.title('Relationship Between Popularity and Mean Number of Songs By Artist')\n",
        "# Compute and print correlation\n",
        "correlation = popularity_num_songs_mean['popularity'].corr(popularity_num_songs_mean['artist_num_songs'])\n",
        "print(\"correlation:\", correlation)"
      ]
    },
    {
      "cell_type": "markdown",
      "metadata": {
        "id": "Xl2FFLUp4rMJ"
      },
      "source": [
        "**Takeaway:** The total number of songs (in this dataset) by the artist of a song has a moderately strong negative corelation with the popularity of that song. The most popular songs seem to be sung by artists that have around 50 total songs in this dataset, although not all songs by such artists have high popularity values. Popularity only decreases as the number of songs by the artist increases. This trend could be due to the fact that artists with higher numbers of songs are probably older, with classical musician Johann Sebastian Bach having the highest number of songs; while his music is extremely impactful, it might not be the most popular with the average Spotify user. Given the magnitude of the correlation value, `artist_num_songs` may be a relatively important feature variable."
      ]
    },
    {
      "cell_type": "markdown",
      "metadata": {
        "id": "VfYjJww0NJUt"
      },
      "source": [
        "# Feature Engineering & Data Preprocessing"
      ]
    },
    {
      "cell_type": "markdown",
      "metadata": {
        "id": "vnP823tQvIAB"
      },
      "source": [
        "Before beginning, we create a new dataframe `songs_input` to be the input to our model, dropping `artist_name` and `track_name` since we are only interested in predicting popularity based on audio features."
      ]
    },
    {
      "cell_type": "code",
      "execution_count": null,
      "metadata": {
        "id": "0PFd5MtDvHMM"
      },
      "outputs": [],
      "source": [
        "# Create input dataframe\n",
        "songs_input = songs_df.drop(columns={'artist_name', 'track_name'})"
      ]
    },
    {
      "cell_type": "markdown",
      "metadata": {
        "id": "CrLCVSdnhhtR"
      },
      "source": [
        "## Encoding Categorical Features"
      ]
    },
    {
      "cell_type": "markdown",
      "metadata": {
        "id": "WgfwQt-fqnTM"
      },
      "source": [
        "We apply One-Hot Encoding to `key` because converting the data to numeric form will improve model performance."
      ]
    },
    {
      "cell_type": "code",
      "execution_count": null,
      "metadata": {
        "id": "nIsbNm9QhsK1"
      },
      "outputs": [],
      "source": [
        "# One-hot encode 'key' column\n",
        "songs_input = pd.get_dummies(songs_input, columns=['key'], dtype=int)"
      ]
    },
    {
      "cell_type": "markdown",
      "metadata": {
        "id": "9I_0s2n-hF7r"
      },
      "source": [
        "## Create Training & Test Data"
      ]
    },
    {
      "cell_type": "markdown",
      "metadata": {
        "id": "ZcEEg3UHuSbF"
      },
      "source": [
        "In this step, we split our data into training data and test data using an 80/20 split. For reproducibility, we fix randomness by setting our seed equal to 12345."
      ]
    },
    {
      "cell_type": "code",
      "execution_count": null,
      "metadata": {
        "id": "mg9SdCl6iatE"
      },
      "outputs": [],
      "source": [
        "# Split the data into training and testing sets with seed = 12345\n",
        "seed = 12345;\n",
        "X_train, X_test, y_train, y_test = train_test_split(songs_input.drop(columns=['popularity']), songs_input['popularity'], test_size=0.2,\n",
        "                                                    random_state=seed, shuffle=True)"
      ]
    },
    {
      "cell_type": "markdown",
      "metadata": {
        "id": "JLpkXMwnhDWl"
      },
      "source": [
        "## Scaling Numeric Features"
      ]
    },
    {
      "cell_type": "markdown",
      "metadata": {
        "id": "Clq-os9b0-3-"
      },
      "source": [
        "We apply standardization to our training and testing data to scale our numerical features. In addition to potentially helping our regression model learn and converge faster, we must standardize the data because we plan on applying PCA, which is not scale-invariant."
      ]
    },
    {
      "cell_type": "code",
      "execution_count": null,
      "metadata": {
        "id": "hGeYNPJnhFop"
      },
      "outputs": [],
      "source": [
        "# Initialize scaler\n",
        "scaler = StandardScaler()\n",
        "# Fit and transform on training set\n",
        "X_train_scaled = scaler.fit_transform(X_train)\n",
        "# Transform on test set\n",
        "X_test_scaled = scaler.transform(X_test)"
      ]
    },
    {
      "cell_type": "markdown",
      "metadata": {
        "id": "IQGFXyADwzTQ"
      },
      "source": [
        "## Removing Correlated Features (PCA)"
      ]
    },
    {
      "cell_type": "markdown",
      "metadata": {
        "id": "DNj9lUMI_G0k"
      },
      "source": [
        "We now use PCA to remove correlated features from our dataset, first fitting the PCA to the training data."
      ]
    },
    {
      "cell_type": "code",
      "execution_count": null,
      "metadata": {
        "id": "PjqP9zZnw97Y"
      },
      "outputs": [],
      "source": [
        "# Instantiate and fit PCA\n",
        "pca = PCA()\n",
        "X2 = pca.fit(X_train_scaled)"
      ]
    },
    {
      "cell_type": "markdown",
      "metadata": {
        "id": "LRokPkhE_lAn"
      },
      "source": [
        "Following the steps taken in the Recitation 7 notebook, we now use Cumulative Explained Variance Ratios to determine how many vectors to eliminate."
      ]
    },
    {
      "cell_type": "code",
      "execution_count": null,
      "metadata": {
        "id": "Yjq5q3Kr_5A1"
      },
      "outputs": [],
      "source": [
        "# Save explained variance ratios\n",
        "explained_variance_ratios = pca.explained_variance_ratio_\n",
        "\n",
        "# Save cumulative explained variance ratios\n",
        "cum_evr = np.cumsum(explained_variance_ratios)"
      ]
    },
    {
      "cell_type": "code",
      "execution_count": null,
      "metadata": {
        "colab": {
          "base_uri": "https://localhost:8080/",
          "height": 472
        },
        "id": "Vg4cNoyPASKb",
        "outputId": "b7a7cb32-b230-4865-e318-3db09974a9c3"
      },
      "outputs": [
        {
          "output_type": "display_data",
          "data": {
            "text/plain": [
              "<Figure size 640x480 with 1 Axes>"
            ],
            "image/png": "[encoded data removed]"
          },
          "metadata": {}
        }
      ],
      "source": [
        "# Find optimal number of components by plotting explained variance ratio vs number of components\n",
        "x_ticks = np.arange(len(cum_evr)) + 1\n",
        "plt.plot(size=[8, 6])\n",
        "sns.lineplot(x = x_ticks, y = cum_evr)\n",
        "sns.lineplot(x = x_ticks, y = 0.8 * np.ones(len(cum_evr)))\n",
        "plt.xlabel('Number of Components')\n",
        "plt.ylabel('Cumulative Explained Variance')\n",
        "plt.title('Cumulative Explained Variance vs. Number of Components')\n",
        "plt.grid()\n",
        "\n",
        "plt.show()"
      ]
    },
    {
      "cell_type": "markdown",
      "metadata": {
        "id": "RIxjIo5IBID4"
      },
      "source": [
        "From the plot, we have determined that the optimal number of components is 15. We now apply the PCA to the train and test data, specifying the number of components to keep."
      ]
    },
    {
      "cell_type": "code",
      "execution_count": null,
      "metadata": {
        "id": "EywdYJ2jBfmH"
      },
      "outputs": [],
      "source": [
        "# Fit and transform on training data with n_components = 15\n",
        "pca = PCA(n_components = 15)\n",
        "X_train_pca = pca.fit_transform(X_train_scaled)\n",
        "\n",
        "# Transform on testing data\n",
        "X_test_pca = pca.transform(X_test_scaled)"
      ]
    },
    {
      "cell_type": "markdown",
      "metadata": {
        "id": "EqKQ2mlVHeq_"
      },
      "source": [
        "# Modeling"
      ]
    },
    {
      "cell_type": "markdown",
      "metadata": {
        "id": "Kp3Z28BsHhtw"
      },
      "source": [
        "Now that we have our encoded, standardized, and independent input data, we can use it to train a linear regression model. Linear regression felt like a good place to start because we want to predict popularity, which is a continuous variable."
      ]
    },
    {
      "cell_type": "code",
      "execution_count": null,
      "metadata": {
        "id": "g3PYFAuWHiOU"
      },
      "outputs": [],
      "source": [
        "# Fit linear regression model on PCA-transformed training data\n",
        "lr = LinearRegression()\n",
        "lr.fit(X_train_pca, y_train)\n",
        "\n",
        "# Predict on transformed test data using linear regression model\n",
        "y_pred_lr = lr.predict(X_test_pca)"
      ]
    },
    {
      "cell_type": "code",
      "execution_count": null,
      "metadata": {
        "colab": {
          "base_uri": "https://localhost:8080/"
        },
        "id": "bJGhLQR_vo6M",
        "outputId": "72c43a53-fc86-4805-cc33-96efc5eca69d"
      },
      "outputs": [
        {
          "output_type": "stream",
          "name": "stdout",
          "text": [
            "Test Set R^2 value: 0.05916711182576018\n",
            "Training Set R^2 value: 0.05787028681260242\n",
            "Mean Squared Error: 329.33401667252474\n"
          ]
        }
      ],
      "source": [
        "# R^2 value calculations\n",
        "lin_reg_score_test = lr.score(X_test_pca, y_test)\n",
        "lin_reg_score_train = lr.score(X_train_pca, y_train)\n",
        "\n",
        "# Evaluate the model using MSE\n",
        "mse = mean_squared_error(y_test, y_pred_lr)\n",
        "\n",
        "print('Test Set R^2 value: ' + str(lin_reg_score_test))\n",
        "print('Training Set R^2 value: ' + str(lin_reg_score_train))\n",
        "print('Mean Squared Error: ' + str(mse))"
      ]
    },
    {
      "cell_type": "markdown",
      "metadata": {
        "id": "u6LlsfJS4fIU"
      },
      "source": [
        "The R^2 values for our test set (\\~0.0592) and our training set (\\~0.0579) are similarly low, and this along with our mean squared error of \\~329.33 suggests potential underfitting. We trained three more linear regression models, varying aspects of our input data:"
      ]
    },
    {
      "cell_type": "markdown",
      "metadata": {
        "id": "KUtV0P7y1y6A"
      },
      "source": [
        "**Linear regression using scaled instead of PCA-transformed data:** \\\\\n",
        "Test Set R^2 value: 0.08990883760973856 \\\\\n",
        "Training Set R^2 value: 0.08877878331943856 \\\\\n",
        "Mean Squared Error: 318.57302377023586\n",
        "\n",
        "**Linear regression using PCA-transformed data without songs with** `popularity` **= 0** \\\\\n",
        "Test Set R^2 value: 0.07137533823290931 \\\\\n",
        "Training Set R^2 value: 0.07268862126031994 \\\\\n",
        "Mean Squared Error: 293.4206042745648"
      ]
    },
    {
      "cell_type": "markdown",
      "metadata": {
        "id": "GgLE5TYj8zva"
      },
      "source": [
        "Both of these models performed marginally better. The improved performance of the first additional model indicates that we might be losing important information when applying PCA to our data; we could instead consider using Random Forest feature selection on our original dataset to determine the most important features for our prediction, then use Random Forest Regression, since its performance is not affected by multicollinearity. The improved performance of the second additional model suggests that the outlier songs with 0 popularity are impacting the performance of our model, as we predicted; we could address this simply by removing all songs with popularity 0."
      ]
    },
    {
      "cell_type": "markdown",
      "metadata": {
        "id": "usxNM39ncb7u"
      },
      "source": [
        "# Feature Engineering & Data Preprocessing (Pt. 2)"
      ]
    },
    {
      "cell_type": "markdown",
      "metadata": {
        "id": "C89b8BVjjNhe"
      },
      "source": [
        "We first remove all songs with popularity 0 from our input dataframe."
      ]
    },
    {
      "cell_type": "code",
      "execution_count": null,
      "metadata": {
        "id": "R41XUBOOjNDR"
      },
      "outputs": [],
      "source": [
        "# Drop all songs with popularity = 0\n",
        "songs_input = songs_input[songs_input['popularity'] != 0]"
      ]
    },
    {
      "cell_type": "markdown",
      "metadata": {
        "id": "fXwOMFq-SzyL"
      },
      "source": [
        "## Create Training & Test Data"
      ]
    },
    {
      "cell_type": "markdown",
      "metadata": {
        "id": "5dSYggIqS-op"
      },
      "source": [
        "In this step, we split our new data (with only songs with popularity != 0) into training data and test data using an 80/20 split. For reproducibility, we fix randomness by setting our seed equal to 12345."
      ]
    },
    {
      "cell_type": "code",
      "execution_count": null,
      "metadata": {
        "id": "H8IQGs5iS1i5"
      },
      "outputs": [],
      "source": [
        "# Split the data into training and testing sets with seed = 12345\n",
        "seed = 12345;\n",
        "X_train, X_test, y_train, y_test = train_test_split(songs_input.drop(columns=['popularity']), songs_input['popularity'], test_size=0.2,\n",
        "                                                    random_state=seed, shuffle=True)"
      ]
    },
    {
      "cell_type": "markdown",
      "metadata": {
        "id": "ZKHc5Y1MqZmo"
      },
      "source": [
        "## Random Forest Feature Selection"
      ]
    },
    {
      "cell_type": "markdown",
      "metadata": {
        "id": "gJVF18rGqcQV"
      },
      "source": [
        "Since our approach using PCA was not particularly successful and lacked explainability, in this step we use Random Forest Feature Selection to identify and keep only the most important features, reducing the dimensionality of our data. Since Random Forest is scale-invariant, we choose not to scale our data. For reproducibility, we fix randomness by setting our seed equal to 12345."
      ]
    },
    {
      "cell_type": "code",
      "execution_count": null,
      "metadata": {
        "colab": {
          "base_uri": "https://localhost:8080/",
          "height": 75
        },
        "id": "0zws0FWe7jmp",
        "outputId": "c9ef2da7-bac5-4fa6-fec0-cbe8eb2ef15c"
      },
      "outputs": [
        {
          "output_type": "execute_result",
          "data": {
            "text/plain": [
              "RandomForestRegressor(max_depth=9, n_estimators=200, random_state=12345)"
            ],
            "text/html": [
              "<style>#sk-container-id-1 {color: black;background-color: white;}#sk-container-id-1 pre{padding: 0;}#sk-container-id-1 div.sk-toggleable {background-color: white;}#sk-container-id-1 label.sk-toggleable__label {cursor: pointer;display: block;width: 100%;margin-bottom: 0;padding: 0.3em;box-sizing: border-box;text-align: center;}#sk-container-id-1 label.sk-toggleable__label-arrow:before {content: \"▸\";float: left;margin-right: 0.25em;color: #696969;}#sk-container-id-1 label.sk-toggleable__label-arrow:hover:before {color: black;}#sk-container-id-1 div.sk-estimator:hover label.sk-toggleable__label-arrow:before {color: black;}#sk-container-id-1 div.sk-toggleable__content {max-height: 0;max-width: 0;overflow: hidden;text-align: left;background-color: #f0f8ff;}#sk-container-id-1 div.sk-toggleable__content pre {margin: 0.2em;color: black;border-radius: 0.25em;background-color: #f0f8ff;}#sk-container-id-1 input.sk-toggleable__control:checked~div.sk-toggleable__content {max-height: 200px;max-width: 100%;overflow: auto;}#sk-container-id-1 input.sk-toggleable__control:checked~label.sk-toggleable__label-arrow:before {content: \"▾\";}#sk-container-id-1 div.sk-estimator input.sk-toggleable__control:checked~label.sk-toggleable__label {background-color: #d4ebff;}#sk-container-id-1 div.sk-label input.sk-toggleable__control:checked~label.sk-toggleable__label {background-color: #d4ebff;}#sk-container-id-1 input.sk-hidden--visually {border: 0;clip: rect(1px 1px 1px 1px);clip: rect(1px, 1px, 1px, 1px);height: 1px;margin: -1px;overflow: hidden;padding: 0;position: absolute;width: 1px;}#sk-container-id-1 div.sk-estimator {font-family: monospace;background-color: #f0f8ff;border: 1px dotted black;border-radius: 0.25em;box-sizing: border-box;margin-bottom: 0.5em;}#sk-container-id-1 div.sk-estimator:hover {background-color: #d4ebff;}#sk-container-id-1 div.sk-parallel-item::after {content: \"\";width: 100%;border-bottom: 1px solid gray;flex-grow: 1;}#sk-container-id-1 div.sk-label:hover label.sk-toggleable__label {background-color: #d4ebff;}#sk-container-id-1 div.sk-serial::before {content: \"\";position: absolute;border-left: 1px solid gray;box-sizing: border-box;top: 0;bottom: 0;left: 50%;z-index: 0;}#sk-container-id-1 div.sk-serial {display: flex;flex-direction: column;align-items: center;background-color: white;padding-right: 0.2em;padding-left: 0.2em;position: relative;}#sk-container-id-1 div.sk-item {position: relative;z-index: 1;}#sk-container-id-1 div.sk-parallel {display: flex;align-items: stretch;justify-content: center;background-color: white;position: relative;}#sk-container-id-1 div.sk-item::before, #sk-container-id-1 div.sk-parallel-item::before {content: \"\";position: absolute;border-left: 1px solid gray;box-sizing: border-box;top: 0;bottom: 0;left: 50%;z-index: -1;}#sk-container-id-1 div.sk-parallel-item {display: flex;flex-direction: column;z-index: 1;position: relative;background-color: white;}#sk-container-id-1 div.sk-parallel-item:first-child::after {align-self: flex-end;width: 50%;}#sk-container-id-1 div.sk-parallel-item:last-child::after {align-self: flex-start;width: 50%;}#sk-container-id-1 div.sk-parallel-item:only-child::after {width: 0;}#sk-container-id-1 div.sk-dashed-wrapped {border: 1px dashed gray;margin: 0 0.4em 0.5em 0.4em;box-sizing: border-box;padding-bottom: 0.4em;background-color: white;}#sk-container-id-1 div.sk-label label {font-family: monospace;font-weight: bold;display: inline-block;line-height: 1.2em;}#sk-container-id-1 div.sk-label-container {text-align: center;}#sk-container-id-1 div.sk-container {/* jupyter's `normalize.less` sets `[hidden] { display: none; }` but bootstrap.min.css set `[hidden] { display: none !important; }` so we also need the `!important` here to be able to override the default hidden behavior on the sphinx rendered scikit-learn.org. See: https://github.com/scikit-learn/scikit-learn/issues/21755 */display: inline-block !important;position: relative;}#sk-container-id-1 div.sk-text-repr-fallback {display: none;}</style><div id=\"sk-container-id-1\" class=\"sk-top-container\"><div class=\"sk-text-repr-fallback\"><pre>RandomForestRegressor(max_depth=9, n_estimators=200, random_state=12345)</pre><b>In a Jupyter environment, please rerun this cell to show the HTML representation or trust the notebook. <br />On GitHub, the HTML representation is unable to render, please try loading this page with nbviewer.org.</b></div><div class=\"sk-container\" hidden><div class=\"sk-item\"><div class=\"sk-estimator sk-toggleable\"><input class=\"sk-toggleable__control sk-hidden--visually\" id=\"sk-estimator-id-1\" type=\"checkbox\" checked><label for=\"sk-estimator-id-1\" class=\"sk-toggleable__label sk-toggleable__label-arrow\">RandomForestRegressor</label><div class=\"sk-toggleable__content\"><pre>RandomForestRegressor(max_depth=9, n_estimators=200, random_state=12345)</pre></div></div></div></div></div>"
            ]
          },
          "metadata": {},
          "execution_count": 65
        }
      ],
      "source": [
        "# Fit Random Forest Regression model on training data\n",
        "rf = RandomForestRegressor(n_estimators=200, max_depth=9, random_state=12345)\n",
        "rf.fit(X_train, y_train)"
      ]
    },
    {
      "cell_type": "code",
      "execution_count": null,
      "metadata": {
        "colab": {
          "base_uri": "https://localhost:8080/",
          "height": 449
        },
        "id": "ocM016MV8nCh",
        "outputId": "7a96442c-f0e6-453b-903b-76389d7856e3"
      },
      "outputs": [
        {
          "output_type": "display_data",
          "data": {
            "text/plain": [
              "<Figure size 640x480 with 1 Axes>"
            ],
            "image/png": "[encoded data removed]"
          },
          "metadata": {}
        }
      ],
      "source": [
        "# Create list of tuples (feature name, importance)\n",
        "features = ['acousticness', 'danceability', 'energy', 'instrumentalness', 'liveness', 'loudness', 'mode', 'speechless', 'tempo', 'valence',\n",
        "            'duration_s', 'artist_num_songs', 'key_A', 'key_As/Bf', 'key_B', 'key_C', 'key_Cs/Df', 'key_D', 'key_Ds/Ef', 'key_E', 'key_F',\n",
        "            'key_Fs/Gf', 'key_G', 'key_Gs/Ef']\n",
        "feature_importance = list(zip(features, rf.feature_importances_))\n",
        "feature_importance.sort(key = lambda x : x[1])\n",
        "\n",
        "# Plot feature importances in horizontal bar plot\n",
        "plt.xlabel('Feature Importance')\n",
        "plt.ylabel('Feature')\n",
        "plt.barh([x[0] for x in feature_importance],[x[1] for x in feature_importance], color='mediumseagreen')\n",
        "\n",
        "plt.show()"
      ]
    },
    {
      "cell_type": "markdown",
      "metadata": {
        "id": "V0MJsr1LB3s9"
      },
      "source": [
        "**Takeaway:** From the bar plot, we can see that `artist_num_songs` is the most important feature by a substantial margin, followed by `loudness`, then `instrumentalness`, and `valence`, `danceability`, `energy`, `acousticness`, `duration_s`, `speechiness`, `tempo`, and `liveness`. The least important features are the binary key columns and `mode` (also binary), which we drop."
      ]
    },
    {
      "cell_type": "code",
      "execution_count": null,
      "metadata": {
        "id": "XrpUGG1VJYkG"
      },
      "outputs": [],
      "source": [
        "# Drop least important features from X_train\n",
        "X_train = X_train[['acousticness', 'danceability', 'energy', 'instrumentalness', 'liveness', 'loudness', 'speechiness', 'tempo', 'valence',\n",
        "                   'duration_s', 'artist_num_songs']]\n",
        "# Drop least important features from X_test\n",
        "X_test = X_test[['acousticness', 'danceability', 'energy', 'instrumentalness', 'liveness', 'loudness', 'speechiness', 'tempo', 'valence',\n",
        "                           'duration_s', 'artist_num_songs']]"
      ]
    },
    {
      "cell_type": "markdown",
      "metadata": {
        "id": "tb_6-nWP62Br"
      },
      "source": [
        "# Modeling (Pt. 2)"
      ]
    },
    {
      "cell_type": "markdown",
      "metadata": {
        "id": "3Oauwg_v653x"
      },
      "source": [
        "## Random Forest Regression"
      ]
    },
    {
      "cell_type": "markdown",
      "metadata": {
        "id": "n4ANa2KhN6cX"
      },
      "source": [
        "Now that we have kept only the most important features, we want to train a new model. Since our Linear Regression model seemed to suffer from underfitting, we want a more complex model that is able to capture the underlying patterns and relationships in our data. Decision trees seems suitable for this task, so we decide to use Random Forest Regression, which is built on decision trees."
      ]
    },
    {
      "cell_type": "code",
      "execution_count": null,
      "metadata": {
        "id": "CJZ7WIppPh1z"
      },
      "outputs": [],
      "source": [
        "# Fit Random Forest Regression model on training data\n",
        "rf = RandomForestRegressor(n_estimators=500, max_depth=12, random_state=12345)\n",
        "rf.fit(X_train, y_train)\n",
        "\n",
        "# Predict on train and test data\n",
        "y_pred_rf_train = rf.predict(X_train)\n",
        "y_pred_rf_test = rf.predict(X_test)"
      ]
    },
    {
      "cell_type": "code",
      "execution_count": null,
      "metadata": {
        "colab": {
          "base_uri": "https://localhost:8080/"
        },
        "id": "wi54iMoyCqAP",
        "outputId": "8fc3ca8b-0b30-4e70-c2f1-0c1c66de5f1d"
      },
      "outputs": [
        {
          "output_type": "stream",
          "name": "stdout",
          "text": [
            "Test Set R^2 value: 0.27720486816655876\n",
            "Training Set R^2 value: 0.34387041374245464\n",
            "Mean Squared Error: 228.38396725939506\n"
          ]
        }
      ],
      "source": [
        "# R^2 value calculations\n",
        "rf_train = r2_score(y_train, y_pred_rf_train)\n",
        "rf_test = r2_score(y_test, y_pred_rf_test)\n",
        "\n",
        "# Evaluate the model using MSE\n",
        "mse_rf = mean_squared_error(y_test, y_pred_rf_test)\n",
        "\n",
        "print('Test Set R^2 value: ' + str(rf_test))\n",
        "print('Training Set R^2 value: ' + str(rf_train))\n",
        "print('Mean Squared Error: ' + str(mse_rf))"
      ]
    },
    {
      "cell_type": "markdown",
      "metadata": {
        "id": "MPvvUPluXaMh"
      },
      "source": [
        "The Random Forest Regression model yields a relatively low R^2 value of \\~0.277 for our test set and a relatively high R^2 value of \\~0.344 for our training set. While this is an improvement from the linear regression model, the results now suggest slight overfitting, as our test error is higher than our training error.\n",
        "\n",
        "We also tried running the model with the following parameters:\n",
        "- n_estimators=100 & max_depth=8: yielded test R^2 value of \\~0.21 and training R^2 value of \\~0.22, indicating underfitting\n",
        "- n_estimators=200 & max_depth=9: yielded test R^2 value of \\~0.23 and training R^2 value of \\~ 0.24, indicating underfitting\n",
        "- n_estimators=300 & max_depth=11: yielded test R^2 value of \\~0.26 and training R^2 value of \\~0.30, indicating slight overfitting"
      ]
    },
    {
      "cell_type": "markdown",
      "metadata": {
        "id": "67ObWLtH7Vx0"
      },
      "source": [
        "## Gradient Boosting Regression"
      ]
    },
    {
      "cell_type": "markdown",
      "metadata": {
        "id": "85vdBTcmvy-e"
      },
      "source": [
        "In order to improve our prediction accuracy, we decide to try Gradient Boosting Regression, which can be more accurate than random forests because each subsequent tree builds upon the results of the previous tree. Since Gradient Boosting Regression is scale-invariant, we choose not to scale our data."
      ]
    },
    {
      "cell_type": "code",
      "execution_count": null,
      "metadata": {
        "id": "5s92W9JNniRB"
      },
      "outputs": [],
      "source": [
        "# Fit XGBRegressor model on training data\n",
        "xgbr = XGBRegressor(eta=0.1, max_depth=12, seed=12345)\n",
        "xgbr.fit(X_train, y_train)\n",
        "\n",
        "# Predict on train and test data\n",
        "y_pred_xgbr_test = xgbr.predict(X_test)\n",
        "y_pred_xgbr_train = xgbr.predict(X_train)"
      ]
    },
    {
      "cell_type": "code",
      "execution_count": null,
      "metadata": {
        "colab": {
          "base_uri": "https://localhost:8080/"
        },
        "id": "jXM_cVMUtEn3",
        "outputId": "b909ca00-595a-4b3c-f356-36567ec8140c"
      },
      "outputs": [
        {
          "output_type": "stream",
          "name": "stdout",
          "text": [
            "Test Set R^2 value: 0.44661038370438755\n",
            "Train Set R^2 value: 0.6931132532182824\n",
            "Mean Squared Error: 174.85634648528628\n"
          ]
        }
      ],
      "source": [
        "# Evaluate the model\n",
        "r2_train = r2_score(y_train, y_pred_xgbr_train)\n",
        "r2_test = r2_score(y_test, y_pred_xgbr_test)\n",
        "mse_xgbr = mean_squared_error(y_test, y_pred_xgbr_test)\n",
        "\n",
        "print('Test Set R^2 value: ' + str(r2_test))\n",
        "print('Train Set R^2 value: ' + str(r2_train))\n",
        "print('Mean Squared Error: ' + str(mse_xgbr))"
      ]
    },
    {
      "cell_type": "markdown",
      "metadata": {
        "id": "_CQrz5GyCNqv"
      },
      "source": [
        "### Hyperparameter Tuning"
      ]
    },
    {
      "cell_type": "markdown",
      "metadata": {
        "id": "JpOvFjv2r6ic"
      },
      "source": [
        "The Gradient Boosting Regression model performed noticeably better than the Random Forest Regression model, with a training R^2 value of \\~0.693 and a test R^2 value of \\~0.447. However, the results still suggest that the model is overfitting to the training data. Thus, we employ both `BayesianOptimization` and `GridSearchCV` to determine the optimal parameters for our model, using negative mean squared error as the scoring metric. The use of k-fold cross validation should mitigate the risk of overfitting by providing a more reliable assessment of the model's performance on new data."
      ]
    },
    {
      "cell_type": "code",
      "execution_count": null,
      "metadata": {
        "id": "Ln8MugNY54MR"
      },
      "outputs": [],
      "source": [
        "# Define the objective function to optimize\n",
        "def objective(eta, max_depth):\n",
        "    max_depth = int(max_depth)\n",
        "    model = XGBRegressor(eta=eta, max_depth=max_depth, random_state=12345)\n",
        "    # Perform cross-validation and return the negative mean squared error\n",
        "    scores = -1.0 * cross_val_score(model, X_train, y_train, cv=5, scoring='neg_mean_squared_error')\n",
        "    return scores.mean()"
      ]
    },
    {
      "cell_type": "code",
      "execution_count": null,
      "metadata": {
        "colab": {
          "base_uri": "https://localhost:8080/"
        },
        "id": "SeXV0qwZ6CGQ",
        "outputId": "ab91f519-6298-42af-8903-3a93abe45504"
      },
      "outputs": [
        {
          "output_type": "stream",
          "name": "stdout",
          "text": [
            "|   iter    |  target   |    eta    | max_depth |\n",
            "-------------------------------------------------\n",
            "| \u001b[0m1        \u001b[0m | \u001b[0m240.6    \u001b[0m | \u001b[0m0.9303   \u001b[0m | \u001b[0m5.847    \u001b[0m |\n",
            "| \u001b[0m2        \u001b[0m | \u001b[0m239.7    \u001b[0m | \u001b[0m0.1921   \u001b[0m | \u001b[0m4.841    \u001b[0m |\n",
            "| \u001b[0m3        \u001b[0m | \u001b[0m211.3    \u001b[0m | \u001b[0m0.572    \u001b[0m | \u001b[0m8.36     \u001b[0m |\n",
            "| \u001b[95m4        \u001b[0m | \u001b[95m243.5    \u001b[0m | \u001b[95m0.9649   \u001b[0m | \u001b[95m8.879    \u001b[0m |\n",
            "| \u001b[0m5        \u001b[0m | \u001b[0m221.8    \u001b[0m | \u001b[0m0.7514   \u001b[0m | \u001b[0m8.882    \u001b[0m |\n",
            "| \u001b[0m6        \u001b[0m | \u001b[0m183.2    \u001b[0m | \u001b[0m0.35     \u001b[0m | \u001b[0m10.88    \u001b[0m |\n",
            "| \u001b[0m7        \u001b[0m | \u001b[0m240.2    \u001b[0m | \u001b[0m0.615    \u001b[0m | \u001b[0m3.008    \u001b[0m |\n",
            "| \u001b[0m8        \u001b[0m | \u001b[0m238.8    \u001b[0m | \u001b[0m0.8863   \u001b[0m | \u001b[0m6.581    \u001b[0m |\n",
            "| \u001b[95m9        \u001b[0m | \u001b[95m244.0    \u001b[0m | \u001b[95m0.9703   \u001b[0m | \u001b[95m8.138    \u001b[0m |\n",
            "| \u001b[0m10       \u001b[0m | \u001b[0m240.3    \u001b[0m | \u001b[0m0.6152   \u001b[0m | \u001b[0m3.008    \u001b[0m |\n",
            "| \u001b[0m11       \u001b[0m | \u001b[0m240.6    \u001b[0m | \u001b[0m0.7299   \u001b[0m | \u001b[0m3.118    \u001b[0m |\n",
            "| \u001b[0m12       \u001b[0m | \u001b[0m240.5    \u001b[0m | \u001b[0m0.5273   \u001b[0m | \u001b[0m3.177    \u001b[0m |\n",
            "| \u001b[95m13       \u001b[0m | \u001b[95m248.2    \u001b[0m | \u001b[95m1.0      \u001b[0m | \u001b[95m7.944    \u001b[0m |\n",
            "| \u001b[0m14       \u001b[0m | \u001b[0m232.5    \u001b[0m | \u001b[0m0.8132   \u001b[0m | \u001b[0m7.96     \u001b[0m |\n",
            "| \u001b[0m15       \u001b[0m | \u001b[0m239.7    \u001b[0m | \u001b[0m0.1006   \u001b[0m | \u001b[0m5.233    \u001b[0m |\n",
            "| \u001b[0m16       \u001b[0m | \u001b[0m245.3    \u001b[0m | \u001b[0m0.9874   \u001b[0m | \u001b[0m7.763    \u001b[0m |\n",
            "| \u001b[0m17       \u001b[0m | \u001b[0m246.4    \u001b[0m | \u001b[0m0.9928   \u001b[0m | \u001b[0m7.519    \u001b[0m |\n",
            "| \u001b[0m18       \u001b[0m | \u001b[0m230.8    \u001b[0m | \u001b[0m0.7962   \u001b[0m | \u001b[0m7.582    \u001b[0m |\n",
            "| \u001b[0m19       \u001b[0m | \u001b[0m248.2    \u001b[0m | \u001b[0m1.0      \u001b[0m | \u001b[0m7.323    \u001b[0m |\n",
            "| \u001b[0m20       \u001b[0m | \u001b[0m241.2    \u001b[0m | \u001b[0m0.9937   \u001b[0m | \u001b[0m4.442    \u001b[0m |\n",
            "=================================================\n",
            "Best Hyperparameters: {'eta': 1.0, 'max_depth': 7.944144034163137}\n"
          ]
        }
      ],
      "source": [
        "# Define the hyperparameter search space/grid\n",
        "param_grid = {\n",
        "    'eta': (0.01, 1),\n",
        "    'max_depth': (3, 12)\n",
        "}\n",
        "\n",
        "# Initialize BayesianOptimization object + perform Bayesian optimization\n",
        "optimizer = BayesianOptimization(f=objective, pbounds=param_grid, random_state=12345)\n",
        "optimizer.maximize(init_points=5, n_iter=15)\n",
        "\n",
        "# Print the best hyperparameters\n",
        "best_hyperparameters = optimizer.max['params']\n",
        "print(\"Best Hyperparameters:\", best_hyperparameters)"
      ]
    },
    {
      "cell_type": "code",
      "execution_count": null,
      "metadata": {
        "id": "kH8A7rC57bR6"
      },
      "outputs": [],
      "source": [
        "# Fit XGBRegressor model with optimal hyperparameters determined via Bayesian Optimization\n",
        "xgbr = XGBRegressor(eta=1.0, max_depth=8, seed=12345)\n",
        "xgbr.fit(X_train, y_train)\n",
        "\n",
        "# Predict on train and test data\n",
        "y_pred_xgbr_test = xgbr.predict(X_test)\n",
        "y_pred_xgbr_train = xgbr.predict(X_train)"
      ]
    },
    {
      "cell_type": "code",
      "execution_count": null,
      "metadata": {
        "colab": {
          "base_uri": "https://localhost:8080/"
        },
        "id": "2EwnJFUG7gGc",
        "outputId": "8dab2321-a81c-45fb-dace-82fdc91351e1"
      },
      "outputs": [
        {
          "output_type": "stream",
          "name": "stdout",
          "text": [
            "Test Set R^2 value: 0.29018956057427614\n",
            "Train Set R^2 value: 0.7133813057746489\n",
            "Mean Squared Error: 224.28115107385275\n"
          ]
        }
      ],
      "source": [
        "# Evaluate the model\n",
        "r2_train = r2_score(y_train, y_pred_xgbr_train)\n",
        "r2_test = r2_score(y_test, y_pred_xgbr_test)\n",
        "mse_xgbr = mean_squared_error(y_test, y_pred_xgbr_test)\n",
        "\n",
        "print('Test Set R^2 value: ' + str(r2_test))\n",
        "print('Train Set R^2 value: ' + str(r2_train))\n",
        "print('Mean Squared Error: ' + str(mse_xgbr))"
      ]
    },
    {
      "cell_type": "markdown",
      "metadata": {
        "id": "KRo9guMyAE5n"
      },
      "source": [
        "The optimal hyperparameters determined via `BayesianOptimization` are eta=1.0 and max_depth=8. This model yields a training R^2 value of \\~0.713 and a test R^2 value of \\~0.290, indicating severe overfitting. Next, we try `GridSearchCV`:"
      ]
    },
    {
      "cell_type": "code",
      "execution_count": null,
      "metadata": {
        "colab": {
          "base_uri": "https://localhost:8080/",
          "height": 1000
        },
        "id": "ubBj1jeMucnH",
        "outputId": "47b54742-bb1f-4c07-9468-ce37fb032e1f"
      },
      "outputs": [
        {
          "output_type": "stream",
          "name": "stdout",
          "text": [
            "Fitting 5 folds for each of 12 candidates, totalling 60 fits\n"
          ]
        },
        {
          "output_type": "stream",
          "name": "stderr",
          "text": [
            "/usr/local/lib/python3.10/dist-packages/sklearn/model_selection/_split.py:700: UserWarning: The least populated class in y has only 2 members, which is less than n_splits=5.\n",
            "  warnings.warn(\n"
          ]
        },
        {
          "output_type": "stream",
          "name": "stdout",
          "text": [
            "[CV] END ..............................eta=0.01, max_depth=3; total time=   3.6s\n",
            "[CV] END ..............................eta=0.01, max_depth=3; total time=   0.9s\n",
            "[CV] END ..............................eta=0.01, max_depth=3; total time=   0.8s\n",
            "[CV] END ..............................eta=0.01, max_depth=3; total time=   0.8s\n",
            "[CV] END ..............................eta=0.01, max_depth=3; total time=   0.8s\n",
            "[CV] END ..............................eta=0.01, max_depth=6; total time=   1.6s\n",
            "[CV] END ..............................eta=0.01, max_depth=6; total time=   1.6s\n",
            "[CV] END ..............................eta=0.01, max_depth=6; total time=   1.7s\n",
            "[CV] END ..............................eta=0.01, max_depth=6; total time=   3.4s\n",
            "[CV] END ..............................eta=0.01, max_depth=6; total time=   2.8s\n",
            "[CV] END ..............................eta=0.01, max_depth=9; total time=   4.2s\n",
            "[CV] END ..............................eta=0.01, max_depth=9; total time=   4.3s\n",
            "[CV] END ..............................eta=0.01, max_depth=9; total time=   7.2s\n",
            "[CV] END ..............................eta=0.01, max_depth=9; total time=   4.4s\n",
            "[CV] END ..............................eta=0.01, max_depth=9; total time=   7.4s\n",
            "[CV] END .............................eta=0.01, max_depth=12; total time=  17.3s\n",
            "[CV] END .............................eta=0.01, max_depth=12; total time=  17.2s\n",
            "[CV] END .............................eta=0.01, max_depth=12; total time=  20.1s\n",
            "[CV] END .............................eta=0.01, max_depth=12; total time=  17.2s\n",
            "[CV] END .............................eta=0.01, max_depth=12; total time=  17.4s\n",
            "[CV] END ...............................eta=0.1, max_depth=3; total time=   0.8s\n",
            "[CV] END ...............................eta=0.1, max_depth=3; total time=   3.8s\n",
            "[CV] END ...............................eta=0.1, max_depth=3; total time=   0.8s\n",
            "[CV] END ...............................eta=0.1, max_depth=3; total time=   0.8s\n",
            "[CV] END ...............................eta=0.1, max_depth=3; total time=   0.8s\n",
            "[CV] END ...............................eta=0.1, max_depth=6; total time=   1.5s\n",
            "[CV] END ...............................eta=0.1, max_depth=6; total time=   1.5s\n",
            "[CV] END ...............................eta=0.1, max_depth=6; total time=   1.5s\n",
            "[CV] END ...............................eta=0.1, max_depth=6; total time=   1.5s\n",
            "[CV] END ...............................eta=0.1, max_depth=6; total time=   1.4s\n",
            "[CV] END ...............................eta=0.1, max_depth=9; total time=   6.6s\n",
            "[CV] END ...............................eta=0.1, max_depth=9; total time=   3.7s\n",
            "[CV] END ...............................eta=0.1, max_depth=9; total time=   5.0s\n",
            "[CV] END ...............................eta=0.1, max_depth=9; total time=   5.1s\n",
            "[CV] END ...............................eta=0.1, max_depth=9; total time=   3.7s\n",
            "[CV] END ..............................eta=0.1, max_depth=12; total time=  13.6s\n",
            "[CV] END ..............................eta=0.1, max_depth=12; total time=  14.0s\n",
            "[CV] END ..............................eta=0.1, max_depth=12; total time=  13.9s\n",
            "[CV] END ..............................eta=0.1, max_depth=12; total time=  14.0s\n",
            "[CV] END ..............................eta=0.1, max_depth=12; total time=  14.1s\n",
            "[CV] END .................................eta=1, max_depth=3; total time=   0.8s\n",
            "[CV] END .................................eta=1, max_depth=3; total time=   0.8s\n",
            "[CV] END .................................eta=1, max_depth=3; total time=   3.9s\n",
            "[CV] END .................................eta=1, max_depth=3; total time=   0.8s\n",
            "[CV] END .................................eta=1, max_depth=3; total time=   0.8s\n",
            "[CV] END .................................eta=1, max_depth=6; total time=   1.4s\n",
            "[CV] END .................................eta=1, max_depth=6; total time=   1.4s\n",
            "[CV] END .................................eta=1, max_depth=6; total time=   1.4s\n",
            "[CV] END .................................eta=1, max_depth=6; total time=   1.4s\n",
            "[CV] END .................................eta=1, max_depth=6; total time=   1.4s\n",
            "[CV] END .................................eta=1, max_depth=9; total time=   6.7s\n",
            "[CV] END .................................eta=1, max_depth=9; total time=   3.7s\n",
            "[CV] END .................................eta=1, max_depth=9; total time=   3.7s\n",
            "[CV] END .................................eta=1, max_depth=9; total time=   6.7s\n",
            "[CV] END .................................eta=1, max_depth=9; total time=   3.8s\n",
            "[CV] END ................................eta=1, max_depth=12; total time=  14.8s\n",
            "[CV] END ................................eta=1, max_depth=12; total time=  14.7s\n",
            "[CV] END ................................eta=1, max_depth=12; total time=  14.8s\n",
            "[CV] END ................................eta=1, max_depth=12; total time=  17.6s\n",
            "[CV] END ................................eta=1, max_depth=12; total time=  14.7s\n"
          ]
        },
        {
          "output_type": "execute_result",
          "data": {
            "text/plain": [
              "GridSearchCV(cv=StratifiedKFold(n_splits=5, random_state=12345, shuffle=True),\n",
              "             estimator=XGBRegressor(base_score=None, booster=None,\n",
              "                                    callbacks=None, colsample_bylevel=None,\n",
              "                                    colsample_bynode=None,\n",
              "                                    colsample_bytree=None, device=None,\n",
              "                                    early_stopping_rounds=None,\n",
              "                                    enable_categorical=False, eval_metric=None,\n",
              "                                    feature_types=None, gamma=None,\n",
              "                                    grow_policy=None, importance_t...\n",
              "                                    max_cat_threshold=None,\n",
              "                                    max_cat_to_onehot=None, max_delta_step=None,\n",
              "                                    max_depth=None, max_leaves=None,\n",
              "                                    min_child_weight=None, missing=nan,\n",
              "                                    monotone_constraints=None,\n",
              "                                    multi_strategy=None, n_estimators=None,\n",
              "                                    n_jobs=None, num_parallel_tree=None,\n",
              "                                    random_state=None, ...),\n",
              "             param_grid={'eta': [0.01, 0.1, 1], 'max_depth': [3, 6, 9, 12]},\n",
              "             scoring='neg_mean_squared_error', verbose=2)"
            ],
            "text/html": [
              "<style>#sk-container-id-2 {color: black;background-color: white;}#sk-container-id-2 pre{padding: 0;}#sk-container-id-2 div.sk-toggleable {background-color: white;}#sk-container-id-2 label.sk-toggleable__label {cursor: pointer;display: block;width: 100%;margin-bottom: 0;padding: 0.3em;box-sizing: border-box;text-align: center;}#sk-container-id-2 label.sk-toggleable__label-arrow:before {content: \"▸\";float: left;margin-right: 0.25em;color: #696969;}#sk-container-id-2 label.sk-toggleable__label-arrow:hover:before {color: black;}#sk-container-id-2 div.sk-estimator:hover label.sk-toggleable__label-arrow:before {color: black;}#sk-container-id-2 div.sk-toggleable__content {max-height: 0;max-width: 0;overflow: hidden;text-align: left;background-color: #f0f8ff;}#sk-container-id-2 div.sk-toggleable__content pre {margin: 0.2em;color: black;border-radius: 0.25em;background-color: #f0f8ff;}#sk-container-id-2 input.sk-toggleable__control:checked~div.sk-toggleable__content {max-height: 200px;max-width: 100%;overflow: auto;}#sk-container-id-2 input.sk-toggleable__control:checked~label.sk-toggleable__label-arrow:before {content: \"▾\";}#sk-container-id-2 div.sk-estimator input.sk-toggleable__control:checked~label.sk-toggleable__label {background-color: #d4ebff;}#sk-container-id-2 div.sk-label input.sk-toggleable__control:checked~label.sk-toggleable__label {background-color: #d4ebff;}#sk-container-id-2 input.sk-hidden--visually {border: 0;clip: rect(1px 1px 1px 1px);clip: rect(1px, 1px, 1px, 1px);height: 1px;margin: -1px;overflow: hidden;padding: 0;position: absolute;width: 1px;}#sk-container-id-2 div.sk-estimator {font-family: monospace;background-color: #f0f8ff;border: 1px dotted black;border-radius: 0.25em;box-sizing: border-box;margin-bottom: 0.5em;}#sk-container-id-2 div.sk-estimator:hover {background-color: #d4ebff;}#sk-container-id-2 div.sk-parallel-item::after {content: \"\";width: 100%;border-bottom: 1px solid gray;flex-grow: 1;}#sk-container-id-2 div.sk-label:hover label.sk-toggleable__label {background-color: #d4ebff;}#sk-container-id-2 div.sk-serial::before {content: \"\";position: absolute;border-left: 1px solid gray;box-sizing: border-box;top: 0;bottom: 0;left: 50%;z-index: 0;}#sk-container-id-2 div.sk-serial {display: flex;flex-direction: column;align-items: center;background-color: white;padding-right: 0.2em;padding-left: 0.2em;position: relative;}#sk-container-id-2 div.sk-item {position: relative;z-index: 1;}#sk-container-id-2 div.sk-parallel {display: flex;align-items: stretch;justify-content: center;background-color: white;position: relative;}#sk-container-id-2 div.sk-item::before, #sk-container-id-2 div.sk-parallel-item::before {content: \"\";position: absolute;border-left: 1px solid gray;box-sizing: border-box;top: 0;bottom: 0;left: 50%;z-index: -1;}#sk-container-id-2 div.sk-parallel-item {display: flex;flex-direction: column;z-index: 1;position: relative;background-color: white;}#sk-container-id-2 div.sk-parallel-item:first-child::after {align-self: flex-end;width: 50%;}#sk-container-id-2 div.sk-parallel-item:last-child::after {align-self: flex-start;width: 50%;}#sk-container-id-2 div.sk-parallel-item:only-child::after {width: 0;}#sk-container-id-2 div.sk-dashed-wrapped {border: 1px dashed gray;margin: 0 0.4em 0.5em 0.4em;box-sizing: border-box;padding-bottom: 0.4em;background-color: white;}#sk-container-id-2 div.sk-label label {font-family: monospace;font-weight: bold;display: inline-block;line-height: 1.2em;}#sk-container-id-2 div.sk-label-container {text-align: center;}#sk-container-id-2 div.sk-container {/* jupyter's `normalize.less` sets `[hidden] { display: none; }` but bootstrap.min.css set `[hidden] { display: none !important; }` so we also need the `!important` here to be able to override the default hidden behavior on the sphinx rendered scikit-learn.org. See: https://github.com/scikit-learn/scikit-learn/issues/21755 */display: inline-block !important;position: relative;}#sk-container-id-2 div.sk-text-repr-fallback {display: none;}</style><div id=\"sk-container-id-2\" class=\"sk-top-container\"><div class=\"sk-text-repr-fallback\"><pre>GridSearchCV(cv=StratifiedKFold(n_splits=5, random_state=12345, shuffle=True),\n",
              "             estimator=XGBRegressor(base_score=None, booster=None,\n",
              "                                    callbacks=None, colsample_bylevel=None,\n",
              "                                    colsample_bynode=None,\n",
              "                                    colsample_bytree=None, device=None,\n",
              "                                    early_stopping_rounds=None,\n",
              "                                    enable_categorical=False, eval_metric=None,\n",
              "                                    feature_types=None, gamma=None,\n",
              "                                    grow_policy=None, importance_t...\n",
              "                                    max_cat_threshold=None,\n",
              "                                    max_cat_to_onehot=None, max_delta_step=None,\n",
              "                                    max_depth=None, max_leaves=None,\n",
              "                                    min_child_weight=None, missing=nan,\n",
              "                                    monotone_constraints=None,\n",
              "                                    multi_strategy=None, n_estimators=None,\n",
              "                                    n_jobs=None, num_parallel_tree=None,\n",
              "                                    random_state=None, ...),\n",
              "             param_grid={&#x27;eta&#x27;: [0.01, 0.1, 1], &#x27;max_depth&#x27;: [3, 6, 9, 12]},\n",
              "             scoring=&#x27;neg_mean_squared_error&#x27;, verbose=2)</pre><b>In a Jupyter environment, please rerun this cell to show the HTML representation or trust the notebook. <br />On GitHub, the HTML representation is unable to render, please try loading this page with nbviewer.org.</b></div><div class=\"sk-container\" hidden><div class=\"sk-item sk-dashed-wrapped\"><div class=\"sk-label-container\"><div class=\"sk-label sk-toggleable\"><input class=\"sk-toggleable__control sk-hidden--visually\" id=\"sk-estimator-id-2\" type=\"checkbox\" ><label for=\"sk-estimator-id-2\" class=\"sk-toggleable__label sk-toggleable__label-arrow\">GridSearchCV</label><div class=\"sk-toggleable__content\"><pre>GridSearchCV(cv=StratifiedKFold(n_splits=5, random_state=12345, shuffle=True),\n",
              "             estimator=XGBRegressor(base_score=None, booster=None,\n",
              "                                    callbacks=None, colsample_bylevel=None,\n",
              "                                    colsample_bynode=None,\n",
              "                                    colsample_bytree=None, device=None,\n",
              "                                    early_stopping_rounds=None,\n",
              "                                    enable_categorical=False, eval_metric=None,\n",
              "                                    feature_types=None, gamma=None,\n",
              "                                    grow_policy=None, importance_t...\n",
              "                                    max_cat_threshold=None,\n",
              "                                    max_cat_to_onehot=None, max_delta_step=None,\n",
              "                                    max_depth=None, max_leaves=None,\n",
              "                                    min_child_weight=None, missing=nan,\n",
              "                                    monotone_constraints=None,\n",
              "                                    multi_strategy=None, n_estimators=None,\n",
              "                                    n_jobs=None, num_parallel_tree=None,\n",
              "                                    random_state=None, ...),\n",
              "             param_grid={&#x27;eta&#x27;: [0.01, 0.1, 1], &#x27;max_depth&#x27;: [3, 6, 9, 12]},\n",
              "             scoring=&#x27;neg_mean_squared_error&#x27;, verbose=2)</pre></div></div></div><div class=\"sk-parallel\"><div class=\"sk-parallel-item\"><div class=\"sk-item\"><div class=\"sk-label-container\"><div class=\"sk-label sk-toggleable\"><input class=\"sk-toggleable__control sk-hidden--visually\" id=\"sk-estimator-id-3\" type=\"checkbox\" ><label for=\"sk-estimator-id-3\" class=\"sk-toggleable__label sk-toggleable__label-arrow\">estimator: XGBRegressor</label><div class=\"sk-toggleable__content\"><pre>XGBRegressor(base_score=None, booster=None, callbacks=None,\n",
              "             colsample_bylevel=None, colsample_bynode=None,\n",
              "             colsample_bytree=None, device=None, early_stopping_rounds=None,\n",
              "             enable_categorical=False, eval_metric=None, feature_types=None,\n",
              "             gamma=None, grow_policy=None, importance_type=None,\n",
              "             interaction_constraints=None, learning_rate=None, max_bin=None,\n",
              "             max_cat_threshold=None, max_cat_to_onehot=None,\n",
              "             max_delta_step=None, max_depth=None, max_leaves=None,\n",
              "             min_child_weight=None, missing=nan, monotone_constraints=None,\n",
              "             multi_strategy=None, n_estimators=None, n_jobs=None,\n",
              "             num_parallel_tree=None, random_state=None, ...)</pre></div></div></div><div class=\"sk-serial\"><div class=\"sk-item\"><div class=\"sk-estimator sk-toggleable\"><input class=\"sk-toggleable__control sk-hidden--visually\" id=\"sk-estimator-id-4\" type=\"checkbox\" ><label for=\"sk-estimator-id-4\" class=\"sk-toggleable__label sk-toggleable__label-arrow\">XGBRegressor</label><div class=\"sk-toggleable__content\"><pre>XGBRegressor(base_score=None, booster=None, callbacks=None,\n",
              "             colsample_bylevel=None, colsample_bynode=None,\n",
              "             colsample_bytree=None, device=None, early_stopping_rounds=None,\n",
              "             enable_categorical=False, eval_metric=None, feature_types=None,\n",
              "             gamma=None, grow_policy=None, importance_type=None,\n",
              "             interaction_constraints=None, learning_rate=None, max_bin=None,\n",
              "             max_cat_threshold=None, max_cat_to_onehot=None,\n",
              "             max_delta_step=None, max_depth=None, max_leaves=None,\n",
              "             min_child_weight=None, missing=nan, monotone_constraints=None,\n",
              "             multi_strategy=None, n_estimators=None, n_jobs=None,\n",
              "             num_parallel_tree=None, random_state=None, ...)</pre></div></div></div></div></div></div></div></div></div></div>"
            ]
          },
          "metadata": {},
          "execution_count": 76
        }
      ],
      "source": [
        "# Define the XGBRegressor model/estimator\n",
        "estimator = XGBRegressor()\n",
        "\n",
        "# Define the hyperparameter search space/grid\n",
        "param_grid = {\n",
        "    'eta': [0.01, 0.1, 1],\n",
        "    'max_depth': [3, 6, 9, 12]\n",
        "}\n",
        "\n",
        "# Define the stratified cross-validation splitter\n",
        "cv = StratifiedKFold(random_state=12345, shuffle=True, n_splits=5)\n",
        "\n",
        "# Set up the grid search\n",
        "search = GridSearchCV(estimator, param_grid, cv=cv, scoring='neg_mean_squared_error', verbose=2)\n",
        "\n",
        "# Execute the grid search\n",
        "search.fit(X_train, y_train)"
      ]
    },
    {
      "cell_type": "code",
      "execution_count": null,
      "metadata": {
        "colab": {
          "base_uri": "https://localhost:8080/"
        },
        "id": "sMRqn0BhxU7V",
        "outputId": "52d9654d-eff3-48d5-dc0b-a464360603a6"
      },
      "outputs": [
        {
          "output_type": "stream",
          "name": "stdout",
          "text": [
            "XGBRegressor(base_score=None, booster=None, callbacks=None,\n",
            "             colsample_bylevel=None, colsample_bynode=None,\n",
            "             colsample_bytree=None, device=None, early_stopping_rounds=None,\n",
            "             enable_categorical=False, eta=0.1, eval_metric=None,\n",
            "             feature_types=None, gamma=None, grow_policy=None,\n",
            "             importance_type=None, interaction_constraints=None,\n",
            "             learning_rate=None, max_bin=None, max_cat_threshold=None,\n",
            "             max_cat_to_onehot=None, max_delta_step=None, max_depth=12,\n",
            "             max_leaves=None, min_child_weight=None, missing=nan,\n",
            "             monotone_constraints=None, multi_strategy=None, n_estimators=None,\n",
            "             n_jobs=None, num_parallel_tree=None, ...)\n"
          ]
        }
      ],
      "source": [
        "# Display best estimator\n",
        "best_params = search.best_estimator_\n",
        "print(best_params)"
      ]
    },
    {
      "cell_type": "markdown",
      "metadata": {
        "id": "S3hu71gmzQHx"
      },
      "source": [
        "The optimal parameters determined via `GridSearchCV` end up being the parameters we originally chose: eta=0.1 and max_depth=12. Thus, the best XBGRegressor model within our hyperparameter search space has a training R^2 value of \\~0.693 and a test R^2 value of \\~0.447, and the lowest mean squared error we were able to achieve is \\~174.9."
      ]
    },
    {
      "cell_type": "markdown",
      "metadata": {
        "id": "eqw3y9vU-CnF"
      },
      "source": [
        "# Summary"
      ]
    },
    {
      "cell_type": "markdown",
      "metadata": {
        "id": "5BUoi5MgNOKk"
      },
      "source": [
        "## Approach/Methods"
      ]
    },
    {
      "cell_type": "markdown",
      "metadata": {
        "id": "uH_fUxL0NYAN"
      },
      "source": [
        "**Feature Engineering:** \\\\\n",
        "To prepare for our modeling process, we one-hot encoded our categorical `key` column, scaled our data, and applied Principal Component Analysis (PCA) to account for multicollinearity, which we explored a bit in our EDA. We chose to apply PCA because linear regression assumes little to no multicollinearity in the data."
      ]
    },
    {
      "cell_type": "markdown",
      "metadata": {
        "id": "vPG7eNEanuPz"
      },
      "source": [
        "**Baseline Model:** \\\\\n",
        "For our baseline model, linear regression seemed like a good choice because our target variable, `popularity`, is continuous. However, our R^2 values were relatively low (~0.06 for both training and test sets) and indicated underfitting, which is why we looked to more complex models in our next step. Training linear regression models on variations of our input data also shed some light on issues with our data, including noise from the overwhelming number of outlier songs with popularity=0 and suspected loss of information from applying PCA, both of which we addressed in our second feature engineering step.\n",
        "\n",
        "**Feature Engineering cont.** \\\\\n",
        "In our second feature engineering step, we dropped all songs with popularity=0 and created new training and test sets (without scaling or applying PCA). Since we were interested in what specific audio features contribute most to song popularity and our PCA approach lacked explainability, we implemented Random Forest Feature Selection and visualized the feature importances as a horizontal bar plot.\n",
        "\n",
        "**Model #2** \\\\\n",
        "We chose to implement Random Forest Regression as our second model in hopes of addressing the underfitting we had observed. Random Forest Regression, which is built on decision trees, is a more complex model that we thought might be able to capture the underlying patterns and relationships in our data. We used hyperparameters n_estimators=500 and max_depth=12; we chose relatively high values because we hoped to mitigate the risk of underfitting. Our Random Forest Regression model yielded a training R^2 value of \\~0.34 and a test R^2 value of \\~0.28, which was a noticeable improvement from our baseline model. However, the comparably high test error vs the comparably low training error suggested that our model was now beginning to overfit. To address this, we attempted to implement `GridSearchCV` and `BayesianOptimization`, but they were unable to execute in a reasonable amount of time, so we moved on to our next model instead.\n",
        "\n",
        "**Model #3** \\\\\n",
        "The third and final model we chose to implement was Gradient Boosting Regression. Aiming to improve both our training and test accuracy, we chose this model because it tends to be more powerful and accurate than Random Forest Regression due to its use of gradient descent; each subsequent tree builds upon the results of the previous tree. Our initial choice of hyperparameters was eta=0.1 and max_depth=12, which felt like a standard place to start. This yielded a training R^2 value of \\~0.69 and a test R^2 value of \\~0.45, which was an improvement from our Random Forest Regression model. However, since we were still observing overfitting, we decided to employ `GridSearchCV` and `BayesianOptimization`. The hyperparameters obtained via Bayesian optimization yielded an extremely overfitted model, while the hyperparameters were the same ones we originally chose (eta=0.1, max_depth=12). Thus, we determined that this was the best model within our hyperparameter search space, with a mean squared error of \\~174.9."
      ]
    },
    {
      "cell_type": "markdown",
      "metadata": {
        "id": "kU57VdCCNQHy"
      },
      "source": [
        "## Results"
      ]
    },
    {
      "cell_type": "markdown",
      "metadata": {
        "id": "56lTpmina04K"
      },
      "source": [
        "Overall, Gradient Boosting Regression (with eta=0.1 and max_depth=12) performed the best, with the lowest mean squared error of \\~174.9 and training and test R^2 values of \\~0.69 and \\~0.45, respectively. On the other hand, Linear Regression performed the worst, with a mean squared error of \\~329.3 and training and test R^2 values of \\~0.058 and \\~0.060, respectively. Random Forest Regression performed better than Linear Regression but worse than Gradient Boosting Regression, with a mean squared error of \\~228.4 and training and test R^2 values of \\~0.34 and \\~0.28, respectively. RFR and XGBoost likely performed better because they are more complex models built on decision trees, while LR is a simpler model. XGBoost likely performed the best because it utilizes gradient descent, building upon the results of each previous tree."
      ]
    },
    {
      "cell_type": "markdown",
      "metadata": {
        "id": "jS40G1mZNRwW"
      },
      "source": [
        "## Conclusion & Discussion"
      ]
    },
    {
      "cell_type": "markdown",
      "metadata": {
        "id": "en9vH6KsK1sX"
      },
      "source": [
        "**Main Takeaways:**\n",
        "- From our Random Forest Feature Selection step, we discovered that `artist_num_songs`, the number of times an artist appears in the dataset, was the most important feature in our Random Forest Regression model by a substantial margin. Following was `loudness`, then `instrumentalness`, and then `valence`, `danceability`, `energy`, `acousticness`, `duration_s`, `speechiness`, `tempo`, and `liveness`. From the bar plot we created, it seems that `mode` and the binary key columns had little to no importance in the model. This was somewhat surprising for us, as in our EDA we had computed a \\~0.96 correlation value between song popularity and mean danceability, and we predicted that danceability would be extremely important due to the impact of social media. However, this data was collected in 2018 and 2019, which was just around the time when Tiktok first became popular; it would be interesting to collect more recent data and investigate whether danceability has become more important now, with the pervasiveness of Tiktok and Instagram reels.\n",
        "- From our implementation of Linear Regression, we noticed that what most improved our model performance was cleaning the data, as well as using non PCA-transformed data. The outlier songs with popularity=0 seemed to be contributing noise and detracting from the performance of the model, and our use of PCA seemed to result in a loss of information that also hindered the performance of the model.\n",
        "- Some limitations of Linear Regression that likely contributed to poor performance is the simplicity of the model. This resulted in underfitting, as the data was probably too complex for the model to capture. Limitations of Random Forest Regression include sensitivity to hyperparameters and tendency to overfit; since we were unable to do any hyperparameter tuning for this model, the hyperparameters we chose may not have been optimal, resulting in decreased performance. A limitation of Gradient Boosting Regression is also proneness to overfitting, which we saw even in our most optimal model.\n",
        "\n",
        "**Implications:**\n",
        "- Our work in this project provided some insight into what audio features contribute most to song popularity. While `artist_num_songs` might not be the most helpful feature (simply because it is due to the fact that artists with huge numbers of songs are mostly classical musicians who aren't popular with the average Spotify user), songwriters, producers, and stakeholders in music production companies may want to consider the fact that `loudness`, and `instrumentalness` are relatively important in predicting song popularity. On the other hand, features like `valence`, `danceability`, and `energy` all have values under \\~0.05, making them relatively less important.\n",
        "- Stakeholders at music production companies may also want to consider further research on this, as we have only tried a few models, and there is likely much more that can be learned.\n",
        "\n",
        "**Future Work:**\n",
        "- Use the Spotify API to collect more data and more recent data\n",
        "- Collect data from other platforms (Apple Music, Billboard, Youtube Music, etc.)\n",
        "- Join with a dataset that contains information about song release dates; it would be interesting to learn more about trends in acoustic features over time.\n",
        "- Implement Recursive Feature Elimination with Random Forest Feature Selection to confirm which features are least important (and should be removed). We tried implementing this, but the execution was taking too long (> 1 hour).\n",
        "- Implement hyperparameter tuning (`GridSearchCV`, `BayesianOptimization`, `RandomizedSearchCV`) for the Random Forest Regression model. We tried implementing this as well, but the execution was also taking too long.\n",
        "- Experiment with neural networks to see if our training and test R^2 values can be improved and use regularization techniques to address the overfitting we've observed"
      ]
    },
    {
      "cell_type": "markdown",
      "metadata": {
        "id": "L-WUJbqD8W6y"
      },
      "source": [
        "**Sources**\n",
        "- [Random Forest Feature Selection Tutorial](https://www.yourdatateacher.com/2021/10/11/feature-selection-with-random-forest/)\n",
        "- [Example final project](https://colab.research.google.com/drive/1u1O5IVfcgPxvPljJTIi2klpscE74Iubj?usp=sharing#scrollTo=d4KGwL8KNI2C)\n",
        "- Past homeworks (mainly HW4 and HW5) and recitation notebooks"
      ]
    }
  ],
  "metadata": {
    "colab": {
      "gpuType": "T4",
      "provenance": []
    },
    "kernelspec": {
      "display_name": "Python 3",
      "name": "python3"
    },
    "language_info": {
      "name": "python"
    }
  },
  "nbformat": 4,
  "nbformat_minor": 0
}